{
 "cells": [
  {
   "cell_type": "code",
   "execution_count": 10,
   "id": "f31c1789-f63d-46a7-a8ce-62016798d240",
   "metadata": {},
   "outputs": [],
   "source": [
    "import numpy as np\n",
    "from numpy import random "
   ]
  },
  {
   "cell_type": "markdown",
   "id": "ea70d3c5-80c4-48a3-b206-db97924d096e",
   "metadata": {},
   "source": [
    "#### 1. Create a numpy matrix of 3*2 float numbers, filled with ones. "
   ]
  },
  {
   "cell_type": "code",
   "execution_count": 7,
   "id": "48b8ad51-ba8c-4004-b2e8-96aecc57fb1d",
   "metadata": {},
   "outputs": [
    {
     "data": {
      "text/plain": [
       "array([[1., 1.],\n",
       "       [1., 1.],\n",
       "       [1., 1.]])"
      ]
     },
     "execution_count": 7,
     "metadata": {},
     "output_type": "execute_result"
    }
   ],
   "source": [
    "np.ones((3, 2), dtype=\"float\")"
   ]
  },
  {
   "cell_type": "markdown",
   "id": "70a1080d-41f3-4460-8443-c2f102248783",
   "metadata": {},
   "source": [
    "#### 2. Given the X numpy array, create a new numpy array with the same shape and type as X, filled with sevens."
   ]
  },
  {
   "cell_type": "code",
   "execution_count": 8,
   "id": "47ac0a22-c174-4818-b60a-50aabbef0918",
   "metadata": {},
   "outputs": [],
   "source": [
    "X = np.array([[[8, 3, 16, 2], [14, 7, 12, 0]], \n",
    "              [[3, 15, 0, 1], [2, 8, 3, -4]]], dtype='int8')"
   ]
  },
  {
   "cell_type": "code",
   "execution_count": 18,
   "id": "bcaf28ec-8259-43cf-9578-ce4902ac7476",
   "metadata": {},
   "outputs": [
    {
     "data": {
      "text/plain": [
       "array([[[7, 7, 7, 7],\n",
       "        [7, 7, 7, 7]],\n",
       "\n",
       "       [[7, 7, 7, 7],\n",
       "        [7, 7, 7, 7]]], dtype=int8)"
      ]
     },
     "execution_count": 18,
     "metadata": {},
     "output_type": "execute_result"
    }
   ],
   "source": [
    "new_sevens = np.full_like(X, 7)\n",
    "new_sevens\n"
   ]
  },
  {
   "cell_type": "code",
   "execution_count": 19,
   "id": "e462ee6d-3d70-4b5c-acdf-9c886616745f",
   "metadata": {},
   "outputs": [
    {
     "name": "stdout",
     "output_type": "stream",
     "text": [
      "(2, 2, 4)\n",
      "(2, 2, 4)\n"
     ]
    }
   ],
   "source": [
    "print(X.shape)\n",
    "print(new_sevens.shape)"
   ]
  },
  {
   "cell_type": "markdown",
   "id": "d0260243-d7bd-42f1-aef4-46d6f4a4ec92",
   "metadata": {},
   "source": [
    "#### 3. Create a 3*3*3 numpy matrix filled with random integer values between 1 and 10."
   ]
  },
  {
   "cell_type": "code",
   "execution_count": 15,
   "id": "21929159-8cc8-44a8-8b7f-ee6a464ce997",
   "metadata": {},
   "outputs": [
    {
     "data": {
      "text/plain": [
       "array([[[ 1,  9,  2],\n",
       "        [ 6,  9,  6],\n",
       "        [ 8,  3, 10]],\n",
       "\n",
       "       [[10,  6,  9],\n",
       "        [ 7,  1,  5],\n",
       "        [ 8,  9, 10]],\n",
       "\n",
       "       [[ 9, 10,  1],\n",
       "        [ 8, 10, 10],\n",
       "        [ 3,  7,  9]]], dtype=int32)"
      ]
     },
     "execution_count": 15,
     "metadata": {},
     "output_type": "execute_result"
    }
   ],
   "source": [
    "random.randint(1, 11, size=(3, 3, 3))"
   ]
  },
  {
   "cell_type": "markdown",
   "id": "fbfe69c3-2e84-4e6d-b7c4-d57e86e6002a",
   "metadata": {},
   "source": [
    "#### 4. Create a numpy array with the odd numbers from 1 to 10, in descending order.\n"
   ]
  },
  {
   "cell_type": "code",
   "execution_count": 27,
   "id": "6bbd7e27-7e99-4cc2-895d-914d531b227a",
   "metadata": {},
   "outputs": [
    {
     "data": {
      "text/plain": [
       "array([9, 7, 5, 3, 1])"
      ]
     },
     "execution_count": 27,
     "metadata": {},
     "output_type": "execute_result"
    }
   ],
   "source": [
    "np.arange(9, 0, -2)"
   ]
  },
  {
   "cell_type": "markdown",
   "id": "35ea4a4a-1dcb-4c35-812f-9754c81007d7",
   "metadata": {},
   "source": [
    "#### 5. Create a 3*3 numpy matrix, filled with values ranging from 0 to 8."
   ]
  },
  {
   "cell_type": "code",
   "execution_count": 30,
   "id": "414f5803-d91f-4729-8063-f796616649f0",
   "metadata": {},
   "outputs": [
    {
     "data": {
      "text/plain": [
       "array([[0, 1, 2],\n",
       "       [3, 4, 5],\n",
       "       [6, 7, 8]])"
      ]
     },
     "execution_count": 30,
     "metadata": {},
     "output_type": "execute_result"
    }
   ],
   "source": [
    "np.arange(9).reshape(3, 3)"
   ]
  },
  {
   "cell_type": "markdown",
   "id": "d364967f-fc61-4268-9059-c7cc2697a289",
   "metadata": {},
   "source": [
    "#### 6. Given the X numpy matrix, show the first two elements on the first two rows.\n"
   ]
  },
  {
   "cell_type": "code",
   "execution_count": 31,
   "id": "594fbbc5-090e-4244-a844-dbd9276b580c",
   "metadata": {},
   "outputs": [],
   "source": [
    "X = np.array([\n",
    "    [1,   2,  3,  4],\n",
    "    [5,   6,  7,  8],\n",
    "    [9,  10, 11, 12],\n",
    "    [13, 14, 15, 16]\n",
    "])"
   ]
  },
  {
   "cell_type": "code",
   "execution_count": 37,
   "id": "ec7b7854-e029-46bc-998f-0a24d87a1ffe",
   "metadata": {},
   "outputs": [
    {
     "name": "stdout",
     "output_type": "stream",
     "text": [
      "[1 2]\n",
      "[5 6]\n"
     ]
    }
   ],
   "source": [
    "print(X[0, :2])\n",
    "print(X[1, :2])"
   ]
  },
  {
   "cell_type": "markdown",
   "id": "04f0137b-30e9-4ac9-8268-0f070647d3e8",
   "metadata": {},
   "source": [
    "#### 7. Given the X numpy matrix, change the last item on the last row with a 0.\n"
   ]
  },
  {
   "cell_type": "code",
   "execution_count": 56,
   "id": "d24f42f9-2f0c-483e-9f1b-6f2c36998dad",
   "metadata": {},
   "outputs": [
    {
     "name": "stdout",
     "output_type": "stream",
     "text": [
      "0\n"
     ]
    }
   ],
   "source": [
    "X = np.array([\n",
    "    [1,   2,  3,  4],\n",
    "    [5,   6,  7,  8],\n",
    "    [9,  10, 11, 12],\n",
    "    [13, 14, 15, 16]\n",
    "])\n",
    "\n",
    "X[3, 3] = 0\n",
    "print(X[3, 3])"
   ]
  },
  {
   "cell_type": "code",
   "execution_count": 55,
   "id": "4e1db040-b11a-40e5-8146-62952c661bc8",
   "metadata": {},
   "outputs": [
    {
     "name": "stdout",
     "output_type": "stream",
     "text": [
      "[[ 1  2  3  4]\n",
      " [ 5  6  7  8]\n",
      " [ 9 10 11 12]\n",
      " [13 14 15  0]]\n"
     ]
    }
   ],
   "source": [
    "print(X)"
   ]
  },
  {
   "cell_type": "markdown",
   "id": "753ad35a-6c90-4442-bb8b-3a258bdccf9a",
   "metadata": {},
   "source": [
    "#### 8. Given the X numpy array, get numbers higher than the elements mean.\n"
   ]
  },
  {
   "cell_type": "code",
   "execution_count": 53,
   "id": "5ac16fcf-1537-4981-86a8-a7634f81c055",
   "metadata": {},
   "outputs": [
    {
     "data": {
      "text/plain": [
       "np.float64(0.9)"
      ]
     },
     "execution_count": 53,
     "metadata": {},
     "output_type": "execute_result"
    }
   ],
   "source": [
    "X = np.array([-1, 2, 0, -4, 5, 6, 0, 0, -9, 10])\n",
    "X.mean()"
   ]
  },
  {
   "cell_type": "code",
   "execution_count": 59,
   "id": "357b7afe-7c29-4578-bef3-b59c16c5cf03",
   "metadata": {},
   "outputs": [
    {
     "data": {
      "text/plain": [
       "array([ 8,  9, 10, 11, 12, 13, 14, 15])"
      ]
     },
     "execution_count": 59,
     "metadata": {},
     "output_type": "execute_result"
    }
   ],
   "source": [
    "mask = X > X.mean()\n",
    "X[mask]"
   ]
  },
  {
   "cell_type": "markdown",
   "id": "e63f1473-7ead-4b40-88f4-71db803f5a30",
   "metadata": {},
   "source": [
    "#### 9. Given the X numpy matrix, get the odd numbers higher than the elements mean, but not including 15. \n"
   ]
  },
  {
   "cell_type": "code",
   "execution_count": 88,
   "id": "70c20457-a205-4f76-9cc8-6dea92bb0e24",
   "metadata": {},
   "outputs": [],
   "source": [
    "X = np.array([\n",
    "    [1,   2,  3,  4],\n",
    "    [5,   6,  7,  8],\n",
    "    [9,  10, 11, 12],\n",
    "    [13, 14, 15, 16]\n",
    "])"
   ]
  },
  {
   "cell_type": "code",
   "execution_count": 89,
   "id": "313cdb3f-0e9b-4ffe-9deb-1e7b0dc2481c",
   "metadata": {},
   "outputs": [
    {
     "data": {
      "text/plain": [
       "array([ 1,  2,  3,  4,  5,  6,  7,  8,  9, 10, 11, 12, 13, 14, 15, 16])"
      ]
     },
     "execution_count": 89,
     "metadata": {},
     "output_type": "execute_result"
    }
   ],
   "source": [
    "flat_X = X.flatten()\n",
    "flat_X"
   ]
  },
  {
   "cell_type": "code",
   "execution_count": 91,
   "id": "337a254b-8010-45ce-a55f-f321124e6aef",
   "metadata": {},
   "outputs": [
    {
     "data": {
      "text/plain": [
       "np.float64(8.5)"
      ]
     },
     "execution_count": 91,
     "metadata": {},
     "output_type": "execute_result"
    }
   ],
   "source": [
    "mean = X.mean()\n",
    "mean"
   ]
  },
  {
   "cell_type": "code",
   "execution_count": 93,
   "id": "21b60449-8c72-466b-8fa0-e048e8261f7e",
   "metadata": {},
   "outputs": [
    {
     "data": {
      "text/plain": [
       "array([ 1,  3,  5,  7,  9, 11, 13, 15])"
      ]
     },
     "execution_count": 93,
     "metadata": {},
     "output_type": "execute_result"
    }
   ],
   "source": [
    "odd_numbers = np.arange(1, 16, 2)\n",
    "odd_numbers"
   ]
  },
  {
   "cell_type": "code",
   "execution_count": 105,
   "id": "f6009553-d28d-480f-80b9-81f8da4755e4",
   "metadata": {},
   "outputs": [
    {
     "data": {
      "text/plain": [
       "array([ 9, 11, 13])"
      ]
     },
     "execution_count": 105,
     "metadata": {},
     "output_type": "execute_result"
    }
   ],
   "source": [
    "result = flat_X[(flat_X % 2 == 1) & (flat_X > mean) & (flat_X != 15)]\n",
    "result\n"
   ]
  }
 ],
 "metadata": {
  "kernelspec": {
   "display_name": "Python 3 (ipykernel)",
   "language": "python",
   "name": "python3"
  },
  "language_info": {
   "codemirror_mode": {
    "name": "ipython",
    "version": 3
   },
   "file_extension": ".py",
   "mimetype": "text/x-python",
   "name": "python",
   "nbconvert_exporter": "python",
   "pygments_lexer": "ipython3",
   "version": "3.10.4"
  }
 },
 "nbformat": 4,
 "nbformat_minor": 5
}
