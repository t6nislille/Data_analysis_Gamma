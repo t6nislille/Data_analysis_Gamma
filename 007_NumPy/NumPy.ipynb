{
 "cells": [
  {
   "cell_type": "code",
   "execution_count": 9,
   "id": "0fa82503-90ad-4a43-ab9c-d1e026baeede",
   "metadata": {},
   "outputs": [],
   "source": [
    "import numpy as np"
   ]
  },
  {
   "cell_type": "markdown",
   "id": "5b65bb5a-9db6-4867-9480-30bb1232d34a",
   "metadata": {},
   "source": [
    "## 1. Compare NumPy data types to standard python"
   ]
  },
  {
   "cell_type": "code",
   "execution_count": 1,
   "id": "e6bb3740-581e-474c-8137-772ef2d97159",
   "metadata": {},
   "outputs": [],
   "source": [
    "x = 1"
   ]
  },
  {
   "cell_type": "code",
   "execution_count": 2,
   "id": "8f35e082-009a-43ea-9cf4-02d0d439de9e",
   "metadata": {},
   "outputs": [
    {
     "data": {
      "text/plain": [
       "28"
      ]
     },
     "execution_count": 2,
     "metadata": {},
     "output_type": "execute_result"
    }
   ],
   "source": [
    "from sys import getsizeof\n",
    "getsizeof(x)"
   ]
  },
  {
   "cell_type": "code",
   "execution_count": 3,
   "id": "1564d427-5b4f-4afc-b682-396001426b6b",
   "metadata": {},
   "outputs": [
    {
     "data": {
      "text/plain": [
       "['__abs__',\n",
       " '__add__',\n",
       " '__and__',\n",
       " '__bool__',\n",
       " '__ceil__',\n",
       " '__class__',\n",
       " '__delattr__',\n",
       " '__dir__',\n",
       " '__divmod__',\n",
       " '__doc__',\n",
       " '__eq__',\n",
       " '__float__',\n",
       " '__floor__',\n",
       " '__floordiv__',\n",
       " '__format__',\n",
       " '__ge__',\n",
       " '__getattribute__',\n",
       " '__getnewargs__',\n",
       " '__gt__',\n",
       " '__hash__',\n",
       " '__index__',\n",
       " '__init__',\n",
       " '__init_subclass__',\n",
       " '__int__',\n",
       " '__invert__',\n",
       " '__le__',\n",
       " '__lshift__',\n",
       " '__lt__',\n",
       " '__mod__',\n",
       " '__mul__',\n",
       " '__ne__',\n",
       " '__neg__',\n",
       " '__new__',\n",
       " '__or__',\n",
       " '__pos__',\n",
       " '__pow__',\n",
       " '__radd__',\n",
       " '__rand__',\n",
       " '__rdivmod__',\n",
       " '__reduce__',\n",
       " '__reduce_ex__',\n",
       " '__repr__',\n",
       " '__rfloordiv__',\n",
       " '__rlshift__',\n",
       " '__rmod__',\n",
       " '__rmul__',\n",
       " '__ror__',\n",
       " '__round__',\n",
       " '__rpow__',\n",
       " '__rrshift__',\n",
       " '__rshift__',\n",
       " '__rsub__',\n",
       " '__rtruediv__',\n",
       " '__rxor__',\n",
       " '__setattr__',\n",
       " '__sizeof__',\n",
       " '__str__',\n",
       " '__sub__',\n",
       " '__subclasshook__',\n",
       " '__truediv__',\n",
       " '__trunc__',\n",
       " '__xor__',\n",
       " 'as_integer_ratio',\n",
       " 'bit_count',\n",
       " 'bit_length',\n",
       " 'conjugate',\n",
       " 'denominator',\n",
       " 'from_bytes',\n",
       " 'imag',\n",
       " 'numerator',\n",
       " 'real',\n",
       " 'to_bytes']"
      ]
     },
     "execution_count": 3,
     "metadata": {},
     "output_type": "execute_result"
    }
   ],
   "source": [
    "dir(x)"
   ]
  },
  {
   "cell_type": "code",
   "execution_count": 4,
   "id": "9bac4a4b-010e-42ab-92e0-d3732ff85b83",
   "metadata": {},
   "outputs": [
    {
     "data": {
      "text/plain": [
       "6"
      ]
     },
     "execution_count": 4,
     "metadata": {},
     "output_type": "execute_result"
    }
   ],
   "source": [
    "x + 5"
   ]
  },
  {
   "cell_type": "code",
   "execution_count": 7,
   "id": "b5c96851-edb9-4422-be83-eee4486f5b07",
   "metadata": {},
   "outputs": [
    {
     "data": {
      "text/plain": [
       "6"
      ]
     },
     "execution_count": 7,
     "metadata": {},
     "output_type": "execute_result"
    }
   ],
   "source": [
    "x.__add__(5)"
   ]
  },
  {
   "cell_type": "markdown",
   "id": "41f422ba-ef76-44b4-ae3c-cc456ea20dd7",
   "metadata": {},
   "source": [
    "## 2. Create and indexing of array"
   ]
  },
  {
   "cell_type": "code",
   "execution_count": 10,
   "id": "2fff59f4-f509-41f0-8ea1-5fd58f7a3d4d",
   "metadata": {},
   "outputs": [
    {
     "data": {
      "text/plain": [
       "array([1, 2, 3, 4, 5, 6, 7])"
      ]
     },
     "execution_count": 10,
     "metadata": {},
     "output_type": "execute_result"
    }
   ],
   "source": [
    "a = np.array([1, 2, 3, 4, 5, 6, 7])\n",
    "a"
   ]
  },
  {
   "cell_type": "code",
   "execution_count": 11,
   "id": "6af2e6ea-5be6-4140-9f5e-73545caae948",
   "metadata": {},
   "outputs": [
    {
     "name": "stdout",
     "output_type": "stream",
     "text": [
      "3\n"
     ]
    }
   ],
   "source": [
    "print(a[2])"
   ]
  },
  {
   "cell_type": "code",
   "execution_count": 12,
   "id": "2dacd660-3dfc-4756-a262-11f30e50e0a4",
   "metadata": {},
   "outputs": [
    {
     "data": {
      "text/plain": [
       "np.int64(6)"
      ]
     },
     "execution_count": 12,
     "metadata": {},
     "output_type": "execute_result"
    }
   ],
   "source": [
    "a[-2]"
   ]
  },
  {
   "cell_type": "code",
   "execution_count": 13,
   "id": "6bf0d387-3d3b-46ce-b5f0-6116f06262da",
   "metadata": {},
   "outputs": [
    {
     "data": {
      "text/plain": [
       "array([2, 4])"
      ]
     },
     "execution_count": 13,
     "metadata": {},
     "output_type": "execute_result"
    }
   ],
   "source": [
    "a[1:5:2]"
   ]
  },
  {
   "cell_type": "code",
   "execution_count": 15,
   "id": "f1a937fd-fa83-4023-b2e8-54a0f070fb4f",
   "metadata": {},
   "outputs": [
    {
     "data": {
      "text/plain": [
       "array([1, 1, 5, 1, 1])"
      ]
     },
     "execution_count": 15,
     "metadata": {},
     "output_type": "execute_result"
    }
   ],
   "source": [
    "a[[0, 0, 4, 0, 0]]"
   ]
  },
  {
   "cell_type": "code",
   "execution_count": 16,
   "id": "c96e824b-1376-4864-899f-d52713401797",
   "metadata": {},
   "outputs": [
    {
     "data": {
      "text/plain": [
       "array([1, 1, 2, 2, 3, 3])"
      ]
     },
     "execution_count": 16,
     "metadata": {},
     "output_type": "execute_result"
    }
   ],
   "source": [
    "ind = [0, 0, 1, 1, 2, 2]\n",
    "a[ind]"
   ]
  },
  {
   "cell_type": "code",
   "execution_count": 17,
   "id": "cd5ead95-cbe0-423b-af04-b247ea196814",
   "metadata": {},
   "outputs": [
    {
     "data": {
      "text/plain": [
       "array([10,  2,  3,  4,  5,  6,  7])"
      ]
     },
     "execution_count": 17,
     "metadata": {},
     "output_type": "execute_result"
    }
   ],
   "source": [
    "a[0] = 10\n",
    "a"
   ]
  },
  {
   "cell_type": "markdown",
   "id": "8414b8d5-d9ae-4555-9221-0179a2f9e760",
   "metadata": {},
   "source": [
    "## 3. Data Types"
   ]
  },
  {
   "cell_type": "code",
   "execution_count": 18,
   "id": "45152218-9638-4b53-a355-cc97e4febe90",
   "metadata": {},
   "outputs": [
    {
     "data": {
      "text/plain": [
       "dtype('int64')"
      ]
     },
     "execution_count": 18,
     "metadata": {},
     "output_type": "execute_result"
    }
   ],
   "source": [
    "a.dtype"
   ]
  },
  {
   "cell_type": "code",
   "execution_count": 23,
   "id": "32794cdd-928e-4460-a190-a41f372e305b",
   "metadata": {},
   "outputs": [
    {
     "name": "stdout",
     "output_type": "stream",
     "text": [
      "[1 True 2.5 5j 'hi' {1: 'a', 2: 'b'}]\n",
      "object\n"
     ]
    }
   ],
   "source": [
    "arr = np.array([1, True, 2.5, 5j, \"hi\", {1: \"a\", 2: \"b\"}])\n",
    "print(arr)\n",
    "print(arr.dtype)"
   ]
  },
  {
   "cell_type": "code",
   "execution_count": 24,
   "id": "359422ef-39dc-4182-b744-691a6ca134d6",
   "metadata": {},
   "outputs": [
    {
     "data": {
      "text/plain": [
       "bool"
      ]
     },
     "execution_count": 24,
     "metadata": {},
     "output_type": "execute_result"
    }
   ],
   "source": [
    "type(arr[1])"
   ]
  },
  {
   "cell_type": "code",
   "execution_count": 25,
   "id": "b7c51e32-9d70-4798-9f99-ccff69eaf671",
   "metadata": {},
   "outputs": [
    {
     "data": {
      "text/plain": [
       "float"
      ]
     },
     "execution_count": 25,
     "metadata": {},
     "output_type": "execute_result"
    }
   ],
   "source": [
    "type(arr[2])"
   ]
  },
  {
   "cell_type": "code",
   "execution_count": 26,
   "id": "378362ab-b257-4bd8-a3c5-d7d0ade9cc75",
   "metadata": {},
   "outputs": [
    {
     "data": {
      "text/plain": [
       "array([10,  2,  3,  4,  5,  6,  7], dtype=int16)"
      ]
     },
     "execution_count": 26,
     "metadata": {},
     "output_type": "execute_result"
    }
   ],
   "source": [
    "# create copy of an array a\n",
    "a = np.int16(a)\n",
    "a"
   ]
  },
  {
   "cell_type": "markdown",
   "id": "59652a66-adde-4c52-94e8-192571465b3b",
   "metadata": {},
   "source": [
    "## 4. Multy-dimensional arrays"
   ]
  },
  {
   "cell_type": "markdown",
   "id": "221017bc-51b3-40dd-9749-5b1e680d6c97",
   "metadata": {},
   "source": [
    "#### 4.1 Create arrays"
   ]
  },
  {
   "cell_type": "code",
   "execution_count": 28,
   "id": "6e47285b-4d09-4687-958b-56415ae96e78",
   "metadata": {},
   "outputs": [
    {
     "data": {
      "text/plain": [
       "array([[ 2,  4],\n",
       "       [ 7, 12],\n",
       "       [ 0, -6]])"
      ]
     },
     "execution_count": 28,
     "metadata": {},
     "output_type": "execute_result"
    }
   ],
   "source": [
    "# 2d\n",
    "arr2d = np.array([[2, 4], [7, 12], [0, -6]])\n",
    "arr2d"
   ]
  },
  {
   "cell_type": "code",
   "execution_count": 34,
   "id": "b4588ea1-a187-473b-9660-4ae7ec6cfc8d",
   "metadata": {},
   "outputs": [
    {
     "data": {
      "text/plain": [
       "array([[[ 2,  5,  6],\n",
       "        [ 8,  1,  8],\n",
       "        [-1,  0, 10]],\n",
       "\n",
       "       [[ 3,  4,  5],\n",
       "        [ 7,  9,  1],\n",
       "        [-5, -6,  2]],\n",
       "\n",
       "       [[-7,  3,  7],\n",
       "        [ 1,  8, -1],\n",
       "        [11, 12,  3]]])"
      ]
     },
     "execution_count": 34,
     "metadata": {},
     "output_type": "execute_result"
    }
   ],
   "source": [
    "# 3d\n",
    "arr3d = np.array([ [ [2, 5, 6], [8, 1, 8], [-1, 0, 10]],\n",
    "                [[3, 4, 5], [7, 9, 1], [-5, -6, 2]],\n",
    "                [[-7, 3, 7], [1, 8, -1], [11, 12 ,3] ] ])\n",
    "arr3d"
   ]
  },
  {
   "cell_type": "markdown",
   "id": "7711ec48-42f0-4960-a4f4-3b03ddc89f12",
   "metadata": {},
   "source": [
    "#### 4.2 Check parameters"
   ]
  },
  {
   "cell_type": "code",
   "execution_count": 37,
   "id": "cbf4b7f3-ca55-4b4e-a25d-b5309e863279",
   "metadata": {},
   "outputs": [
    {
     "name": "stdout",
     "output_type": "stream",
     "text": [
      "2\n",
      "3\n"
     ]
    }
   ],
   "source": [
    "print(arr2d.ndim)\n",
    "print(arr3d.ndim)"
   ]
  },
  {
   "cell_type": "code",
   "execution_count": 38,
   "id": "c7cc5bf0-dc5d-41a1-9cd1-7f04833838ea",
   "metadata": {},
   "outputs": [
    {
     "name": "stdout",
     "output_type": "stream",
     "text": [
      "(3, 2)\n",
      "(3, 3, 3)\n"
     ]
    }
   ],
   "source": [
    "print(arr2d.shape)\n",
    "print(arr3d.shape)"
   ]
  },
  {
   "cell_type": "code",
   "execution_count": 39,
   "id": "78bf975e-ae54-419e-a04e-e36468cfa1d3",
   "metadata": {},
   "outputs": [
    {
     "name": "stdout",
     "output_type": "stream",
     "text": [
      "6\n",
      "27\n"
     ]
    }
   ],
   "source": [
    "print(arr2d.size)\n",
    "print(arr3d.size)"
   ]
  },
  {
   "cell_type": "markdown",
   "id": "a79e01dc-371a-4e9c-a3a1-26e7c0390204",
   "metadata": {},
   "source": [
    "#### 4.3 Indexing and slicing"
   ]
  },
  {
   "cell_type": "code",
   "execution_count": 40,
   "id": "a76f7e7a-5d22-4bdf-b521-9dfba515a95c",
   "metadata": {},
   "outputs": [
    {
     "data": {
      "text/plain": [
       "np.int64(2)"
      ]
     },
     "execution_count": 40,
     "metadata": {},
     "output_type": "execute_result"
    }
   ],
   "source": [
    "arr2d[0, 0]"
   ]
  },
  {
   "cell_type": "code",
   "execution_count": 41,
   "id": "106ef975-faec-4878-bcea-97a6962216a1",
   "metadata": {},
   "outputs": [
    {
     "data": {
      "text/plain": [
       "np.int64(2)"
      ]
     },
     "execution_count": 41,
     "metadata": {},
     "output_type": "execute_result"
    }
   ],
   "source": [
    "arr3d[0, 0, 0]"
   ]
  },
  {
   "cell_type": "code",
   "execution_count": 42,
   "id": "0ad4cd5e-9869-43a1-948e-4a988441bf0f",
   "metadata": {},
   "outputs": [
    {
     "data": {
      "text/plain": [
       "array([[ 3,  5],\n",
       "       [-5,  2]])"
      ]
     },
     "execution_count": 42,
     "metadata": {},
     "output_type": "execute_result"
    }
   ],
   "source": [
    "arr3d[1, ::2, ::2]"
   ]
  },
  {
   "cell_type": "code",
   "execution_count": 44,
   "id": "a0aea716-c93a-4702-89ab-3956be2c35f8",
   "metadata": {},
   "outputs": [
    {
     "data": {
      "text/plain": [
       "array([[[ 2,  5,  6],\n",
       "        [ 8,  1,  8],\n",
       "        [-1,  0, 10]],\n",
       "\n",
       "       [[ 0,  4,  1],\n",
       "        [ 7,  9,  1],\n",
       "        [ 1, -6,  0]],\n",
       "\n",
       "       [[-7,  3,  7],\n",
       "        [ 1,  8, -1],\n",
       "        [11, 12,  3]]])"
      ]
     },
     "execution_count": 44,
     "metadata": {},
     "output_type": "execute_result"
    }
   ],
   "source": [
    "arr3d[1, ::2, ::2] = [[0, 1], [1, 0]]\n",
    "arr3d"
   ]
  },
  {
   "cell_type": "markdown",
   "id": "e1d8346e-57da-4219-b981-1beb8cbf4417",
   "metadata": {},
   "source": [
    "## 5. Methods to create filled arrays"
   ]
  },
  {
   "cell_type": "markdown",
   "id": "85c07ed3-e842-4887-bc32-e123195fc22e",
   "metadata": {},
   "source": [
    "#### 5.1 Zeros, ones, full, eye"
   ]
  },
  {
   "cell_type": "code",
   "execution_count": 46,
   "id": "dcecc285-bf67-4a32-9095-962032148549",
   "metadata": {},
   "outputs": [
    {
     "data": {
      "text/plain": [
       "array([0., 0., 0., 0., 0., 0., 0., 0., 0., 0.])"
      ]
     },
     "execution_count": 46,
     "metadata": {},
     "output_type": "execute_result"
    }
   ],
   "source": [
    "np.zeros(10)"
   ]
  },
  {
   "cell_type": "code",
   "execution_count": 47,
   "id": "4c724c0b-4d8e-4b27-8ae9-0013e2e9838e",
   "metadata": {},
   "outputs": [
    {
     "data": {
      "text/plain": [
       "array([[1., 1., 1., 1., 1.],\n",
       "       [1., 1., 1., 1., 1.],\n",
       "       [1., 1., 1., 1., 1.],\n",
       "       [1., 1., 1., 1., 1.],\n",
       "       [1., 1., 1., 1., 1.]])"
      ]
     },
     "execution_count": 47,
     "metadata": {},
     "output_type": "execute_result"
    }
   ],
   "source": [
    "np.ones((5, 5))"
   ]
  },
  {
   "cell_type": "code",
   "execution_count": 49,
   "id": "0f8cffd6-e258-4af7-b2c2-7ed236ba8298",
   "metadata": {},
   "outputs": [
    {
     "data": {
      "text/plain": [
       "array([[[1],\n",
       "        [1],\n",
       "        [1]],\n",
       "\n",
       "       [[1],\n",
       "        [1],\n",
       "        [1]]], dtype=int16)"
      ]
     },
     "execution_count": 49,
     "metadata": {},
     "output_type": "execute_result"
    }
   ],
   "source": [
    "np.ones((2, 3, 1), dtype=\"int16\")"
   ]
  },
  {
   "cell_type": "code",
   "execution_count": 50,
   "id": "75cfbe44-848e-4b8f-8e28-74576948d8f7",
   "metadata": {},
   "outputs": [
    {
     "data": {
      "text/plain": [
       "array([[[[3.14159265, 3.14159265],\n",
       "         [3.14159265, 3.14159265],\n",
       "         [3.14159265, 3.14159265]],\n",
       "\n",
       "        [[3.14159265, 3.14159265],\n",
       "         [3.14159265, 3.14159265],\n",
       "         [3.14159265, 3.14159265]]],\n",
       "\n",
       "\n",
       "       [[[3.14159265, 3.14159265],\n",
       "         [3.14159265, 3.14159265],\n",
       "         [3.14159265, 3.14159265]],\n",
       "\n",
       "        [[3.14159265, 3.14159265],\n",
       "         [3.14159265, 3.14159265],\n",
       "         [3.14159265, 3.14159265]]],\n",
       "\n",
       "\n",
       "       [[[3.14159265, 3.14159265],\n",
       "         [3.14159265, 3.14159265],\n",
       "         [3.14159265, 3.14159265]],\n",
       "\n",
       "        [[3.14159265, 3.14159265],\n",
       "         [3.14159265, 3.14159265],\n",
       "         [3.14159265, 3.14159265]]]])"
      ]
     },
     "execution_count": 50,
     "metadata": {},
     "output_type": "execute_result"
    }
   ],
   "source": [
    "a = np.full((3, 2, 3, 2), np.pi)\n",
    "a"
   ]
  },
  {
   "cell_type": "markdown",
   "id": "29e0fc5f-cfd7-4dcd-9dc6-93011dea2731",
   "metadata": {},
   "source": [
    "#### 5.2 Range, linspace"
   ]
  },
  {
   "cell_type": "code",
   "execution_count": 51,
   "id": "491ca84e-3817-4fb1-b923-d3e8e5fbb7be",
   "metadata": {},
   "outputs": [
    {
     "data": {
      "text/plain": [
       "array([ 1,  4,  7, 10, 13, 16, 19, 22, 25, 28, 31, 34, 37, 40, 43, 46, 49,\n",
       "       52, 55, 58, 61, 64, 67, 70, 73, 76, 79, 82, 85, 88, 91, 94, 97])"
      ]
     },
     "execution_count": 51,
     "metadata": {},
     "output_type": "execute_result"
    }
   ],
   "source": [
    "np.arange(1, 100, 3)"
   ]
  },
  {
   "cell_type": "code",
   "execution_count": 52,
   "id": "e5948f5a-3118-49aa-80f7-3b8852dd3c44",
   "metadata": {},
   "outputs": [
    {
     "data": {
      "text/plain": [
       "array([-20., -19., -18., -17., -16., -15., -14., -13., -12., -11., -10.,\n",
       "        -9.,  -8.,  -7.,  -6.,  -5.,  -4.,  -3.,  -2.,  -1.,   0.,   1.,\n",
       "         2.,   3.,   4.,   5.,   6.,   7.,   8.,   9.,  10.,  11.,  12.,\n",
       "        13.,  14.,  15.,  16.,  17.,  18.,  19.])"
      ]
     },
     "execution_count": 52,
     "metadata": {},
     "output_type": "execute_result"
    }
   ],
   "source": [
    "np.arange(-20, 20, dtype=\"float\")"
   ]
  },
  {
   "cell_type": "code",
   "execution_count": 53,
   "id": "105638e0-f3a5-4464-9a02-ddfaa20d1a87",
   "metadata": {},
   "outputs": [
    {
     "data": {
      "text/plain": [
       "array([0.1, 0.2, 0.3, 0.4, 0.5, 0.6, 0.7, 0.8, 0.9, 1. , 1.1, 1.2, 1.3,\n",
       "       1.4, 1.5, 1.6, 1.7, 1.8, 1.9, 2. ])"
      ]
     },
     "execution_count": 53,
     "metadata": {},
     "output_type": "execute_result"
    }
   ],
   "source": [
    "# can be used with floats\n",
    "np.arange(0.1, 2.1, 0.1)"
   ]
  },
  {
   "cell_type": "code",
   "execution_count": 55,
   "id": "c2a36135-ad37-4677-b345-df2ba79189db",
   "metadata": {},
   "outputs": [
    {
     "data": {
      "text/plain": [
       "array([ 0. ,  2.5,  5. ,  7.5, 10. ])"
      ]
     },
     "execution_count": 55,
     "metadata": {},
     "output_type": "execute_result"
    }
   ],
   "source": [
    "np.linspace(0, 10, 5)"
   ]
  },
  {
   "cell_type": "code",
   "execution_count": 56,
   "id": "eedf2fda-c1eb-4bff-801f-b9c701acc619",
   "metadata": {},
   "outputs": [
    {
     "data": {
      "text/plain": [
       "array([-1.        , -0.97979798, -0.95959596, -0.93939394, -0.91919192,\n",
       "       -0.8989899 , -0.87878788, -0.85858586, -0.83838384, -0.81818182,\n",
       "       -0.7979798 , -0.77777778, -0.75757576, -0.73737374, -0.71717172,\n",
       "       -0.6969697 , -0.67676768, -0.65656566, -0.63636364, -0.61616162,\n",
       "       -0.5959596 , -0.57575758, -0.55555556, -0.53535354, -0.51515152,\n",
       "       -0.49494949, -0.47474747, -0.45454545, -0.43434343, -0.41414141,\n",
       "       -0.39393939, -0.37373737, -0.35353535, -0.33333333, -0.31313131,\n",
       "       -0.29292929, -0.27272727, -0.25252525, -0.23232323, -0.21212121,\n",
       "       -0.19191919, -0.17171717, -0.15151515, -0.13131313, -0.11111111,\n",
       "       -0.09090909, -0.07070707, -0.05050505, -0.03030303, -0.01010101,\n",
       "        0.01010101,  0.03030303,  0.05050505,  0.07070707,  0.09090909,\n",
       "        0.11111111,  0.13131313,  0.15151515,  0.17171717,  0.19191919,\n",
       "        0.21212121,  0.23232323,  0.25252525,  0.27272727,  0.29292929,\n",
       "        0.31313131,  0.33333333,  0.35353535,  0.37373737,  0.39393939,\n",
       "        0.41414141,  0.43434343,  0.45454545,  0.47474747,  0.49494949,\n",
       "        0.51515152,  0.53535354,  0.55555556,  0.57575758,  0.5959596 ,\n",
       "        0.61616162,  0.63636364,  0.65656566,  0.67676768,  0.6969697 ,\n",
       "        0.71717172,  0.73737374,  0.75757576,  0.77777778,  0.7979798 ,\n",
       "        0.81818182,  0.83838384,  0.85858586,  0.87878788,  0.8989899 ,\n",
       "        0.91919192,  0.93939394,  0.95959596,  0.97979798,  1.        ])"
      ]
     },
     "execution_count": 56,
     "metadata": {},
     "output_type": "execute_result"
    }
   ],
   "source": [
    "np.linspace(-1, 1, 100)"
   ]
  },
  {
   "cell_type": "markdown",
   "id": "9dac649e-98b7-48b7-839f-6efe1f6635af",
   "metadata": {},
   "source": [
    "## 6. Reshape"
   ]
  },
  {
   "cell_type": "markdown",
   "id": "abce5641-3557-47da-8c6c-9bfd9bbc36f2",
   "metadata": {},
   "source": [
    "#### 6.1 Reshape"
   ]
  },
  {
   "cell_type": "code",
   "execution_count": 58,
   "id": "5f0ee5ad-25f4-4c72-82b5-40dffe615dfc",
   "metadata": {},
   "outputs": [
    {
     "data": {
      "text/plain": [
       "array([0, 1, 2, 3, 4, 5, 6, 7, 8])"
      ]
     },
     "execution_count": 58,
     "metadata": {},
     "output_type": "execute_result"
    }
   ],
   "source": [
    "arr = np.arange(9)\n",
    "arr"
   ]
  },
  {
   "cell_type": "code",
   "execution_count": 59,
   "id": "32417a88-40be-4a78-b47d-7a55c8154c23",
   "metadata": {},
   "outputs": [
    {
     "data": {
      "text/plain": [
       "array([[0, 1, 2],\n",
       "       [3, 4, 5],\n",
       "       [6, 7, 8]])"
      ]
     },
     "execution_count": 59,
     "metadata": {},
     "output_type": "execute_result"
    }
   ],
   "source": [
    "arr2d = arr.reshape(3, 3)\n",
    "arr2d"
   ]
  },
  {
   "cell_type": "code",
   "execution_count": null,
   "id": "389d8e1a-1082-4832-be15-2eca79a9b5c3",
   "metadata": {},
   "outputs": [],
   "source": []
  },
  {
   "cell_type": "code",
   "execution_count": null,
   "id": "ce8d9375-79ec-4a9b-aee2-84ac07d98f99",
   "metadata": {},
   "outputs": [],
   "source": []
  },
  {
   "cell_type": "code",
   "execution_count": 9,
   "id": "f889f1a2-cb5b-428f-8de3-5b81981051a2",
   "metadata": {},
   "outputs": [],
   "source": [
    "a4 = np.eye(4, 4)"
   ]
  },
  {
   "cell_type": "code",
   "execution_count": 10,
   "id": "d5736acf-de67-4fa1-b3a7-6c2abb290378",
   "metadata": {},
   "outputs": [
    {
     "name": "stdout",
     "output_type": "stream",
     "text": [
      "[[1. 0. 0. 0.]\n",
      " [0. 1. 0. 0.]\n",
      " [0. 0. 1. 0.]\n",
      " [0. 0. 0. 1.]]\n"
     ]
    }
   ],
   "source": [
    "print(a4)"
   ]
  },
  {
   "cell_type": "code",
   "execution_count": 13,
   "id": "89702178-28b1-4da7-ba16-be3950571110",
   "metadata": {},
   "outputs": [
    {
     "data": {
      "text/plain": [
       "array([ 1,  4,  7, 10, 13, 16, 19, 22, 25, 28, 31, 34, 37, 40, 43, 46, 49,\n",
       "       52, 55, 58, 61, 64, 67, 70, 73, 76, 79, 82, 85, 88, 91, 94, 97])"
      ]
     },
     "execution_count": 13,
     "metadata": {},
     "output_type": "execute_result"
    }
   ],
   "source": [
    "np.arange(1, 100, 3) # 1 - 100, with a step of 3"
   ]
  },
  {
   "cell_type": "code",
   "execution_count": 15,
   "id": "c6e557a5-aea9-4242-bb63-d89c124cfae0",
   "metadata": {},
   "outputs": [
    {
     "data": {
      "text/plain": [
       "array([-20., -19., -18., -17., -16., -15., -14., -13., -12., -11., -10.,\n",
       "        -9.,  -8.,  -7.,  -6.,  -5.,  -4.,  -3.,  -2.,  -1.,   0.,   1.,\n",
       "         2.,   3.,   4.,   5.,   6.,   7.,   8.,   9.,  10.,  11.,  12.,\n",
       "        13.,  14.,  15.,  16.,  17.,  18.,  19.])"
      ]
     },
     "execution_count": 15,
     "metadata": {},
     "output_type": "execute_result"
    }
   ],
   "source": [
    "np.arange(-20, 20, dtype=\"float\") "
   ]
  },
  {
   "cell_type": "code",
   "execution_count": 27,
   "id": "a7f5d693-7cf9-43e0-b1ed-62fb2f0bd8f1",
   "metadata": {},
   "outputs": [
    {
     "data": {
      "text/plain": [
       "array([0, 1, 2, 3, 4, 5, 6, 7, 8])"
      ]
     },
     "execution_count": 27,
     "metadata": {},
     "output_type": "execute_result"
    }
   ],
   "source": [
    "arr = np.arange(9)\n",
    "arr.size\n",
    "arr"
   ]
  },
  {
   "cell_type": "code",
   "execution_count": 24,
   "id": "179a820f-2ff0-4338-b13c-929aa1b86ab3",
   "metadata": {},
   "outputs": [
    {
     "data": {
      "text/plain": [
       "array([[0, 1, 2],\n",
       "       [3, 4, 5],\n",
       "       [6, 7, 8]])"
      ]
     },
     "execution_count": 24,
     "metadata": {},
     "output_type": "execute_result"
    }
   ],
   "source": [
    "arr2d = arr.reshape(3, 3)\n",
    "arr2d"
   ]
  },
  {
   "cell_type": "code",
   "execution_count": 29,
   "id": "46ce4547-0585-4be7-a9e7-7366ef0a17fe",
   "metadata": {},
   "outputs": [
    {
     "data": {
      "text/plain": [
       "array([[[-10.        ,  -9.42857143,  -8.85714286],\n",
       "        [ -8.28571429,  -7.71428571,  -7.14285714],\n",
       "        [ -6.57142857,  -6.        ,  -5.42857143],\n",
       "        [ -4.85714286,  -4.28571429,  -3.71428571]],\n",
       "\n",
       "       [[ -3.14285714,  -2.57142857,  -2.        ],\n",
       "        [ -1.42857143,  -0.85714286,  -0.28571429],\n",
       "        [  0.28571429,   0.85714286,   1.42857143],\n",
       "        [  2.        ,   2.57142857,   3.14285714]],\n",
       "\n",
       "       [[  3.71428571,   4.28571429,   4.85714286],\n",
       "        [  5.42857143,   6.        ,   6.57142857],\n",
       "        [  7.14285714,   7.71428571,   8.28571429],\n",
       "        [  8.85714286,   9.42857143,  10.        ]]])"
      ]
     },
     "execution_count": 29,
     "metadata": {},
     "output_type": "execute_result"
    }
   ],
   "source": [
    "arr3d = np.linspace(-10, 10, 36).reshape(3, 4, 3)\n",
    "arr3d"
   ]
  },
  {
   "cell_type": "code",
   "execution_count": 34,
   "id": "c1b49410-590f-42ed-a20e-7b877e7ec372",
   "metadata": {},
   "outputs": [
    {
     "data": {
      "text/plain": [
       "array([[ 0,  1,  2,  3],\n",
       "       [ 4,  5,  6,  7],\n",
       "       [ 8,  9, 10, 11]])"
      ]
     },
     "execution_count": 34,
     "metadata": {},
     "output_type": "execute_result"
    }
   ],
   "source": [
    "arr2d = np.arange(12).reshape(3, 4)\n",
    "arr2d"
   ]
  },
  {
   "cell_type": "code",
   "execution_count": 35,
   "id": "5a647fde-97cd-4bb7-88b6-8258f4c7b9ca",
   "metadata": {},
   "outputs": [
    {
     "data": {
      "text/plain": [
       "array([[ 0,  4,  8],\n",
       "       [ 1,  5,  9],\n",
       "       [ 2,  6, 10],\n",
       "       [ 3,  7, 11]])"
      ]
     },
     "execution_count": 35,
     "metadata": {},
     "output_type": "execute_result"
    }
   ],
   "source": [
    "arr2d.T"
   ]
  },
  {
   "cell_type": "markdown",
   "id": "b4da26b2-994b-43df-9f1f-d8853eb2d544",
   "metadata": {},
   "source": [
    "## 7.Computation, vectorization"
   ]
  },
  {
   "cell_type": "code",
   "execution_count": 36,
   "id": "faa66f8e-4f9e-4a2f-94bf-043926e4dc98",
   "metadata": {},
   "outputs": [
    {
     "name": "stdout",
     "output_type": "stream",
     "text": [
      "[1, 2, 3]\n",
      "[1 2 3]\n"
     ]
    }
   ],
   "source": [
    "lst = [1, 2, 3]\n",
    "arr = np.array([1, 2, 3])\n",
    "print(lst)\n",
    "print(arr)"
   ]
  },
  {
   "cell_type": "code",
   "execution_count": 37,
   "id": "a1069658-bf29-48e5-885f-6a4003303f4c",
   "metadata": {},
   "outputs": [
    {
     "data": {
      "text/plain": [
       "[1, 2, 3, 1, 2, 3, 1, 2, 3]"
      ]
     },
     "execution_count": 37,
     "metadata": {},
     "output_type": "execute_result"
    }
   ],
   "source": [
    "lst * 3"
   ]
  },
  {
   "cell_type": "code",
   "execution_count": 38,
   "id": "7365f8b9-1bba-4242-857a-04e383564bd0",
   "metadata": {},
   "outputs": [
    {
     "data": {
      "text/plain": [
       "array([3, 6, 9])"
      ]
     },
     "execution_count": 38,
     "metadata": {},
     "output_type": "execute_result"
    }
   ],
   "source": [
    "arr * 3"
   ]
  },
  {
   "cell_type": "code",
   "execution_count": 39,
   "id": "af559392-d708-47fe-8b88-910e581357e5",
   "metadata": {},
   "outputs": [
    {
     "data": {
      "text/plain": [
       "array([-1, -2, -3])"
      ]
     },
     "execution_count": 39,
     "metadata": {},
     "output_type": "execute_result"
    }
   ],
   "source": [
    "-arr"
   ]
  },
  {
   "cell_type": "code",
   "execution_count": 40,
   "id": "9b12c8d2-ab33-4d61-aeb3-7290c419841f",
   "metadata": {},
   "outputs": [
    {
     "data": {
      "text/plain": [
       "array([-2, -1,  0])"
      ]
     },
     "execution_count": 40,
     "metadata": {},
     "output_type": "execute_result"
    }
   ],
   "source": [
    "arr -3"
   ]
  },
  {
   "cell_type": "code",
   "execution_count": 41,
   "id": "52fcd11f-e693-4f4a-8f1e-4f7459be1be3",
   "metadata": {},
   "outputs": [
    {
     "data": {
      "text/plain": [
       "array([1, 0, 1])"
      ]
     },
     "execution_count": 41,
     "metadata": {},
     "output_type": "execute_result"
    }
   ],
   "source": [
    "arr % 2"
   ]
  },
  {
   "cell_type": "code",
   "execution_count": 42,
   "id": "6cb60483-94b6-4dbb-beb0-ff663b9c29a6",
   "metadata": {},
   "outputs": [
    {
     "data": {
      "text/plain": [
       "array([1, 4, 9])"
      ]
     },
     "execution_count": 42,
     "metadata": {},
     "output_type": "execute_result"
    }
   ],
   "source": [
    "arr ** 2"
   ]
  },
  {
   "cell_type": "code",
   "execution_count": 44,
   "id": "bdeb9943-d14a-4cbe-a0c2-2cd1f6ceddd0",
   "metadata": {},
   "outputs": [
    {
     "name": "stdout",
     "output_type": "stream",
     "text": [
      "[6 8 7]\n"
     ]
    }
   ],
   "source": [
    "arr8 = np.array([1, 2, 3])\n",
    "arr9 = np.array([5, 6, 4])\n",
    "print(arr8 + arr9)"
   ]
  },
  {
   "cell_type": "code",
   "execution_count": 45,
   "id": "506a886d-af88-4fd3-afe8-c08ec62a7661",
   "metadata": {},
   "outputs": [
    {
     "name": "stdout",
     "output_type": "stream",
     "text": [
      "[6 7 8]\n"
     ]
    }
   ],
   "source": [
    "arr8 = np.array([1, 2, 3])\n",
    "arr9 = np.array([5])\n",
    "print(arr8 + arr9)"
   ]
  },
  {
   "cell_type": "code",
   "execution_count": 49,
   "id": "ffdbb0a7-3560-4a9f-9110-3180daa5ff6f",
   "metadata": {},
   "outputs": [
    {
     "data": {
      "text/plain": [
       "array([11, 12, 13])"
      ]
     },
     "execution_count": 49,
     "metadata": {},
     "output_type": "execute_result"
    }
   ],
   "source": [
    "arr = arr + 5\n",
    "arr # adds 5 to each element (but rewrites)"
   ]
  },
  {
   "cell_type": "code",
   "execution_count": 51,
   "id": "4b6cd980-f239-43d9-a4d9-400782fccc59",
   "metadata": {},
   "outputs": [
    {
     "data": {
      "text/plain": [
       "array([16, 17, 18])"
      ]
     },
     "execution_count": 51,
     "metadata": {},
     "output_type": "execute_result"
    }
   ],
   "source": [
    "arr+= 5\n",
    "arr"
   ]
  },
  {
   "cell_type": "code",
   "execution_count": 60,
   "id": "375962e1-debf-4ed5-b9ac-db83b4039136",
   "metadata": {},
   "outputs": [
    {
     "name": "stderr",
     "output_type": "stream",
     "text": [
      "C:\\Users\\tonis\\AppData\\Local\\Temp\\ipykernel_17588\\791203568.py:2: RuntimeWarning: divide by zero encountered in divide\n",
      "  a / 0\n"
     ]
    },
    {
     "data": {
      "text/plain": [
       "array([inf, inf, inf, inf])"
      ]
     },
     "execution_count": 60,
     "metadata": {},
     "output_type": "execute_result"
    }
   ],
   "source": [
    "a = np.array([1, 2, 3, 4])\n",
    "a / 0"
   ]
  },
  {
   "cell_type": "code",
   "execution_count": 55,
   "id": "358d5f2d-cb57-4c85-9bfa-362e750589d7",
   "metadata": {},
   "outputs": [
    {
     "data": {
      "text/plain": [
       "inf"
      ]
     },
     "execution_count": 55,
     "metadata": {},
     "output_type": "execute_result"
    }
   ],
   "source": [
    "np.inf + 10000000"
   ]
  },
  {
   "cell_type": "code",
   "execution_count": 56,
   "id": "74acd36b-88cf-40ac-9400-02676203b398",
   "metadata": {},
   "outputs": [
    {
     "data": {
      "text/plain": [
       "inf"
      ]
     },
     "execution_count": 56,
     "metadata": {},
     "output_type": "execute_result"
    }
   ],
   "source": [
    "np.inf ** 10000"
   ]
  },
  {
   "cell_type": "code",
   "execution_count": 57,
   "id": "0e1aa979-2e5d-440c-9316-58170cba5d2b",
   "metadata": {},
   "outputs": [
    {
     "data": {
      "text/plain": [
       "True"
      ]
     },
     "execution_count": 57,
     "metadata": {},
     "output_type": "execute_result"
    }
   ],
   "source": [
    "np.inf > 9999999999"
   ]
  },
  {
   "cell_type": "code",
   "execution_count": 58,
   "id": "f575d1f5-2c38-45fb-bd09-31ce099bc9a0",
   "metadata": {},
   "outputs": [
    {
     "data": {
      "text/plain": [
       "nan"
      ]
     },
     "execution_count": 58,
     "metadata": {},
     "output_type": "execute_result"
    }
   ],
   "source": [
    "np.inf - np.inf # nan = Not A Number"
   ]
  },
  {
   "cell_type": "markdown",
   "id": "91ac2bf7-8667-4709-8dba-955cedfb8ea8",
   "metadata": {},
   "source": [
    "## 8.2 Find Inf and NaN in arrays"
   ]
  },
  {
   "cell_type": "code",
   "execution_count": 61,
   "id": "1d8b194d-f320-48ae-9101-b25ca0aa2b9c",
   "metadata": {},
   "outputs": [
    {
     "data": {
      "text/plain": [
       "array([False, False,  True, False, False, False])"
      ]
     },
     "execution_count": 61,
     "metadata": {},
     "output_type": "execute_result"
    }
   ],
   "source": [
    "a = np.array([1, 2, np.inf, 3, 4, np.nan])\n",
    "np.isinf(a)"
   ]
  },
  {
   "cell_type": "code",
   "execution_count": 62,
   "id": "aed96f34-a2ed-4bbe-840f-e48ad1507485",
   "metadata": {},
   "outputs": [
    {
     "data": {
      "text/plain": [
       "array([False, False, False, False, False,  True])"
      ]
     },
     "execution_count": 62,
     "metadata": {},
     "output_type": "execute_result"
    }
   ],
   "source": [
    "np.isnan(a)"
   ]
  },
  {
   "cell_type": "code",
   "execution_count": 63,
   "id": "65f23307-7cb5-40c9-980f-59da692c4ff6",
   "metadata": {},
   "outputs": [
    {
     "data": {
      "text/plain": [
       "array([ True,  True, False,  True,  True, False])"
      ]
     },
     "execution_count": 63,
     "metadata": {},
     "output_type": "execute_result"
    }
   ],
   "source": [
    "np.isfinite(a)"
   ]
  },
  {
   "cell_type": "markdown",
   "id": "9367ec3b-cfb0-4ab2-a205-1ef5613b3301",
   "metadata": {},
   "source": [
    "# 9. Numpy.random"
   ]
  },
  {
   "cell_type": "code",
   "execution_count": 64,
   "id": "35e56176-8b1b-4e19-94a7-21bbee52bfa1",
   "metadata": {},
   "outputs": [],
   "source": [
    "from numpy import random"
   ]
  },
  {
   "cell_type": "markdown",
   "id": "2cf21922-613c-4790-bae1-401c2ec9e6f5",
   "metadata": {},
   "source": [
    "## 9.1 rand\n"
   ]
  },
  {
   "cell_type": "code",
   "execution_count": 65,
   "id": "f8b3d052-f844-47a3-a495-58647fa28170",
   "metadata": {},
   "outputs": [
    {
     "data": {
      "text/plain": [
       "0.3169657663408313"
      ]
     },
     "execution_count": 65,
     "metadata": {},
     "output_type": "execute_result"
    }
   ],
   "source": [
    "# random float from 1 to 0\n",
    "random.rand() "
   ]
  },
  {
   "cell_type": "code",
   "execution_count": 71,
   "id": "62f46304-2154-4ef0-888d-fda1230f8839",
   "metadata": {},
   "outputs": [
    {
     "name": "stdout",
     "output_type": "stream",
     "text": [
      "[0 4 7]\n",
      "[3 5]\n",
      "[1. 3. 5.]\n"
     ]
    }
   ],
   "source": [
    "a1 = np.array([0, 4, 7])\n",
    "a2 = np.arange(3, 7, 2)\n",
    "a3 = np.linspace(1, 5, 3)\n",
    "print(a1)\n",
    "print(a2)\n",
    "print(a3)"
   ]
  },
  {
   "cell_type": "code",
   "execution_count": 70,
   "id": "b19d7033-fe7c-406d-8f3e-0356c59fbb47",
   "metadata": {},
   "outputs": [
    {
     "data": {
      "text/plain": [
       "array([[0.41413525, 0.70178854],\n",
       "       [0.34608416, 0.88690587],\n",
       "       [0.12561615, 0.46191967],\n",
       "       [0.93706081, 0.06187163],\n",
       "       [0.16486167, 0.8787601 ],\n",
       "       [0.68933569, 0.4185857 ],\n",
       "       [0.99118547, 0.64601066],\n",
       "       [0.11753603, 0.98169836],\n",
       "       [0.72425054, 0.2221342 ],\n",
       "       [0.07905458, 0.43927491]])"
      ]
     },
     "execution_count": 70,
     "metadata": {},
     "output_type": "execute_result"
    }
   ],
   "source": [
    "random.rand(10, 2)"
   ]
  },
  {
   "cell_type": "markdown",
   "id": "a82cc1d1-c00b-4292-9ae1-78d673ef1bc8",
   "metadata": {},
   "source": [
    "## 9.2 randint\n"
   ]
  },
  {
   "cell_type": "code",
   "execution_count": 72,
   "id": "d8b97cc2-7cde-4e1e-998e-e739aeb06e54",
   "metadata": {},
   "outputs": [
    {
     "data": {
      "text/plain": [
       "array([[1, 0],\n",
       "       [2, 8]], dtype=int32)"
      ]
     },
     "execution_count": 72,
     "metadata": {},
     "output_type": "execute_result"
    }
   ],
   "source": [
    "# Generate random int from x to y\n",
    "random.randint(0, 10, size=(2, 2))"
   ]
  },
  {
   "cell_type": "code",
   "execution_count": 79,
   "id": "7dadc5f1-d4ae-4bbb-b281-a55554704710",
   "metadata": {},
   "outputs": [
    {
     "data": {
      "text/plain": [
       "array([[1, 9],\n",
       "       [1, 9]], dtype=int32)"
      ]
     },
     "execution_count": 79,
     "metadata": {},
     "output_type": "execute_result"
    }
   ],
   "source": [
    "random.seed(11233) # Numbers stay the same\n",
    "random.randint(0, 10, size=(2, 2))"
   ]
  },
  {
   "cell_type": "markdown",
   "id": "d1c408fa-c8ca-48e7-8ee4-a340fbeb69bf",
   "metadata": {},
   "source": [
    "9.3 choice\n"
   ]
  },
  {
   "cell_type": "code",
   "execution_count": 73,
   "id": "209dc9de-47de-40a6-8bbc-7332f545d13d",
   "metadata": {},
   "outputs": [
    {
     "data": {
      "text/plain": [
       "np.int64(1)"
      ]
     },
     "execution_count": 73,
     "metadata": {},
     "output_type": "execute_result"
    }
   ],
   "source": [
    "lst = [1, 2]\n",
    "random.choice(lst)"
   ]
  },
  {
   "cell_type": "markdown",
   "id": "d6c46c88-1b2e-4acc-9d7f-02da5bdf3b81",
   "metadata": {},
   "source": [
    "# 10. Some statistics methods"
   ]
  },
  {
   "cell_type": "code",
   "execution_count": 80,
   "id": "ba270f8c-35f2-46df-823d-dc589c7d1f98",
   "metadata": {},
   "outputs": [
    {
     "data": {
      "text/plain": [
       "array([[ 69, -41, -70, -64],\n",
       "       [-25, -58, -72,  50],\n",
       "       [ -7,   6,   1,  98],\n",
       "       [ 23,  75,  65,  18],\n",
       "       [-41, -96, -12,  -2],\n",
       "       [-93,  46,   1, -70],\n",
       "       [-85, -27,  66,  54],\n",
       "       [-13, -48,  11, -71]], dtype=int32)"
      ]
     },
     "execution_count": 80,
     "metadata": {},
     "output_type": "execute_result"
    }
   ],
   "source": [
    "random.seed(112233)\n",
    "arr2d = random.randint(-100, 101, size=(8, 4))\n",
    "arr2d"
   ]
  },
  {
   "cell_type": "code",
   "execution_count": 81,
   "id": "a3d2baf9-f104-484f-b5b8-340f0d070093",
   "metadata": {},
   "outputs": [
    {
     "data": {
      "text/plain": [
       "np.int64(-312)"
      ]
     },
     "execution_count": 81,
     "metadata": {},
     "output_type": "execute_result"
    }
   ],
   "source": [
    "arr2d.sum()"
   ]
  },
  {
   "cell_type": "code",
   "execution_count": 82,
   "id": "8d1f6f52-13c4-4d5c-a01b-60da1e87dd9f",
   "metadata": {},
   "outputs": [
    {
     "data": {
      "text/plain": [
       "array([-172, -143,  -10,   13])"
      ]
     },
     "execution_count": 82,
     "metadata": {},
     "output_type": "execute_result"
    }
   ],
   "source": [
    "arr2d.sum(axis=0)"
   ]
  },
  {
   "cell_type": "code",
   "execution_count": 83,
   "id": "8b2b475a-591b-4855-a9d2-5950479e9197",
   "metadata": {},
   "outputs": [
    {
     "data": {
      "text/plain": [
       "array([-106, -105,   98,  181, -151, -116,    8, -121])"
      ]
     },
     "execution_count": 83,
     "metadata": {},
     "output_type": "execute_result"
    }
   ],
   "source": [
    "arr2d.sum(axis=1)"
   ]
  },
  {
   "cell_type": "code",
   "execution_count": 84,
   "id": "330883ea-a4d3-4361-847f-6a534bc03a87",
   "metadata": {},
   "outputs": [
    {
     "data": {
      "text/plain": [
       "np.int64(6072581908942815232)"
      ]
     },
     "execution_count": 84,
     "metadata": {},
     "output_type": "execute_result"
    }
   ],
   "source": [
    "arr2d.prod()"
   ]
  },
  {
   "cell_type": "markdown",
   "id": "13c9b787-accb-4c74-89d3-9918e2b12694",
   "metadata": {},
   "source": [
    "## 11. Set operators\n",
    "    "
   ]
  },
  {
   "cell_type": "markdown",
   "id": "0e548012-5fff-4cc5-aadc-16bdb7025180",
   "metadata": {},
   "source": [
    "## 12. Boolean arrays"
   ]
  },
  {
   "cell_type": "markdown",
   "id": "7965ed74-1554-4462-911b-e00a562964ea",
   "metadata": {},
   "source": [
    "## 12.1 Compare of arrays"
   ]
  },
  {
   "cell_type": "code",
   "execution_count": 85,
   "id": "de45166c-a5db-48ec-a089-2b34ceb012fc",
   "metadata": {},
   "outputs": [
    {
     "name": "stdout",
     "output_type": "stream",
     "text": [
      "[0 1 2 3 4 5 6 7 8 9]\n"
     ]
    }
   ],
   "source": [
    "a = np.arange(10)\n",
    "print(a)"
   ]
  },
  {
   "cell_type": "code",
   "execution_count": 86,
   "id": "7f457f6b-1b29-4e9c-8fdb-8db1bced027f",
   "metadata": {},
   "outputs": [
    {
     "name": "stdout",
     "output_type": "stream",
     "text": [
      "[False False False False  True  True  True  True  True  True]\n"
     ]
    }
   ],
   "source": [
    "print(a > 3)"
   ]
  },
  {
   "cell_type": "code",
   "execution_count": 87,
   "id": "a61be8d4-8259-463f-a36b-a5bb4d8ab08d",
   "metadata": {},
   "outputs": [
    {
     "name": "stdout",
     "output_type": "stream",
     "text": [
      "[-5 -3 -1  1  3  5  7  9 11 13]\n",
      "[1 2 7 7 3 5 9 4 2 6]\n"
     ]
    }
   ],
   "source": [
    "b = np.arange(-5, 14, 2)\n",
    "print(b)\n",
    "c = np.array([1, 2, 7, 7, 3, 5, 9, 4, 2, 6])\n",
    "print(c)"
   ]
  },
  {
   "cell_type": "code",
   "execution_count": 89,
   "id": "46f8e4f5-3bba-4869-b2b1-32a17d7aea64",
   "metadata": {},
   "outputs": [
    {
     "data": {
      "text/plain": [
       "array([False, False, False, False, False, False, False,  True,  True,\n",
       "        True])"
      ]
     },
     "execution_count": 89,
     "metadata": {},
     "output_type": "execute_result"
    }
   ],
   "source": [
    "# arrays must be equal size\n",
    "b > c"
   ]
  },
  {
   "cell_type": "code",
   "execution_count": 90,
   "id": "408a1287-8a54-4231-aff7-d615743502c7",
   "metadata": {},
   "outputs": [
    {
     "data": {
      "text/plain": [
       "array([False, False, False, False, False,  True, False, False, False,\n",
       "       False])"
      ]
     },
     "execution_count": 90,
     "metadata": {},
     "output_type": "execute_result"
    }
   ],
   "source": [
    "a == b"
   ]
  },
  {
   "cell_type": "markdown",
   "id": "ba3e28e6-0390-4122-94ba-90c8d0a70e36",
   "metadata": {},
   "source": [
    "## 12.2 Create a mask"
   ]
  },
  {
   "cell_type": "code",
   "execution_count": 91,
   "id": "43b512e8-7ffc-4c20-a94c-aeef99b62880",
   "metadata": {},
   "outputs": [
    {
     "data": {
      "text/plain": [
       "array([False, False, False, False, False,  True,  True,  True,  True,\n",
       "        True])"
      ]
     },
     "execution_count": 91,
     "metadata": {},
     "output_type": "execute_result"
    }
   ],
   "source": [
    "mask = a >= 5\n",
    "mask"
   ]
  },
  {
   "cell_type": "code",
   "execution_count": 92,
   "id": "2eda2c42-c444-4a73-84de-0609b74216a6",
   "metadata": {},
   "outputs": [
    {
     "data": {
      "text/plain": [
       "array([5, 6, 7, 8, 9])"
      ]
     },
     "execution_count": 92,
     "metadata": {},
     "output_type": "execute_result"
    }
   ],
   "source": [
    "a[mask]"
   ]
  },
  {
   "cell_type": "markdown",
   "id": "a8306d31-7547-4c00-af19-7bbe63f765e1",
   "metadata": {},
   "source": [
    "12.3 And, or, not"
   ]
  },
  {
   "cell_type": "code",
   "execution_count": 93,
   "id": "3edc5771-a882-4e7a-9950-a0d76ce932b9",
   "metadata": {},
   "outputs": [
    {
     "name": "stdout",
     "output_type": "stream",
     "text": [
      "[-5 -4 -3 -2 -1  0  1  2  3  4  5  6  7  8  9 10 11 12 13 14 15 16 17 18\n",
      " 19 20 21 22 23 24]\n",
      "9.5\n"
     ]
    }
   ],
   "source": [
    "a = np.arange(-5, 25)\n",
    "print(a)\n",
    "print(a.mean())"
   ]
  },
  {
   "cell_type": "code",
   "execution_count": 94,
   "id": "cb16e4a4-b148-4f65-8cb1-a0a284e5bbb5",
   "metadata": {},
   "outputs": [
    {
     "data": {
      "text/plain": [
       "array([10, 11, 12, 13, 14, 15, 16, 17, 18, 19, 20, 22, 24])"
      ]
     },
     "execution_count": 94,
     "metadata": {},
     "output_type": "execute_result"
    }
   ],
   "source": [
    "# and\n",
    "a[(a > a.mean()) & ((a <= 20) | (a%2==0))]"
   ]
  },
  {
   "cell_type": "code",
   "execution_count": 95,
   "id": "fd9de07b-ba83-4d38-8bd6-5073db20a8f4",
   "metadata": {},
   "outputs": [
    {
     "data": {
      "text/plain": [
       "array([-5, 24])"
      ]
     },
     "execution_count": 95,
     "metadata": {},
     "output_type": "execute_result"
    }
   ],
   "source": [
    "# or\n",
    "a[(a == a.min()) | (a == a.max())]"
   ]
  },
  {
   "cell_type": "code",
   "execution_count": 96,
   "id": "76cc1cfe-f19e-456a-976b-29486b22f2a8",
   "metadata": {},
   "outputs": [
    {
     "data": {
      "text/plain": [
       "array([-5, -4, -2, -1,  1,  2,  4,  5,  7,  8, 10, 11, 13, 14, 16, 17, 19,\n",
       "       20, 22, 23])"
      ]
     },
     "execution_count": 96,
     "metadata": {},
     "output_type": "execute_result"
    }
   ],
   "source": [
    "# not\n",
    "a[~(a % 3 == 0)]"
   ]
  },
  {
   "cell_type": "markdown",
   "id": "d1c2804a-62c3-4e24-a4bb-c5122f9b9e26",
   "metadata": {},
   "source": [
    "12.4 Isin"
   ]
  },
  {
   "cell_type": "code",
   "execution_count": 97,
   "id": "e536cc77-1007-4f31-8b90-291ffcba449f",
   "metadata": {},
   "outputs": [
    {
     "name": "stdout",
     "output_type": "stream",
     "text": [
      "[-5 -4 -3 -2 -1  0  1  2  3  4  5  6  7  8  9 10 11 12 13 14 15 16 17 18\n",
      " 19 20 21 22 23 24]\n",
      "[-10  -7  -4  -1   2   5   8  11  14  17  20  23  26  29]\n"
     ]
    }
   ],
   "source": [
    "b = np.arange(-10, 30, 3)\n",
    "print(a)\n",
    "print(b)"
   ]
  },
  {
   "cell_type": "code",
   "execution_count": 98,
   "id": "7e5510a0-6404-4ef8-94bc-4388fff4a4c3",
   "metadata": {},
   "outputs": [
    {
     "data": {
      "text/plain": [
       "array([False,  True, False, False,  True, False, False,  True, False,\n",
       "       False,  True, False, False,  True, False, False,  True, False,\n",
       "       False,  True, False, False,  True, False, False,  True, False,\n",
       "       False,  True, False])"
      ]
     },
     "execution_count": 98,
     "metadata": {},
     "output_type": "execute_result"
    }
   ],
   "source": [
    "np.isin(a, b)"
   ]
  },
  {
   "cell_type": "markdown",
   "id": "7ba8dce3-47ac-4b36-a213-b35f838501fa",
   "metadata": {},
   "source": [
    "12.5 Any, all"
   ]
  },
  {
   "cell_type": "code",
   "execution_count": 99,
   "id": "07d5745a-cbc5-4ea8-a532-f962632870ea",
   "metadata": {},
   "outputs": [
    {
     "data": {
      "text/plain": [
       "array([-5, -4, -3, -2, -1,  0,  1,  2,  3,  4,  5,  6,  7,  8,  9, 10, 11,\n",
       "       12, 13, 14, 15, 16, 17, 18, 19, 20, 21, 22, 23, 24])"
      ]
     },
     "execution_count": 99,
     "metadata": {},
     "output_type": "execute_result"
    }
   ],
   "source": [
    "a"
   ]
  },
  {
   "cell_type": "code",
   "execution_count": 100,
   "id": "88458db8-736f-4d37-836c-31929920b37c",
   "metadata": {},
   "outputs": [
    {
     "data": {
      "text/plain": [
       "np.True_"
      ]
     },
     "execution_count": 100,
     "metadata": {},
     "output_type": "execute_result"
    }
   ],
   "source": [
    "# atleast one is True (in this case 1 = True)\n",
    "a.any()"
   ]
  },
  {
   "cell_type": "code",
   "execution_count": 101,
   "id": "b659abe2-7cf8-453d-b434-6d03a9ff2596",
   "metadata": {},
   "outputs": [
    {
     "data": {
      "text/plain": [
       "np.False_"
      ]
     },
     "execution_count": 101,
     "metadata": {},
     "output_type": "execute_result"
    }
   ],
   "source": [
    "# if all elements are > 20\n",
    "np.all(a > 20) "
   ]
  },
  {
   "cell_type": "markdown",
   "id": "595d9fcb-6203-489f-948e-c8265d1afbc7",
   "metadata": {},
   "source": [
    "## 13. Some math functions"
   ]
  },
  {
   "cell_type": "code",
   "execution_count": 104,
   "id": "ba4cc52d-a909-4801-81e4-c9bb4303dc8b",
   "metadata": {},
   "outputs": [
    {
     "data": {
      "text/plain": [
       "np.float64(1.0)"
      ]
     },
     "execution_count": 104,
     "metadata": {},
     "output_type": "execute_result"
    }
   ],
   "source": [
    "np.sin(np.pi/2)"
   ]
  },
  {
   "cell_type": "code",
   "execution_count": null,
   "id": "08bbd68c-c23e-4117-a913-3350902182f4",
   "metadata": {},
   "outputs": [],
   "source": [
    "import turtle  \n",
    "skk = turtle.Turtle() \n",
    "  \n",
    "for i in range(4): \n",
    "    skk.forward(50) \n",
    "    skk.right(90) \n",
    "      \n",
    "turtle.done() "
   ]
  },
  {
   "cell_type": "code",
   "execution_count": null,
   "id": "967edba3-81e0-453c-a868-3867f7e03491",
   "metadata": {},
   "outputs": [],
   "source": []
  }
 ],
 "metadata": {
  "kernelspec": {
   "display_name": "Python 3 (ipykernel)",
   "language": "python",
   "name": "python3"
  },
  "language_info": {
   "codemirror_mode": {
    "name": "ipython",
    "version": 3
   },
   "file_extension": ".py",
   "mimetype": "text/x-python",
   "name": "python",
   "nbconvert_exporter": "python",
   "pygments_lexer": "ipython3",
   "version": "3.10.4"
  }
 },
 "nbformat": 4,
 "nbformat_minor": 5
}
