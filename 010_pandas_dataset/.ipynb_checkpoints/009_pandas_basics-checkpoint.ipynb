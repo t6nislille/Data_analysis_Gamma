{
 "cells": [
  {
   "cell_type": "code",
   "execution_count": 7,
   "id": "36e55b30-0d2e-415d-aee0-e5c1c89c602c",
   "metadata": {},
   "outputs": [],
   "source": [
    "import numpy as np\n",
    "import pandas as pd"
   ]
  },
  {
   "cell_type": "markdown",
   "id": "e8793d61-b336-4bbc-b60b-84af922c1456",
   "metadata": {},
   "source": [
    "# 1. Series"
   ]
  },
  {
   "cell_type": "markdown",
   "id": "49aff0a6-cdfb-4a07-81d7-80e852ee5718",
   "metadata": {},
   "source": [
    "## 1.1 Create Series"
   ]
  },
  {
   "cell_type": "code",
   "execution_count": 16,
   "id": "67b5681e-dffc-4fa4-a3fb-3107df5af325",
   "metadata": {},
   "outputs": [],
   "source": [
    "population = [35.467, 63.951, 80.940, 60.665, 127.061, 64.511, 318.523]\n",
    "countries = [\"Canada\", \"France\", \"Germany\", \"Italy\", \"Japan\", \"United Kingdom\", \"United States\" ]"
   ]
  },
  {
   "cell_type": "code",
   "execution_count": 14,
   "id": "44effc06-a0e5-479e-8eb2-c0a856005d53",
   "metadata": {},
   "outputs": [
    {
     "data": {
      "text/plain": [
       "0     35.467\n",
       "1     63.951\n",
       "2     80.940\n",
       "3     60.665\n",
       "4    127.061\n",
       "5     64.511\n",
       "6    318.523\n",
       "dtype: float64"
      ]
     },
     "execution_count": 14,
     "metadata": {},
     "output_type": "execute_result"
    }
   ],
   "source": [
    "g7 = pd.Series(population)\n",
    "g7"
   ]
  },
  {
   "cell_type": "code",
   "execution_count": 17,
   "id": "673e4244-84cc-4ced-934b-e51b51bf604e",
   "metadata": {},
   "outputs": [
    {
     "data": {
      "text/plain": [
       "0     35.467\n",
       "1     63.951\n",
       "2     80.940\n",
       "3     60.665\n",
       "4    127.061\n",
       "5     64.511\n",
       "6    318.523\n",
       "Name: G7 Population in millions, dtype: float64"
      ]
     },
     "execution_count": 17,
     "metadata": {},
     "output_type": "execute_result"
    }
   ],
   "source": [
    "g7.name = \"G7 Population in millions\"\n",
    "g7"
   ]
  },
  {
   "cell_type": "code",
   "execution_count": 19,
   "id": "c6ffcbdb-1991-4ce5-b0d7-0c05f4e00ea9",
   "metadata": {},
   "outputs": [
    {
     "data": {
      "text/plain": [
       "array([ 35.467,  63.951,  80.94 ,  60.665, 127.061,  64.511, 318.523])"
      ]
     },
     "execution_count": 19,
     "metadata": {},
     "output_type": "execute_result"
    }
   ],
   "source": [
    "g7.values"
   ]
  },
  {
   "cell_type": "markdown",
   "id": "4ae62dc5-6ace-430e-a58f-96d86e0e49cc",
   "metadata": {},
   "source": [
    "## 1.2 Indexing"
   ]
  },
  {
   "cell_type": "code",
   "execution_count": 20,
   "id": "98a99ee2-76fb-44bc-adce-b2b0602eb47d",
   "metadata": {},
   "outputs": [
    {
     "data": {
      "text/plain": [
       "RangeIndex(start=0, stop=7, step=1)"
      ]
     },
     "execution_count": 20,
     "metadata": {},
     "output_type": "execute_result"
    }
   ],
   "source": [
    "g7.index"
   ]
  },
  {
   "cell_type": "markdown",
   "id": "2865e364-14ad-41e7-94d3-0bd02b20eada",
   "metadata": {},
   "source": [
    "# 2. Data Frame"
   ]
  },
  {
   "cell_type": "markdown",
   "id": "98ab1aab-4b0f-40c9-ac6b-dd6cea194ac9",
   "metadata": {},
   "source": [
    "## 2.1 Create & overview"
   ]
  },
  {
   "cell_type": "code",
   "execution_count": 32,
   "id": "218a0ba3-661b-4fd5-9468-ee86b2193f00",
   "metadata": {},
   "outputs": [],
   "source": [
    "g7_dict = {\n",
    "    \"Population\": [35.467, 63.951, 80.94, 60.665, 127.061, 64.511, 318.523],\n",
    "    \"GDP\": [\n",
    "        1785387,\n",
    "        2833687,\n",
    "        3874437,\n",
    "        2167744,\n",
    "        4602367,\n",
    "        2950039,\n",
    "        17348075\n",
    "    ],\n",
    "    \"HDI\": [\n",
    "        0.9123,\n",
    "        0.888,\n",
    "        0.916,\n",
    "        0.873,\n",
    "        0.891,\n",
    "        0.907,\n",
    "        0.915\n",
    "    ],\n",
    "    \"Continent\": [\n",
    "        \"America\",\n",
    "        \"Europe\",\n",
    "        \"Europe\",\n",
    "        \"Europe\",\n",
    "        \"Asia\",\n",
    "        \"Europe\",\n",
    "        \"America\"\n",
    "    ],\n",
    "    \"Surface Area\": [\n",
    "        9984670,\n",
    "        640479,\n",
    "        357114,\n",
    "        301336,\n",
    "        377930,\n",
    "        242495,\n",
    "        9525067\n",
    "    ],\n",
    "}"
   ]
  },
  {
   "cell_type": "code",
   "execution_count": 33,
   "id": "e025349e-e2ed-4bfa-adee-c468ff189fe7",
   "metadata": {},
   "outputs": [],
   "source": [
    "df = pd.DataFrame(g7_dict)"
   ]
  },
  {
   "cell_type": "code",
   "execution_count": 36,
   "id": "c5cbe253-22c4-4612-8651-358012903ddf",
   "metadata": {},
   "outputs": [
    {
     "data": {
      "text/html": [
       "<div>\n",
       "<style scoped>\n",
       "    .dataframe tbody tr th:only-of-type {\n",
       "        vertical-align: middle;\n",
       "    }\n",
       "\n",
       "    .dataframe tbody tr th {\n",
       "        vertical-align: top;\n",
       "    }\n",
       "\n",
       "    .dataframe thead th {\n",
       "        text-align: right;\n",
       "    }\n",
       "</style>\n",
       "<table border=\"1\" class=\"dataframe\">\n",
       "  <thead>\n",
       "    <tr style=\"text-align: right;\">\n",
       "      <th></th>\n",
       "      <th>Population</th>\n",
       "      <th>GDP</th>\n",
       "      <th>HDI</th>\n",
       "      <th>Continent</th>\n",
       "      <th>Surface Area</th>\n",
       "    </tr>\n",
       "  </thead>\n",
       "  <tbody>\n",
       "    <tr>\n",
       "      <th>0</th>\n",
       "      <td>35.467</td>\n",
       "      <td>1785387</td>\n",
       "      <td>0.9123</td>\n",
       "      <td>America</td>\n",
       "      <td>9984670</td>\n",
       "    </tr>\n",
       "    <tr>\n",
       "      <th>1</th>\n",
       "      <td>63.951</td>\n",
       "      <td>2833687</td>\n",
       "      <td>0.8880</td>\n",
       "      <td>Europe</td>\n",
       "      <td>640479</td>\n",
       "    </tr>\n",
       "    <tr>\n",
       "      <th>2</th>\n",
       "      <td>80.940</td>\n",
       "      <td>3874437</td>\n",
       "      <td>0.9160</td>\n",
       "      <td>Europe</td>\n",
       "      <td>357114</td>\n",
       "    </tr>\n",
       "    <tr>\n",
       "      <th>3</th>\n",
       "      <td>60.665</td>\n",
       "      <td>2167744</td>\n",
       "      <td>0.8730</td>\n",
       "      <td>Europe</td>\n",
       "      <td>301336</td>\n",
       "    </tr>\n",
       "    <tr>\n",
       "      <th>4</th>\n",
       "      <td>127.061</td>\n",
       "      <td>4602367</td>\n",
       "      <td>0.8910</td>\n",
       "      <td>Asia</td>\n",
       "      <td>377930</td>\n",
       "    </tr>\n",
       "    <tr>\n",
       "      <th>5</th>\n",
       "      <td>64.511</td>\n",
       "      <td>2950039</td>\n",
       "      <td>0.9070</td>\n",
       "      <td>Europe</td>\n",
       "      <td>242495</td>\n",
       "    </tr>\n",
       "    <tr>\n",
       "      <th>6</th>\n",
       "      <td>318.523</td>\n",
       "      <td>17348075</td>\n",
       "      <td>0.9150</td>\n",
       "      <td>America</td>\n",
       "      <td>9525067</td>\n",
       "    </tr>\n",
       "  </tbody>\n",
       "</table>\n",
       "</div>"
      ],
      "text/plain": [
       "   Population       GDP     HDI Continent  Surface Area\n",
       "0      35.467   1785387  0.9123   America       9984670\n",
       "1      63.951   2833687  0.8880    Europe        640479\n",
       "2      80.940   3874437  0.9160    Europe        357114\n",
       "3      60.665   2167744  0.8730    Europe        301336\n",
       "4     127.061   4602367  0.8910      Asia        377930\n",
       "5      64.511   2950039  0.9070    Europe        242495\n",
       "6     318.523  17348075  0.9150   America       9525067"
      ]
     },
     "execution_count": 36,
     "metadata": {},
     "output_type": "execute_result"
    }
   ],
   "source": [
    "df"
   ]
  },
  {
   "cell_type": "code",
   "execution_count": 34,
   "id": "fa11e802-1418-4a86-bc08-045bd5e58e13",
   "metadata": {},
   "outputs": [
    {
     "data": {
      "text/plain": [
       "35"
      ]
     },
     "execution_count": 34,
     "metadata": {},
     "output_type": "execute_result"
    }
   ],
   "source": [
    "df.size"
   ]
  },
  {
   "cell_type": "code",
   "execution_count": 38,
   "id": "feccaa8c-4be3-4389-babe-aefc24037288",
   "metadata": {},
   "outputs": [
    {
     "data": {
      "text/plain": [
       "(7, 5)"
      ]
     },
     "execution_count": 38,
     "metadata": {},
     "output_type": "execute_result"
    }
   ],
   "source": [
    "df.shape"
   ]
  },
  {
   "cell_type": "code",
   "execution_count": 39,
   "id": "b86cc052-d2fb-40bc-8a94-b88db5749e8c",
   "metadata": {},
   "outputs": [
    {
     "data": {
      "text/plain": [
       "7"
      ]
     },
     "execution_count": 39,
     "metadata": {},
     "output_type": "execute_result"
    }
   ],
   "source": [
    "df.shape[0]"
   ]
  },
  {
   "cell_type": "code",
   "execution_count": 35,
   "id": "da571a98-1387-4d5c-89ab-70cc4491b96b",
   "metadata": {},
   "outputs": [
    {
     "name": "stdout",
     "output_type": "stream",
     "text": [
      "<class 'pandas.core.frame.DataFrame'>\n",
      "RangeIndex: 7 entries, 0 to 6\n",
      "Data columns (total 5 columns):\n",
      " #   Column        Non-Null Count  Dtype  \n",
      "---  ------        --------------  -----  \n",
      " 0   Population    7 non-null      float64\n",
      " 1   GDP           7 non-null      int64  \n",
      " 2   HDI           7 non-null      float64\n",
      " 3   Continent     7 non-null      object \n",
      " 4   Surface Area  7 non-null      int64  \n",
      "dtypes: float64(2), int64(2), object(1)\n",
      "memory usage: 408.0+ bytes\n"
     ]
    }
   ],
   "source": [
    "df.info() # Check the info (returns aggregated summary)"
   ]
  },
  {
   "cell_type": "code",
   "execution_count": 37,
   "id": "a367fba3-d1a8-40e1-9e59-398d42055aec",
   "metadata": {},
   "outputs": [
    {
     "data": {
      "text/html": [
       "<div>\n",
       "<style scoped>\n",
       "    .dataframe tbody tr th:only-of-type {\n",
       "        vertical-align: middle;\n",
       "    }\n",
       "\n",
       "    .dataframe tbody tr th {\n",
       "        vertical-align: top;\n",
       "    }\n",
       "\n",
       "    .dataframe thead th {\n",
       "        text-align: right;\n",
       "    }\n",
       "</style>\n",
       "<table border=\"1\" class=\"dataframe\">\n",
       "  <thead>\n",
       "    <tr style=\"text-align: right;\">\n",
       "      <th></th>\n",
       "      <th>Population</th>\n",
       "      <th>GDP</th>\n",
       "      <th>HDI</th>\n",
       "      <th>Surface Area</th>\n",
       "    </tr>\n",
       "  </thead>\n",
       "  <tbody>\n",
       "    <tr>\n",
       "      <th>count</th>\n",
       "      <td>7.000000</td>\n",
       "      <td>7.000000e+00</td>\n",
       "      <td>7.000000</td>\n",
       "      <td>7.000000e+00</td>\n",
       "    </tr>\n",
       "    <tr>\n",
       "      <th>mean</th>\n",
       "      <td>107.302571</td>\n",
       "      <td>5.080248e+06</td>\n",
       "      <td>0.900329</td>\n",
       "      <td>3.061299e+06</td>\n",
       "    </tr>\n",
       "    <tr>\n",
       "      <th>std</th>\n",
       "      <td>97.249970</td>\n",
       "      <td>5.494020e+06</td>\n",
       "      <td>0.016505</td>\n",
       "      <td>4.576204e+06</td>\n",
       "    </tr>\n",
       "    <tr>\n",
       "      <th>min</th>\n",
       "      <td>35.467000</td>\n",
       "      <td>1.785387e+06</td>\n",
       "      <td>0.873000</td>\n",
       "      <td>2.424950e+05</td>\n",
       "    </tr>\n",
       "    <tr>\n",
       "      <th>25%</th>\n",
       "      <td>62.308000</td>\n",
       "      <td>2.500716e+06</td>\n",
       "      <td>0.889500</td>\n",
       "      <td>3.292250e+05</td>\n",
       "    </tr>\n",
       "    <tr>\n",
       "      <th>50%</th>\n",
       "      <td>64.511000</td>\n",
       "      <td>2.950039e+06</td>\n",
       "      <td>0.907000</td>\n",
       "      <td>3.779300e+05</td>\n",
       "    </tr>\n",
       "    <tr>\n",
       "      <th>75%</th>\n",
       "      <td>104.000500</td>\n",
       "      <td>4.238402e+06</td>\n",
       "      <td>0.913650</td>\n",
       "      <td>5.082773e+06</td>\n",
       "    </tr>\n",
       "    <tr>\n",
       "      <th>max</th>\n",
       "      <td>318.523000</td>\n",
       "      <td>1.734808e+07</td>\n",
       "      <td>0.916000</td>\n",
       "      <td>9.984670e+06</td>\n",
       "    </tr>\n",
       "  </tbody>\n",
       "</table>\n",
       "</div>"
      ],
      "text/plain": [
       "       Population           GDP       HDI  Surface Area\n",
       "count    7.000000  7.000000e+00  7.000000  7.000000e+00\n",
       "mean   107.302571  5.080248e+06  0.900329  3.061299e+06\n",
       "std     97.249970  5.494020e+06  0.016505  4.576204e+06\n",
       "min     35.467000  1.785387e+06  0.873000  2.424950e+05\n",
       "25%     62.308000  2.500716e+06  0.889500  3.292250e+05\n",
       "50%     64.511000  2.950039e+06  0.907000  3.779300e+05\n",
       "75%    104.000500  4.238402e+06  0.913650  5.082773e+06\n",
       "max    318.523000  1.734808e+07  0.916000  9.984670e+06"
      ]
     },
     "execution_count": 37,
     "metadata": {},
     "output_type": "execute_result"
    }
   ],
   "source": [
    "df.describe() # "
   ]
  },
  {
   "cell_type": "code",
   "execution_count": 42,
   "id": "7e56d36a-03d8-49d7-89fb-86a124744835",
   "metadata": {},
   "outputs": [
    {
     "data": {
      "text/html": [
       "<div>\n",
       "<style scoped>\n",
       "    .dataframe tbody tr th:only-of-type {\n",
       "        vertical-align: middle;\n",
       "    }\n",
       "\n",
       "    .dataframe tbody tr th {\n",
       "        vertical-align: top;\n",
       "    }\n",
       "\n",
       "    .dataframe thead th {\n",
       "        text-align: right;\n",
       "    }\n",
       "</style>\n",
       "<table border=\"1\" class=\"dataframe\">\n",
       "  <thead>\n",
       "    <tr style=\"text-align: right;\">\n",
       "      <th></th>\n",
       "      <th>Continent</th>\n",
       "    </tr>\n",
       "  </thead>\n",
       "  <tbody>\n",
       "    <tr>\n",
       "      <th>count</th>\n",
       "      <td>7</td>\n",
       "    </tr>\n",
       "    <tr>\n",
       "      <th>unique</th>\n",
       "      <td>3</td>\n",
       "    </tr>\n",
       "    <tr>\n",
       "      <th>top</th>\n",
       "      <td>Europe</td>\n",
       "    </tr>\n",
       "    <tr>\n",
       "      <th>freq</th>\n",
       "      <td>4</td>\n",
       "    </tr>\n",
       "  </tbody>\n",
       "</table>\n",
       "</div>"
      ],
      "text/plain": [
       "       Continent\n",
       "count          7\n",
       "unique         3\n",
       "top       Europe\n",
       "freq           4"
      ]
     },
     "execution_count": 42,
     "metadata": {},
     "output_type": "execute_result"
    }
   ],
   "source": [
    "df.describe(include=\"object\")"
   ]
  },
  {
   "cell_type": "code",
   "execution_count": 54,
   "id": "f26c4c35-cc89-4502-998c-0f33122b48eb",
   "metadata": {},
   "outputs": [],
   "source": [
    "df.index = countries"
   ]
  },
  {
   "cell_type": "code",
   "execution_count": 55,
   "id": "82c9eda9-5c3e-41e6-9c1e-b7a98e078d3f",
   "metadata": {},
   "outputs": [
    {
     "data": {
      "text/html": [
       "<div>\n",
       "<style scoped>\n",
       "    .dataframe tbody tr th:only-of-type {\n",
       "        vertical-align: middle;\n",
       "    }\n",
       "\n",
       "    .dataframe tbody tr th {\n",
       "        vertical-align: top;\n",
       "    }\n",
       "\n",
       "    .dataframe thead th {\n",
       "        text-align: right;\n",
       "    }\n",
       "</style>\n",
       "<table border=\"1\" class=\"dataframe\">\n",
       "  <thead>\n",
       "    <tr style=\"text-align: right;\">\n",
       "      <th></th>\n",
       "      <th>Population</th>\n",
       "      <th>GDP</th>\n",
       "      <th>HDI</th>\n",
       "      <th>Continent</th>\n",
       "      <th>Surface Area</th>\n",
       "    </tr>\n",
       "  </thead>\n",
       "  <tbody>\n",
       "    <tr>\n",
       "      <th>Canada</th>\n",
       "      <td>35.467</td>\n",
       "      <td>1785387</td>\n",
       "      <td>0.9123</td>\n",
       "      <td>America</td>\n",
       "      <td>9984670</td>\n",
       "    </tr>\n",
       "    <tr>\n",
       "      <th>France</th>\n",
       "      <td>63.951</td>\n",
       "      <td>2833687</td>\n",
       "      <td>0.8880</td>\n",
       "      <td>Europe</td>\n",
       "      <td>640479</td>\n",
       "    </tr>\n",
       "    <tr>\n",
       "      <th>Germany</th>\n",
       "      <td>80.940</td>\n",
       "      <td>3874437</td>\n",
       "      <td>0.9160</td>\n",
       "      <td>Europe</td>\n",
       "      <td>357114</td>\n",
       "    </tr>\n",
       "    <tr>\n",
       "      <th>Italy</th>\n",
       "      <td>60.665</td>\n",
       "      <td>2167744</td>\n",
       "      <td>0.8730</td>\n",
       "      <td>Europe</td>\n",
       "      <td>301336</td>\n",
       "    </tr>\n",
       "    <tr>\n",
       "      <th>Japan</th>\n",
       "      <td>127.061</td>\n",
       "      <td>4602367</td>\n",
       "      <td>0.8910</td>\n",
       "      <td>Asia</td>\n",
       "      <td>377930</td>\n",
       "    </tr>\n",
       "    <tr>\n",
       "      <th>United Kingdom</th>\n",
       "      <td>64.511</td>\n",
       "      <td>2950039</td>\n",
       "      <td>0.9070</td>\n",
       "      <td>Europe</td>\n",
       "      <td>242495</td>\n",
       "    </tr>\n",
       "    <tr>\n",
       "      <th>United States</th>\n",
       "      <td>318.523</td>\n",
       "      <td>17348075</td>\n",
       "      <td>0.9150</td>\n",
       "      <td>America</td>\n",
       "      <td>9525067</td>\n",
       "    </tr>\n",
       "  </tbody>\n",
       "</table>\n",
       "</div>"
      ],
      "text/plain": [
       "                Population       GDP     HDI Continent  Surface Area\n",
       "Canada              35.467   1785387  0.9123   America       9984670\n",
       "France              63.951   2833687  0.8880    Europe        640479\n",
       "Germany             80.940   3874437  0.9160    Europe        357114\n",
       "Italy               60.665   2167744  0.8730    Europe        301336\n",
       "Japan              127.061   4602367  0.8910      Asia        377930\n",
       "United Kingdom      64.511   2950039  0.9070    Europe        242495\n",
       "United States      318.523  17348075  0.9150   America       9525067"
      ]
     },
     "execution_count": 55,
     "metadata": {},
     "output_type": "execute_result"
    }
   ],
   "source": [
    "df"
   ]
  },
  {
   "cell_type": "code",
   "execution_count": 44,
   "id": "3f8a2f18-08a7-49a2-b2ce-0c450aee2642",
   "metadata": {},
   "outputs": [
    {
     "data": {
      "text/html": [
       "<div>\n",
       "<style scoped>\n",
       "    .dataframe tbody tr th:only-of-type {\n",
       "        vertical-align: middle;\n",
       "    }\n",
       "\n",
       "    .dataframe tbody tr th {\n",
       "        vertical-align: top;\n",
       "    }\n",
       "\n",
       "    .dataframe thead th {\n",
       "        text-align: right;\n",
       "    }\n",
       "</style>\n",
       "<table border=\"1\" class=\"dataframe\">\n",
       "  <thead>\n",
       "    <tr style=\"text-align: right;\">\n",
       "      <th></th>\n",
       "      <th>Population</th>\n",
       "      <th>GDP</th>\n",
       "      <th>HDI</th>\n",
       "      <th>Surface Area</th>\n",
       "    </tr>\n",
       "  </thead>\n",
       "  <tbody>\n",
       "    <tr>\n",
       "      <th>count</th>\n",
       "      <td>7.000000</td>\n",
       "      <td>7.000000e+00</td>\n",
       "      <td>7.000000</td>\n",
       "      <td>7.000000e+00</td>\n",
       "    </tr>\n",
       "    <tr>\n",
       "      <th>mean</th>\n",
       "      <td>107.302571</td>\n",
       "      <td>5.080248e+06</td>\n",
       "      <td>0.900329</td>\n",
       "      <td>3.061299e+06</td>\n",
       "    </tr>\n",
       "    <tr>\n",
       "      <th>std</th>\n",
       "      <td>97.249970</td>\n",
       "      <td>5.494020e+06</td>\n",
       "      <td>0.016505</td>\n",
       "      <td>4.576204e+06</td>\n",
       "    </tr>\n",
       "    <tr>\n",
       "      <th>min</th>\n",
       "      <td>35.467000</td>\n",
       "      <td>1.785387e+06</td>\n",
       "      <td>0.873000</td>\n",
       "      <td>2.424950e+05</td>\n",
       "    </tr>\n",
       "    <tr>\n",
       "      <th>20%</th>\n",
       "      <td>61.322200</td>\n",
       "      <td>2.300933e+06</td>\n",
       "      <td>0.888600</td>\n",
       "      <td>3.124916e+05</td>\n",
       "    </tr>\n",
       "    <tr>\n",
       "      <th>40%</th>\n",
       "      <td>64.175000</td>\n",
       "      <td>2.880228e+06</td>\n",
       "      <td>0.897400</td>\n",
       "      <td>3.654404e+05</td>\n",
       "    </tr>\n",
       "    <tr>\n",
       "      <th>50%</th>\n",
       "      <td>64.511000</td>\n",
       "      <td>2.950039e+06</td>\n",
       "      <td>0.907000</td>\n",
       "      <td>3.779300e+05</td>\n",
       "    </tr>\n",
       "    <tr>\n",
       "      <th>60%</th>\n",
       "      <td>74.368400</td>\n",
       "      <td>3.504678e+06</td>\n",
       "      <td>0.910180</td>\n",
       "      <td>5.354594e+05</td>\n",
       "    </tr>\n",
       "    <tr>\n",
       "      <th>80%</th>\n",
       "      <td>117.836800</td>\n",
       "      <td>4.456781e+06</td>\n",
       "      <td>0.914460</td>\n",
       "      <td>7.748149e+06</td>\n",
       "    </tr>\n",
       "    <tr>\n",
       "      <th>max</th>\n",
       "      <td>318.523000</td>\n",
       "      <td>1.734808e+07</td>\n",
       "      <td>0.916000</td>\n",
       "      <td>9.984670e+06</td>\n",
       "    </tr>\n",
       "  </tbody>\n",
       "</table>\n",
       "</div>"
      ],
      "text/plain": [
       "       Population           GDP       HDI  Surface Area\n",
       "count    7.000000  7.000000e+00  7.000000  7.000000e+00\n",
       "mean   107.302571  5.080248e+06  0.900329  3.061299e+06\n",
       "std     97.249970  5.494020e+06  0.016505  4.576204e+06\n",
       "min     35.467000  1.785387e+06  0.873000  2.424950e+05\n",
       "20%     61.322200  2.300933e+06  0.888600  3.124916e+05\n",
       "40%     64.175000  2.880228e+06  0.897400  3.654404e+05\n",
       "50%     64.511000  2.950039e+06  0.907000  3.779300e+05\n",
       "60%     74.368400  3.504678e+06  0.910180  5.354594e+05\n",
       "80%    117.836800  4.456781e+06  0.914460  7.748149e+06\n",
       "max    318.523000  1.734808e+07  0.916000  9.984670e+06"
      ]
     },
     "execution_count": 44,
     "metadata": {},
     "output_type": "execute_result"
    }
   ],
   "source": [
    "df.describe(percentiles=[.2, .4, .6, .8])"
   ]
  },
  {
   "cell_type": "markdown",
   "id": "078191c8-c723-4189-ae30-48dd84fdc48c",
   "metadata": {},
   "source": [
    "# 2.2 Indexing, Selecting and Slicing"
   ]
  },
  {
   "cell_type": "code",
   "execution_count": 45,
   "id": "e5dd805f-90a3-4004-b91e-5f4e66e6088e",
   "metadata": {},
   "outputs": [
    {
     "data": {
      "text/html": [
       "<div>\n",
       "<style scoped>\n",
       "    .dataframe tbody tr th:only-of-type {\n",
       "        vertical-align: middle;\n",
       "    }\n",
       "\n",
       "    .dataframe tbody tr th {\n",
       "        vertical-align: top;\n",
       "    }\n",
       "\n",
       "    .dataframe thead th {\n",
       "        text-align: right;\n",
       "    }\n",
       "</style>\n",
       "<table border=\"1\" class=\"dataframe\">\n",
       "  <thead>\n",
       "    <tr style=\"text-align: right;\">\n",
       "      <th></th>\n",
       "      <th>Population</th>\n",
       "      <th>GDP</th>\n",
       "      <th>HDI</th>\n",
       "      <th>Continent</th>\n",
       "      <th>Surface Area</th>\n",
       "    </tr>\n",
       "  </thead>\n",
       "  <tbody>\n",
       "    <tr>\n",
       "      <th>0</th>\n",
       "      <td>35.467</td>\n",
       "      <td>1785387</td>\n",
       "      <td>0.9123</td>\n",
       "      <td>America</td>\n",
       "      <td>9984670</td>\n",
       "    </tr>\n",
       "    <tr>\n",
       "      <th>1</th>\n",
       "      <td>63.951</td>\n",
       "      <td>2833687</td>\n",
       "      <td>0.8880</td>\n",
       "      <td>Europe</td>\n",
       "      <td>640479</td>\n",
       "    </tr>\n",
       "    <tr>\n",
       "      <th>2</th>\n",
       "      <td>80.940</td>\n",
       "      <td>3874437</td>\n",
       "      <td>0.9160</td>\n",
       "      <td>Europe</td>\n",
       "      <td>357114</td>\n",
       "    </tr>\n",
       "    <tr>\n",
       "      <th>3</th>\n",
       "      <td>60.665</td>\n",
       "      <td>2167744</td>\n",
       "      <td>0.8730</td>\n",
       "      <td>Europe</td>\n",
       "      <td>301336</td>\n",
       "    </tr>\n",
       "    <tr>\n",
       "      <th>4</th>\n",
       "      <td>127.061</td>\n",
       "      <td>4602367</td>\n",
       "      <td>0.8910</td>\n",
       "      <td>Asia</td>\n",
       "      <td>377930</td>\n",
       "    </tr>\n",
       "    <tr>\n",
       "      <th>5</th>\n",
       "      <td>64.511</td>\n",
       "      <td>2950039</td>\n",
       "      <td>0.9070</td>\n",
       "      <td>Europe</td>\n",
       "      <td>242495</td>\n",
       "    </tr>\n",
       "    <tr>\n",
       "      <th>6</th>\n",
       "      <td>318.523</td>\n",
       "      <td>17348075</td>\n",
       "      <td>0.9150</td>\n",
       "      <td>America</td>\n",
       "      <td>9525067</td>\n",
       "    </tr>\n",
       "  </tbody>\n",
       "</table>\n",
       "</div>"
      ],
      "text/plain": [
       "   Population       GDP     HDI Continent  Surface Area\n",
       "0      35.467   1785387  0.9123   America       9984670\n",
       "1      63.951   2833687  0.8880    Europe        640479\n",
       "2      80.940   3874437  0.9160    Europe        357114\n",
       "3      60.665   2167744  0.8730    Europe        301336\n",
       "4     127.061   4602367  0.8910      Asia        377930\n",
       "5      64.511   2950039  0.9070    Europe        242495\n",
       "6     318.523  17348075  0.9150   America       9525067"
      ]
     },
     "execution_count": 45,
     "metadata": {},
     "output_type": "execute_result"
    }
   ],
   "source": [
    "df"
   ]
  },
  {
   "cell_type": "code",
   "execution_count": 46,
   "id": "365f49e4-c215-482c-abb5-afdc7fe32ce4",
   "metadata": {},
   "outputs": [
    {
     "data": {
      "text/plain": [
       "0     1785387\n",
       "1     2833687\n",
       "2     3874437\n",
       "3     2167744\n",
       "4     4602367\n",
       "5     2950039\n",
       "6    17348075\n",
       "Name: GDP, dtype: int64"
      ]
     },
     "execution_count": 46,
     "metadata": {},
     "output_type": "execute_result"
    }
   ],
   "source": [
    "df[\"GDP\"]"
   ]
  },
  {
   "cell_type": "code",
   "execution_count": 56,
   "id": "9158e9da-c376-41b4-907a-29c8b575be25",
   "metadata": {},
   "outputs": [
    {
     "data": {
      "text/plain": [
       "np.int64(1785387)"
      ]
     },
     "execution_count": 56,
     "metadata": {},
     "output_type": "execute_result"
    }
   ],
   "source": [
    "df.loc[\"Canada\", \"GDP\"]"
   ]
  },
  {
   "cell_type": "code",
   "execution_count": 57,
   "id": "7ba1ef3d-9659-4e70-9abb-59e39f4c05ae",
   "metadata": {},
   "outputs": [
    {
     "data": {
      "text/plain": [
       "np.int64(2833687)"
      ]
     },
     "execution_count": 57,
     "metadata": {},
     "output_type": "execute_result"
    }
   ],
   "source": [
    "df.loc[\"France\"] [\"GDP\"]"
   ]
  },
  {
   "cell_type": "code",
   "execution_count": 51,
   "id": "5f775c9c-406a-42f9-aff6-696f46e4dbc8",
   "metadata": {},
   "outputs": [
    {
     "data": {
      "text/plain": [
       "0     35.467\n",
       "1     63.951\n",
       "2     80.940\n",
       "3     60.665\n",
       "4    127.061\n",
       "5     64.511\n",
       "6    318.523\n",
       "Name: Population, dtype: float64"
      ]
     },
     "execution_count": 51,
     "metadata": {},
     "output_type": "execute_result"
    }
   ],
   "source": [
    "df[\"Population\"]"
   ]
  },
  {
   "cell_type": "code",
   "execution_count": 60,
   "id": "76eca362-d50b-408e-ae4a-4c1873f8e211",
   "metadata": {},
   "outputs": [
    {
     "data": {
      "text/plain": [
       "Canada             35.467\n",
       "France             63.951\n",
       "Germany            80.940\n",
       "Italy              60.665\n",
       "Japan             127.061\n",
       "United Kingdom     64.511\n",
       "United States     318.523\n",
       "Name: Population, dtype: float64"
      ]
     },
     "execution_count": 60,
     "metadata": {},
     "output_type": "execute_result"
    }
   ],
   "source": [
    "# using .column_name\n",
    "df.Population"
   ]
  },
  {
   "cell_type": "code",
   "execution_count": 62,
   "id": "1636bdf4-1139-43c2-b131-3ba53b9e3949",
   "metadata": {},
   "outputs": [
    {
     "name": "stdout",
     "output_type": "stream",
     "text": [
      "35.467\n"
     ]
    }
   ],
   "source": [
    "\n",
    "print(df.Population.Canada)"
   ]
  },
  {
   "cell_type": "code",
   "execution_count": 64,
   "id": "f0c7584d-8766-4fc5-8132-8fdfea06dc12",
   "metadata": {},
   "outputs": [
    {
     "data": {
      "text/html": [
       "<div>\n",
       "<style scoped>\n",
       "    .dataframe tbody tr th:only-of-type {\n",
       "        vertical-align: middle;\n",
       "    }\n",
       "\n",
       "    .dataframe tbody tr th {\n",
       "        vertical-align: top;\n",
       "    }\n",
       "\n",
       "    .dataframe thead th {\n",
       "        text-align: right;\n",
       "    }\n",
       "</style>\n",
       "<table border=\"1\" class=\"dataframe\">\n",
       "  <thead>\n",
       "    <tr style=\"text-align: right;\">\n",
       "      <th></th>\n",
       "      <th>Population</th>\n",
       "      <th>GDP</th>\n",
       "      <th>HDI</th>\n",
       "      <th>Continent</th>\n",
       "      <th>Surface Area</th>\n",
       "    </tr>\n",
       "  </thead>\n",
       "  <tbody>\n",
       "    <tr>\n",
       "      <th>Canada</th>\n",
       "      <td>35.200</td>\n",
       "      <td>1785387</td>\n",
       "      <td>0.9123</td>\n",
       "      <td>America</td>\n",
       "      <td>9984670</td>\n",
       "    </tr>\n",
       "    <tr>\n",
       "      <th>France</th>\n",
       "      <td>63.951</td>\n",
       "      <td>2833687</td>\n",
       "      <td>0.8880</td>\n",
       "      <td>Europe</td>\n",
       "      <td>640479</td>\n",
       "    </tr>\n",
       "    <tr>\n",
       "      <th>Germany</th>\n",
       "      <td>80.940</td>\n",
       "      <td>3874437</td>\n",
       "      <td>0.9160</td>\n",
       "      <td>Europe</td>\n",
       "      <td>357114</td>\n",
       "    </tr>\n",
       "    <tr>\n",
       "      <th>Italy</th>\n",
       "      <td>60.665</td>\n",
       "      <td>2167744</td>\n",
       "      <td>0.8730</td>\n",
       "      <td>Europe</td>\n",
       "      <td>301336</td>\n",
       "    </tr>\n",
       "    <tr>\n",
       "      <th>Japan</th>\n",
       "      <td>127.061</td>\n",
       "      <td>4602367</td>\n",
       "      <td>0.8910</td>\n",
       "      <td>Asia</td>\n",
       "      <td>377930</td>\n",
       "    </tr>\n",
       "    <tr>\n",
       "      <th>United Kingdom</th>\n",
       "      <td>64.511</td>\n",
       "      <td>2950039</td>\n",
       "      <td>0.9070</td>\n",
       "      <td>Europe</td>\n",
       "      <td>242495</td>\n",
       "    </tr>\n",
       "    <tr>\n",
       "      <th>United States</th>\n",
       "      <td>318.523</td>\n",
       "      <td>17348075</td>\n",
       "      <td>0.9150</td>\n",
       "      <td>America</td>\n",
       "      <td>9525067</td>\n",
       "    </tr>\n",
       "  </tbody>\n",
       "</table>\n",
       "</div>"
      ],
      "text/plain": [
       "                Population       GDP     HDI Continent  Surface Area\n",
       "Canada              35.200   1785387  0.9123   America       9984670\n",
       "France              63.951   2833687  0.8880    Europe        640479\n",
       "Germany             80.940   3874437  0.9160    Europe        357114\n",
       "Italy               60.665   2167744  0.8730    Europe        301336\n",
       "Japan              127.061   4602367  0.8910      Asia        377930\n",
       "United Kingdom      64.511   2950039  0.9070    Europe        242495\n",
       "United States      318.523  17348075  0.9150   America       9525067"
      ]
     },
     "execution_count": 64,
     "metadata": {},
     "output_type": "execute_result"
    }
   ],
   "source": [
    "# Change the data in the dataframe\n",
    "df.loc[\"Canada\", \"Population\"] = 35.2\n",
    "df"
   ]
  },
  {
   "cell_type": "markdown",
   "id": "6fad71ed-5b2e-44b7-9ad9-d23617ad61c0",
   "metadata": {},
   "source": [
    "## 2.3 Drop Values and Colums"
   ]
  },
  {
   "cell_type": "code",
   "execution_count": null,
   "id": "eb4c2621-a7a7-40f4-b454-ebb3c239e1cf",
   "metadata": {},
   "outputs": [],
   "source": [
    "# Removes the row or column\n",
    "df.drop(\"Canada\")"
   ]
  },
  {
   "cell_type": "code",
   "execution_count": null,
   "id": "566646cc-4fdf-4901-ba60-2451c5658828",
   "metadata": {},
   "outputs": [],
   "source": [
    "# Removes Canada and Japan\n",
    "df.drop([\"Canada\", \"Japan\"])"
   ]
  },
  {
   "cell_type": "code",
   "execution_count": null,
   "id": "558045c4-18ab-45a8-8c0f-e8d46c0a1c97",
   "metadata": {},
   "outputs": [],
   "source": [
    "# Removes columns GDP and Surface Area\n",
    "df.drop(columns=[\"GDP\", \"Surface Area\"])"
   ]
  },
  {
   "cell_type": "code",
   "execution_count": null,
   "id": "c7e1cad5-2a4c-4d2b-9948-b63ce3537168",
   "metadata": {},
   "outputs": [],
   "source": [
    "# Removes the axis=0 (Row 0) index Italy\n",
    "df.drop(\"Italy\", axis=0)"
   ]
  },
  {
   "cell_type": "markdown",
   "id": "1be94e6b-ad5c-4943-a1ec-6a8af4f23b66",
   "metadata": {},
   "source": [
    "## 2.4 Operations"
   ]
  },
  {
   "cell_type": "code",
   "execution_count": 65,
   "id": "c9b3f26f-4ec8-4376-b9c6-20211e1169fc",
   "metadata": {},
   "outputs": [
    {
     "data": {
      "text/html": [
       "<div>\n",
       "<style scoped>\n",
       "    .dataframe tbody tr th:only-of-type {\n",
       "        vertical-align: middle;\n",
       "    }\n",
       "\n",
       "    .dataframe tbody tr th {\n",
       "        vertical-align: top;\n",
       "    }\n",
       "\n",
       "    .dataframe thead th {\n",
       "        text-align: right;\n",
       "    }\n",
       "</style>\n",
       "<table border=\"1\" class=\"dataframe\">\n",
       "  <thead>\n",
       "    <tr style=\"text-align: right;\">\n",
       "      <th></th>\n",
       "      <th>Population</th>\n",
       "      <th>GDP</th>\n",
       "    </tr>\n",
       "  </thead>\n",
       "  <tbody>\n",
       "    <tr>\n",
       "      <th>Canada</th>\n",
       "      <td>0.35200</td>\n",
       "      <td>17853.87</td>\n",
       "    </tr>\n",
       "    <tr>\n",
       "      <th>France</th>\n",
       "      <td>0.63951</td>\n",
       "      <td>28336.87</td>\n",
       "    </tr>\n",
       "    <tr>\n",
       "      <th>Germany</th>\n",
       "      <td>0.80940</td>\n",
       "      <td>38744.37</td>\n",
       "    </tr>\n",
       "    <tr>\n",
       "      <th>Italy</th>\n",
       "      <td>0.60665</td>\n",
       "      <td>21677.44</td>\n",
       "    </tr>\n",
       "    <tr>\n",
       "      <th>Japan</th>\n",
       "      <td>1.27061</td>\n",
       "      <td>46023.67</td>\n",
       "    </tr>\n",
       "    <tr>\n",
       "      <th>United Kingdom</th>\n",
       "      <td>0.64511</td>\n",
       "      <td>29500.39</td>\n",
       "    </tr>\n",
       "    <tr>\n",
       "      <th>United States</th>\n",
       "      <td>3.18523</td>\n",
       "      <td>173480.75</td>\n",
       "    </tr>\n",
       "  </tbody>\n",
       "</table>\n",
       "</div>"
      ],
      "text/plain": [
       "                Population        GDP\n",
       "Canada             0.35200   17853.87\n",
       "France             0.63951   28336.87\n",
       "Germany            0.80940   38744.37\n",
       "Italy              0.60665   21677.44\n",
       "Japan              1.27061   46023.67\n",
       "United Kingdom     0.64511   29500.39\n",
       "United States      3.18523  173480.75"
      ]
     },
     "execution_count": 65,
     "metadata": {},
     "output_type": "execute_result"
    }
   ],
   "source": [
    "# Divide all the values in all of the rows by 100\n",
    "df[[\"Population\", \"GDP\"]] / 100"
   ]
  },
  {
   "cell_type": "code",
   "execution_count": 66,
   "id": "e89d9189-a029-442b-898f-2d951c5812ff",
   "metadata": {},
   "outputs": [
    {
     "data": {
      "text/plain": [
       "GDP   -500000.0\n",
       "HDI        -0.3\n",
       "dtype: float64"
      ]
     },
     "execution_count": 66,
     "metadata": {},
     "output_type": "execute_result"
    }
   ],
   "source": [
    "crisis = pd.Series([-500000, -0.3], index=[\"GDP\", \"HDI\"])\n",
    "crisis"
   ]
  },
  {
   "cell_type": "code",
   "execution_count": 67,
   "id": "c6b8d1ff-c3ef-46e1-9215-e743ba8620ee",
   "metadata": {},
   "outputs": [
    {
     "data": {
      "text/html": [
       "<div>\n",
       "<style scoped>\n",
       "    .dataframe tbody tr th:only-of-type {\n",
       "        vertical-align: middle;\n",
       "    }\n",
       "\n",
       "    .dataframe tbody tr th {\n",
       "        vertical-align: top;\n",
       "    }\n",
       "\n",
       "    .dataframe thead th {\n",
       "        text-align: right;\n",
       "    }\n",
       "</style>\n",
       "<table border=\"1\" class=\"dataframe\">\n",
       "  <thead>\n",
       "    <tr style=\"text-align: right;\">\n",
       "      <th></th>\n",
       "      <th>GDP</th>\n",
       "      <th>HDI</th>\n",
       "    </tr>\n",
       "  </thead>\n",
       "  <tbody>\n",
       "    <tr>\n",
       "      <th>Canada</th>\n",
       "      <td>1785387</td>\n",
       "      <td>0.9123</td>\n",
       "    </tr>\n",
       "    <tr>\n",
       "      <th>France</th>\n",
       "      <td>2833687</td>\n",
       "      <td>0.8880</td>\n",
       "    </tr>\n",
       "    <tr>\n",
       "      <th>Germany</th>\n",
       "      <td>3874437</td>\n",
       "      <td>0.9160</td>\n",
       "    </tr>\n",
       "    <tr>\n",
       "      <th>Italy</th>\n",
       "      <td>2167744</td>\n",
       "      <td>0.8730</td>\n",
       "    </tr>\n",
       "    <tr>\n",
       "      <th>Japan</th>\n",
       "      <td>4602367</td>\n",
       "      <td>0.8910</td>\n",
       "    </tr>\n",
       "    <tr>\n",
       "      <th>United Kingdom</th>\n",
       "      <td>2950039</td>\n",
       "      <td>0.9070</td>\n",
       "    </tr>\n",
       "    <tr>\n",
       "      <th>United States</th>\n",
       "      <td>17348075</td>\n",
       "      <td>0.9150</td>\n",
       "    </tr>\n",
       "  </tbody>\n",
       "</table>\n",
       "</div>"
      ],
      "text/plain": [
       "                     GDP     HDI\n",
       "Canada           1785387  0.9123\n",
       "France           2833687  0.8880\n",
       "Germany          3874437  0.9160\n",
       "Italy            2167744  0.8730\n",
       "Japan            4602367  0.8910\n",
       "United Kingdom   2950039  0.9070\n",
       "United States   17348075  0.9150"
      ]
     },
     "execution_count": 67,
     "metadata": {},
     "output_type": "execute_result"
    }
   ],
   "source": [
    "df[[\"GDP\", \"HDI\"]]"
   ]
  },
  {
   "cell_type": "code",
   "execution_count": 68,
   "id": "a00c62fe-147d-4f89-bdc7-42fca367b2f2",
   "metadata": {},
   "outputs": [
    {
     "data": {
      "text/html": [
       "<div>\n",
       "<style scoped>\n",
       "    .dataframe tbody tr th:only-of-type {\n",
       "        vertical-align: middle;\n",
       "    }\n",
       "\n",
       "    .dataframe tbody tr th {\n",
       "        vertical-align: top;\n",
       "    }\n",
       "\n",
       "    .dataframe thead th {\n",
       "        text-align: right;\n",
       "    }\n",
       "</style>\n",
       "<table border=\"1\" class=\"dataframe\">\n",
       "  <thead>\n",
       "    <tr style=\"text-align: right;\">\n",
       "      <th></th>\n",
       "      <th>GDP</th>\n",
       "      <th>HDI</th>\n",
       "    </tr>\n",
       "  </thead>\n",
       "  <tbody>\n",
       "    <tr>\n",
       "      <th>Canada</th>\n",
       "      <td>1285387.0</td>\n",
       "      <td>0.6123</td>\n",
       "    </tr>\n",
       "    <tr>\n",
       "      <th>France</th>\n",
       "      <td>2333687.0</td>\n",
       "      <td>0.5880</td>\n",
       "    </tr>\n",
       "    <tr>\n",
       "      <th>Germany</th>\n",
       "      <td>3374437.0</td>\n",
       "      <td>0.6160</td>\n",
       "    </tr>\n",
       "    <tr>\n",
       "      <th>Italy</th>\n",
       "      <td>1667744.0</td>\n",
       "      <td>0.5730</td>\n",
       "    </tr>\n",
       "    <tr>\n",
       "      <th>Japan</th>\n",
       "      <td>4102367.0</td>\n",
       "      <td>0.5910</td>\n",
       "    </tr>\n",
       "    <tr>\n",
       "      <th>United Kingdom</th>\n",
       "      <td>2450039.0</td>\n",
       "      <td>0.6070</td>\n",
       "    </tr>\n",
       "    <tr>\n",
       "      <th>United States</th>\n",
       "      <td>16848075.0</td>\n",
       "      <td>0.6150</td>\n",
       "    </tr>\n",
       "  </tbody>\n",
       "</table>\n",
       "</div>"
      ],
      "text/plain": [
       "                       GDP     HDI\n",
       "Canada           1285387.0  0.6123\n",
       "France           2333687.0  0.5880\n",
       "Germany          3374437.0  0.6160\n",
       "Italy            1667744.0  0.5730\n",
       "Japan            4102367.0  0.5910\n",
       "United Kingdom   2450039.0  0.6070\n",
       "United States   16848075.0  0.6150"
      ]
     },
     "execution_count": 68,
     "metadata": {},
     "output_type": "execute_result"
    }
   ],
   "source": [
    "df[[\"GDP\", \"HDI\"]] + crisis"
   ]
  },
  {
   "cell_type": "markdown",
   "id": "ddf67f3b-6368-4ec6-9821-125414af1054",
   "metadata": {},
   "source": [
    "## 2.5 Modyfying DataFrames"
   ]
  },
  {
   "cell_type": "code",
   "execution_count": 69,
   "id": "fc40fef9-df45-4094-bc13-e28d7cffc127",
   "metadata": {},
   "outputs": [
    {
     "data": {
      "text/plain": [
       "France      French\n",
       "Germany     German\n",
       "Italy      Italian\n",
       "Name: Language, dtype: object"
      ]
     },
     "execution_count": 69,
     "metadata": {},
     "output_type": "execute_result"
    }
   ],
   "source": [
    "langs = pd.Series([\"French\", \"German\", \"Italian\"], index=[\"France\", \"Germany\", \"Italy\"], name=\"Language\")\n",
    "langs"
   ]
  },
  {
   "cell_type": "code",
   "execution_count": 73,
   "id": "b4e7e46f-18a4-43db-8a43-56720b889c09",
   "metadata": {},
   "outputs": [
    {
     "data": {
      "text/html": [
       "<div>\n",
       "<style scoped>\n",
       "    .dataframe tbody tr th:only-of-type {\n",
       "        vertical-align: middle;\n",
       "    }\n",
       "\n",
       "    .dataframe tbody tr th {\n",
       "        vertical-align: top;\n",
       "    }\n",
       "\n",
       "    .dataframe thead th {\n",
       "        text-align: right;\n",
       "    }\n",
       "</style>\n",
       "<table border=\"1\" class=\"dataframe\">\n",
       "  <thead>\n",
       "    <tr style=\"text-align: right;\">\n",
       "      <th></th>\n",
       "      <th>Population</th>\n",
       "      <th>GDP</th>\n",
       "      <th>HDI</th>\n",
       "      <th>Continent</th>\n",
       "      <th>Surface Area</th>\n",
       "      <th>Language</th>\n",
       "    </tr>\n",
       "  </thead>\n",
       "  <tbody>\n",
       "    <tr>\n",
       "      <th>Canada</th>\n",
       "      <td>35.200</td>\n",
       "      <td>1785387</td>\n",
       "      <td>0.9123</td>\n",
       "      <td>America</td>\n",
       "      <td>9984670</td>\n",
       "      <td>NaN</td>\n",
       "    </tr>\n",
       "    <tr>\n",
       "      <th>France</th>\n",
       "      <td>63.951</td>\n",
       "      <td>2833687</td>\n",
       "      <td>0.8880</td>\n",
       "      <td>Europe</td>\n",
       "      <td>640479</td>\n",
       "      <td>French</td>\n",
       "    </tr>\n",
       "    <tr>\n",
       "      <th>Germany</th>\n",
       "      <td>80.940</td>\n",
       "      <td>3874437</td>\n",
       "      <td>0.9160</td>\n",
       "      <td>Europe</td>\n",
       "      <td>357114</td>\n",
       "      <td>German</td>\n",
       "    </tr>\n",
       "    <tr>\n",
       "      <th>Italy</th>\n",
       "      <td>60.665</td>\n",
       "      <td>2167744</td>\n",
       "      <td>0.8730</td>\n",
       "      <td>Europe</td>\n",
       "      <td>301336</td>\n",
       "      <td>Italian</td>\n",
       "    </tr>\n",
       "    <tr>\n",
       "      <th>Japan</th>\n",
       "      <td>127.061</td>\n",
       "      <td>4602367</td>\n",
       "      <td>0.8910</td>\n",
       "      <td>Asia</td>\n",
       "      <td>377930</td>\n",
       "      <td>NaN</td>\n",
       "    </tr>\n",
       "    <tr>\n",
       "      <th>United Kingdom</th>\n",
       "      <td>64.511</td>\n",
       "      <td>2950039</td>\n",
       "      <td>0.9070</td>\n",
       "      <td>Europe</td>\n",
       "      <td>242495</td>\n",
       "      <td>NaN</td>\n",
       "    </tr>\n",
       "    <tr>\n",
       "      <th>United States</th>\n",
       "      <td>318.523</td>\n",
       "      <td>17348075</td>\n",
       "      <td>0.9150</td>\n",
       "      <td>America</td>\n",
       "      <td>9525067</td>\n",
       "      <td>NaN</td>\n",
       "    </tr>\n",
       "  </tbody>\n",
       "</table>\n",
       "</div>"
      ],
      "text/plain": [
       "                Population       GDP     HDI Continent  Surface Area Language\n",
       "Canada              35.200   1785387  0.9123   America       9984670      NaN\n",
       "France              63.951   2833687  0.8880    Europe        640479   French\n",
       "Germany             80.940   3874437  0.9160    Europe        357114   German\n",
       "Italy               60.665   2167744  0.8730    Europe        301336  Italian\n",
       "Japan              127.061   4602367  0.8910      Asia        377930      NaN\n",
       "United Kingdom      64.511   2950039  0.9070    Europe        242495      NaN\n",
       "United States      318.523  17348075  0.9150   America       9525067      NaN"
      ]
     },
     "execution_count": 73,
     "metadata": {},
     "output_type": "execute_result"
    }
   ],
   "source": [
    "# Add column Languages using data from langs\n",
    "df[\"Language\"] = langs\n",
    "df"
   ]
  },
  {
   "cell_type": "code",
   "execution_count": 72,
   "id": "ae568d9d-88fc-4941-b2d3-a23c52bf9c84",
   "metadata": {},
   "outputs": [
    {
     "data": {
      "text/html": [
       "<div>\n",
       "<style scoped>\n",
       "    .dataframe tbody tr th:only-of-type {\n",
       "        vertical-align: middle;\n",
       "    }\n",
       "\n",
       "    .dataframe tbody tr th {\n",
       "        vertical-align: top;\n",
       "    }\n",
       "\n",
       "    .dataframe thead th {\n",
       "        text-align: right;\n",
       "    }\n",
       "</style>\n",
       "<table border=\"1\" class=\"dataframe\">\n",
       "  <thead>\n",
       "    <tr style=\"text-align: right;\">\n",
       "      <th></th>\n",
       "      <th>Population</th>\n",
       "      <th>GDP</th>\n",
       "      <th>HDI</th>\n",
       "      <th>Continent</th>\n",
       "      <th>Surface Area</th>\n",
       "      <th>Language</th>\n",
       "    </tr>\n",
       "  </thead>\n",
       "  <tbody>\n",
       "    <tr>\n",
       "      <th>Canada</th>\n",
       "      <td>35.200</td>\n",
       "      <td>1785387</td>\n",
       "      <td>0.9123</td>\n",
       "      <td>America</td>\n",
       "      <td>9984670</td>\n",
       "      <td>English</td>\n",
       "    </tr>\n",
       "    <tr>\n",
       "      <th>France</th>\n",
       "      <td>63.951</td>\n",
       "      <td>2833687</td>\n",
       "      <td>0.8880</td>\n",
       "      <td>Europe</td>\n",
       "      <td>640479</td>\n",
       "      <td>English</td>\n",
       "    </tr>\n",
       "    <tr>\n",
       "      <th>Germany</th>\n",
       "      <td>80.940</td>\n",
       "      <td>3874437</td>\n",
       "      <td>0.9160</td>\n",
       "      <td>Europe</td>\n",
       "      <td>357114</td>\n",
       "      <td>English</td>\n",
       "    </tr>\n",
       "    <tr>\n",
       "      <th>Italy</th>\n",
       "      <td>60.665</td>\n",
       "      <td>2167744</td>\n",
       "      <td>0.8730</td>\n",
       "      <td>Europe</td>\n",
       "      <td>301336</td>\n",
       "      <td>English</td>\n",
       "    </tr>\n",
       "    <tr>\n",
       "      <th>Japan</th>\n",
       "      <td>127.061</td>\n",
       "      <td>4602367</td>\n",
       "      <td>0.8910</td>\n",
       "      <td>Asia</td>\n",
       "      <td>377930</td>\n",
       "      <td>English</td>\n",
       "    </tr>\n",
       "    <tr>\n",
       "      <th>United Kingdom</th>\n",
       "      <td>64.511</td>\n",
       "      <td>2950039</td>\n",
       "      <td>0.9070</td>\n",
       "      <td>Europe</td>\n",
       "      <td>242495</td>\n",
       "      <td>English</td>\n",
       "    </tr>\n",
       "    <tr>\n",
       "      <th>United States</th>\n",
       "      <td>318.523</td>\n",
       "      <td>17348075</td>\n",
       "      <td>0.9150</td>\n",
       "      <td>America</td>\n",
       "      <td>9525067</td>\n",
       "      <td>English</td>\n",
       "    </tr>\n",
       "  </tbody>\n",
       "</table>\n",
       "</div>"
      ],
      "text/plain": [
       "                Population       GDP     HDI Continent  Surface Area Language\n",
       "Canada              35.200   1785387  0.9123   America       9984670  English\n",
       "France              63.951   2833687  0.8880    Europe        640479  English\n",
       "Germany             80.940   3874437  0.9160    Europe        357114  English\n",
       "Italy               60.665   2167744  0.8730    Europe        301336  English\n",
       "Japan              127.061   4602367  0.8910      Asia        377930  English\n",
       "United Kingdom      64.511   2950039  0.9070    Europe        242495  English\n",
       "United States      318.523  17348075  0.9150   America       9525067  English"
      ]
     },
     "execution_count": 72,
     "metadata": {},
     "output_type": "execute_result"
    }
   ],
   "source": [
    "# Change all of the languages to English\n",
    "df.Language = \"English\"\n",
    "df"
   ]
  },
  {
   "cell_type": "markdown",
   "id": "18844009-e16f-42b6-8fc2-bc2e5c0f05dd",
   "metadata": {},
   "source": [
    "Rename columns\n"
   ]
  },
  {
   "cell_type": "code",
   "execution_count": 75,
   "id": "e6763d2a-7454-4686-ab08-91fe938e567f",
   "metadata": {},
   "outputs": [],
   "source": [
    "df.rename(\n",
    "    index={\n",
    "        \"United States\": \"USA\",\n",
    "        \"United Kingdom\": \"UK\"\n",
    "}, columns={\n",
    "        \"GDP\": \"Gross Domestic Product\",\n",
    "        \"HDI\": \"Human Development Index\"\n",
    "    }, inplace=True)"
   ]
  },
  {
   "cell_type": "code",
   "execution_count": 76,
   "id": "27f4632f-e94a-423e-854c-7668fc08ca2f",
   "metadata": {},
   "outputs": [
    {
     "data": {
      "text/html": [
       "<div>\n",
       "<style scoped>\n",
       "    .dataframe tbody tr th:only-of-type {\n",
       "        vertical-align: middle;\n",
       "    }\n",
       "\n",
       "    .dataframe tbody tr th {\n",
       "        vertical-align: top;\n",
       "    }\n",
       "\n",
       "    .dataframe thead th {\n",
       "        text-align: right;\n",
       "    }\n",
       "</style>\n",
       "<table border=\"1\" class=\"dataframe\">\n",
       "  <thead>\n",
       "    <tr style=\"text-align: right;\">\n",
       "      <th></th>\n",
       "      <th>Population</th>\n",
       "      <th>Gross Domestic Product</th>\n",
       "      <th>Human Development Index</th>\n",
       "      <th>Continent</th>\n",
       "      <th>Surface Area</th>\n",
       "      <th>Language</th>\n",
       "    </tr>\n",
       "  </thead>\n",
       "  <tbody>\n",
       "    <tr>\n",
       "      <th>Canada</th>\n",
       "      <td>35.200</td>\n",
       "      <td>1785387</td>\n",
       "      <td>0.9123</td>\n",
       "      <td>America</td>\n",
       "      <td>9984670</td>\n",
       "      <td>NaN</td>\n",
       "    </tr>\n",
       "    <tr>\n",
       "      <th>France</th>\n",
       "      <td>63.951</td>\n",
       "      <td>2833687</td>\n",
       "      <td>0.8880</td>\n",
       "      <td>Europe</td>\n",
       "      <td>640479</td>\n",
       "      <td>French</td>\n",
       "    </tr>\n",
       "    <tr>\n",
       "      <th>Germany</th>\n",
       "      <td>80.940</td>\n",
       "      <td>3874437</td>\n",
       "      <td>0.9160</td>\n",
       "      <td>Europe</td>\n",
       "      <td>357114</td>\n",
       "      <td>German</td>\n",
       "    </tr>\n",
       "    <tr>\n",
       "      <th>Italy</th>\n",
       "      <td>60.665</td>\n",
       "      <td>2167744</td>\n",
       "      <td>0.8730</td>\n",
       "      <td>Europe</td>\n",
       "      <td>301336</td>\n",
       "      <td>Italian</td>\n",
       "    </tr>\n",
       "    <tr>\n",
       "      <th>Japan</th>\n",
       "      <td>127.061</td>\n",
       "      <td>4602367</td>\n",
       "      <td>0.8910</td>\n",
       "      <td>Asia</td>\n",
       "      <td>377930</td>\n",
       "      <td>NaN</td>\n",
       "    </tr>\n",
       "    <tr>\n",
       "      <th>UK</th>\n",
       "      <td>64.511</td>\n",
       "      <td>2950039</td>\n",
       "      <td>0.9070</td>\n",
       "      <td>Europe</td>\n",
       "      <td>242495</td>\n",
       "      <td>NaN</td>\n",
       "    </tr>\n",
       "    <tr>\n",
       "      <th>USA</th>\n",
       "      <td>318.523</td>\n",
       "      <td>17348075</td>\n",
       "      <td>0.9150</td>\n",
       "      <td>America</td>\n",
       "      <td>9525067</td>\n",
       "      <td>NaN</td>\n",
       "    </tr>\n",
       "  </tbody>\n",
       "</table>\n",
       "</div>"
      ],
      "text/plain": [
       "         Population  Gross Domestic Product  Human Development Index  \\\n",
       "Canada       35.200                 1785387                   0.9123   \n",
       "France       63.951                 2833687                   0.8880   \n",
       "Germany      80.940                 3874437                   0.9160   \n",
       "Italy        60.665                 2167744                   0.8730   \n",
       "Japan       127.061                 4602367                   0.8910   \n",
       "UK           64.511                 2950039                   0.9070   \n",
       "USA         318.523                17348075                   0.9150   \n",
       "\n",
       "        Continent  Surface Area Language  \n",
       "Canada    America       9984670      NaN  \n",
       "France     Europe        640479   French  \n",
       "Germany    Europe        357114   German  \n",
       "Italy      Europe        301336  Italian  \n",
       "Japan        Asia        377930      NaN  \n",
       "UK         Europe        242495      NaN  \n",
       "USA       America       9525067      NaN  "
      ]
     },
     "execution_count": 76,
     "metadata": {},
     "output_type": "execute_result"
    }
   ],
   "source": [
    "df"
   ]
  },
  {
   "cell_type": "code",
   "execution_count": 77,
   "id": "a27163ba-3d13-4bf5-a64e-5ba4b1ef27cd",
   "metadata": {},
   "outputs": [
    {
     "data": {
      "text/html": [
       "<div>\n",
       "<style scoped>\n",
       "    .dataframe tbody tr th:only-of-type {\n",
       "        vertical-align: middle;\n",
       "    }\n",
       "\n",
       "    .dataframe tbody tr th {\n",
       "        vertical-align: top;\n",
       "    }\n",
       "\n",
       "    .dataframe thead th {\n",
       "        text-align: right;\n",
       "    }\n",
       "</style>\n",
       "<table border=\"1\" class=\"dataframe\">\n",
       "  <thead>\n",
       "    <tr style=\"text-align: right;\">\n",
       "      <th></th>\n",
       "      <th>Population</th>\n",
       "      <th>Gross Domestic Product</th>\n",
       "      <th>Human Development Index</th>\n",
       "      <th>Continent</th>\n",
       "      <th>Surface Area</th>\n",
       "      <th>Language</th>\n",
       "    </tr>\n",
       "  </thead>\n",
       "  <tbody>\n",
       "    <tr>\n",
       "      <th>CANADA</th>\n",
       "      <td>35.200</td>\n",
       "      <td>1785387</td>\n",
       "      <td>0.9123</td>\n",
       "      <td>America</td>\n",
       "      <td>9984670</td>\n",
       "      <td>NaN</td>\n",
       "    </tr>\n",
       "    <tr>\n",
       "      <th>FRANCE</th>\n",
       "      <td>63.951</td>\n",
       "      <td>2833687</td>\n",
       "      <td>0.8880</td>\n",
       "      <td>Europe</td>\n",
       "      <td>640479</td>\n",
       "      <td>French</td>\n",
       "    </tr>\n",
       "    <tr>\n",
       "      <th>GERMANY</th>\n",
       "      <td>80.940</td>\n",
       "      <td>3874437</td>\n",
       "      <td>0.9160</td>\n",
       "      <td>Europe</td>\n",
       "      <td>357114</td>\n",
       "      <td>German</td>\n",
       "    </tr>\n",
       "    <tr>\n",
       "      <th>ITALY</th>\n",
       "      <td>60.665</td>\n",
       "      <td>2167744</td>\n",
       "      <td>0.8730</td>\n",
       "      <td>Europe</td>\n",
       "      <td>301336</td>\n",
       "      <td>Italian</td>\n",
       "    </tr>\n",
       "    <tr>\n",
       "      <th>JAPAN</th>\n",
       "      <td>127.061</td>\n",
       "      <td>4602367</td>\n",
       "      <td>0.8910</td>\n",
       "      <td>Asia</td>\n",
       "      <td>377930</td>\n",
       "      <td>NaN</td>\n",
       "    </tr>\n",
       "    <tr>\n",
       "      <th>UK</th>\n",
       "      <td>64.511</td>\n",
       "      <td>2950039</td>\n",
       "      <td>0.9070</td>\n",
       "      <td>Europe</td>\n",
       "      <td>242495</td>\n",
       "      <td>NaN</td>\n",
       "    </tr>\n",
       "    <tr>\n",
       "      <th>USA</th>\n",
       "      <td>318.523</td>\n",
       "      <td>17348075</td>\n",
       "      <td>0.9150</td>\n",
       "      <td>America</td>\n",
       "      <td>9525067</td>\n",
       "      <td>NaN</td>\n",
       "    </tr>\n",
       "  </tbody>\n",
       "</table>\n",
       "</div>"
      ],
      "text/plain": [
       "         Population  Gross Domestic Product  Human Development Index  \\\n",
       "CANADA       35.200                 1785387                   0.9123   \n",
       "FRANCE       63.951                 2833687                   0.8880   \n",
       "GERMANY      80.940                 3874437                   0.9160   \n",
       "ITALY        60.665                 2167744                   0.8730   \n",
       "JAPAN       127.061                 4602367                   0.8910   \n",
       "UK           64.511                 2950039                   0.9070   \n",
       "USA         318.523                17348075                   0.9150   \n",
       "\n",
       "        Continent  Surface Area Language  \n",
       "CANADA    America       9984670      NaN  \n",
       "FRANCE     Europe        640479   French  \n",
       "GERMANY    Europe        357114   German  \n",
       "ITALY      Europe        301336  Italian  \n",
       "JAPAN        Asia        377930      NaN  \n",
       "UK         Europe        242495      NaN  \n",
       "USA       America       9525067      NaN  "
      ]
     },
     "execution_count": 77,
     "metadata": {},
     "output_type": "execute_result"
    }
   ],
   "source": [
    "df.rename(index=str.upper)"
   ]
  },
  {
   "cell_type": "code",
   "execution_count": 78,
   "id": "20f64767-4700-47b3-8ce5-8f9bff1dd5cd",
   "metadata": {},
   "outputs": [
    {
     "data": {
      "text/html": [
       "<div>\n",
       "<style scoped>\n",
       "    .dataframe tbody tr th:only-of-type {\n",
       "        vertical-align: middle;\n",
       "    }\n",
       "\n",
       "    .dataframe tbody tr th {\n",
       "        vertical-align: top;\n",
       "    }\n",
       "\n",
       "    .dataframe thead th {\n",
       "        text-align: right;\n",
       "    }\n",
       "</style>\n",
       "<table border=\"1\" class=\"dataframe\">\n",
       "  <thead>\n",
       "    <tr style=\"text-align: right;\">\n",
       "      <th></th>\n",
       "      <th>Population</th>\n",
       "      <th>Gross_Domestic_Product</th>\n",
       "      <th>Human_Development_Index</th>\n",
       "      <th>Continent</th>\n",
       "      <th>Surface_Area</th>\n",
       "      <th>Language</th>\n",
       "    </tr>\n",
       "  </thead>\n",
       "  <tbody>\n",
       "    <tr>\n",
       "      <th>Canada</th>\n",
       "      <td>35.200</td>\n",
       "      <td>1785387</td>\n",
       "      <td>0.9123</td>\n",
       "      <td>America</td>\n",
       "      <td>9984670</td>\n",
       "      <td>NaN</td>\n",
       "    </tr>\n",
       "    <tr>\n",
       "      <th>France</th>\n",
       "      <td>63.951</td>\n",
       "      <td>2833687</td>\n",
       "      <td>0.8880</td>\n",
       "      <td>Europe</td>\n",
       "      <td>640479</td>\n",
       "      <td>French</td>\n",
       "    </tr>\n",
       "    <tr>\n",
       "      <th>Germany</th>\n",
       "      <td>80.940</td>\n",
       "      <td>3874437</td>\n",
       "      <td>0.9160</td>\n",
       "      <td>Europe</td>\n",
       "      <td>357114</td>\n",
       "      <td>German</td>\n",
       "    </tr>\n",
       "    <tr>\n",
       "      <th>Italy</th>\n",
       "      <td>60.665</td>\n",
       "      <td>2167744</td>\n",
       "      <td>0.8730</td>\n",
       "      <td>Europe</td>\n",
       "      <td>301336</td>\n",
       "      <td>Italian</td>\n",
       "    </tr>\n",
       "    <tr>\n",
       "      <th>Japan</th>\n",
       "      <td>127.061</td>\n",
       "      <td>4602367</td>\n",
       "      <td>0.8910</td>\n",
       "      <td>Asia</td>\n",
       "      <td>377930</td>\n",
       "      <td>NaN</td>\n",
       "    </tr>\n",
       "    <tr>\n",
       "      <th>UK</th>\n",
       "      <td>64.511</td>\n",
       "      <td>2950039</td>\n",
       "      <td>0.9070</td>\n",
       "      <td>Europe</td>\n",
       "      <td>242495</td>\n",
       "      <td>NaN</td>\n",
       "    </tr>\n",
       "    <tr>\n",
       "      <th>USA</th>\n",
       "      <td>318.523</td>\n",
       "      <td>17348075</td>\n",
       "      <td>0.9150</td>\n",
       "      <td>America</td>\n",
       "      <td>9525067</td>\n",
       "      <td>NaN</td>\n",
       "    </tr>\n",
       "  </tbody>\n",
       "</table>\n",
       "</div>"
      ],
      "text/plain": [
       "         Population  Gross_Domestic_Product  Human_Development_Index  \\\n",
       "Canada       35.200                 1785387                   0.9123   \n",
       "France       63.951                 2833687                   0.8880   \n",
       "Germany      80.940                 3874437                   0.9160   \n",
       "Italy        60.665                 2167744                   0.8730   \n",
       "Japan       127.061                 4602367                   0.8910   \n",
       "UK           64.511                 2950039                   0.9070   \n",
       "USA         318.523                17348075                   0.9150   \n",
       "\n",
       "        Continent  Surface_Area Language  \n",
       "Canada    America       9984670      NaN  \n",
       "France     Europe        640479   French  \n",
       "Germany    Europe        357114   German  \n",
       "Italy      Europe        301336  Italian  \n",
       "Japan        Asia        377930      NaN  \n",
       "UK         Europe        242495      NaN  \n",
       "USA       America       9525067      NaN  "
      ]
     },
     "execution_count": 78,
     "metadata": {},
     "output_type": "execute_result"
    }
   ],
   "source": [
    "# replace spaces with underscores\n",
    "# lambda x:\n",
    "df.rename(columns=lambda x: x.replace(\" \", \"_\"))"
   ]
  },
  {
   "cell_type": "markdown",
   "id": "e1e26817-88e5-4ab3-b732-cebfd6e0bf55",
   "metadata": {},
   "source": [
    "Rename axis"
   ]
  },
  {
   "cell_type": "code",
   "execution_count": 79,
   "id": "83f43fea-3ac1-4826-b689-eb4b68e8f0c9",
   "metadata": {},
   "outputs": [
    {
     "data": {
      "text/html": [
       "<div>\n",
       "<style scoped>\n",
       "    .dataframe tbody tr th:only-of-type {\n",
       "        vertical-align: middle;\n",
       "    }\n",
       "\n",
       "    .dataframe tbody tr th {\n",
       "        vertical-align: top;\n",
       "    }\n",
       "\n",
       "    .dataframe thead th {\n",
       "        text-align: right;\n",
       "    }\n",
       "</style>\n",
       "<table border=\"1\" class=\"dataframe\">\n",
       "  <thead>\n",
       "    <tr style=\"text-align: right;\">\n",
       "      <th>Parameters</th>\n",
       "      <th>Population</th>\n",
       "      <th>Gross Domestic Product</th>\n",
       "      <th>Human Development Index</th>\n",
       "      <th>Continent</th>\n",
       "      <th>Surface Area</th>\n",
       "      <th>Language</th>\n",
       "    </tr>\n",
       "    <tr>\n",
       "      <th>Countries</th>\n",
       "      <th></th>\n",
       "      <th></th>\n",
       "      <th></th>\n",
       "      <th></th>\n",
       "      <th></th>\n",
       "      <th></th>\n",
       "    </tr>\n",
       "  </thead>\n",
       "  <tbody>\n",
       "    <tr>\n",
       "      <th>Canada</th>\n",
       "      <td>35.200</td>\n",
       "      <td>1785387</td>\n",
       "      <td>0.9123</td>\n",
       "      <td>America</td>\n",
       "      <td>9984670</td>\n",
       "      <td>NaN</td>\n",
       "    </tr>\n",
       "    <tr>\n",
       "      <th>France</th>\n",
       "      <td>63.951</td>\n",
       "      <td>2833687</td>\n",
       "      <td>0.8880</td>\n",
       "      <td>Europe</td>\n",
       "      <td>640479</td>\n",
       "      <td>French</td>\n",
       "    </tr>\n",
       "    <tr>\n",
       "      <th>Germany</th>\n",
       "      <td>80.940</td>\n",
       "      <td>3874437</td>\n",
       "      <td>0.9160</td>\n",
       "      <td>Europe</td>\n",
       "      <td>357114</td>\n",
       "      <td>German</td>\n",
       "    </tr>\n",
       "    <tr>\n",
       "      <th>Italy</th>\n",
       "      <td>60.665</td>\n",
       "      <td>2167744</td>\n",
       "      <td>0.8730</td>\n",
       "      <td>Europe</td>\n",
       "      <td>301336</td>\n",
       "      <td>Italian</td>\n",
       "    </tr>\n",
       "    <tr>\n",
       "      <th>Japan</th>\n",
       "      <td>127.061</td>\n",
       "      <td>4602367</td>\n",
       "      <td>0.8910</td>\n",
       "      <td>Asia</td>\n",
       "      <td>377930</td>\n",
       "      <td>NaN</td>\n",
       "    </tr>\n",
       "    <tr>\n",
       "      <th>UK</th>\n",
       "      <td>64.511</td>\n",
       "      <td>2950039</td>\n",
       "      <td>0.9070</td>\n",
       "      <td>Europe</td>\n",
       "      <td>242495</td>\n",
       "      <td>NaN</td>\n",
       "    </tr>\n",
       "    <tr>\n",
       "      <th>USA</th>\n",
       "      <td>318.523</td>\n",
       "      <td>17348075</td>\n",
       "      <td>0.9150</td>\n",
       "      <td>America</td>\n",
       "      <td>9525067</td>\n",
       "      <td>NaN</td>\n",
       "    </tr>\n",
       "  </tbody>\n",
       "</table>\n",
       "</div>"
      ],
      "text/plain": [
       "Parameters  Population  Gross Domestic Product  Human Development Index  \\\n",
       "Countries                                                                 \n",
       "Canada          35.200                 1785387                   0.9123   \n",
       "France          63.951                 2833687                   0.8880   \n",
       "Germany         80.940                 3874437                   0.9160   \n",
       "Italy           60.665                 2167744                   0.8730   \n",
       "Japan          127.061                 4602367                   0.8910   \n",
       "UK              64.511                 2950039                   0.9070   \n",
       "USA            318.523                17348075                   0.9150   \n",
       "\n",
       "Parameters Continent  Surface Area Language  \n",
       "Countries                                    \n",
       "Canada       America       9984670      NaN  \n",
       "France        Europe        640479   French  \n",
       "Germany       Europe        357114   German  \n",
       "Italy         Europe        301336  Italian  \n",
       "Japan           Asia        377930      NaN  \n",
       "UK            Europe        242495      NaN  \n",
       "USA          America       9525067      NaN  "
      ]
     },
     "execution_count": 79,
     "metadata": {},
     "output_type": "execute_result"
    }
   ],
   "source": [
    "df.rename_axis(index=\"Countries\", columns=\"Parameters\")"
   ]
  },
  {
   "cell_type": "markdown",
   "id": "b04784b5-d916-44fb-aa7e-06cb7ac27920",
   "metadata": {},
   "source": [
    "Add new value"
   ]
  },
  {
   "cell_type": "code",
   "execution_count": 82,
   "id": "4c921b72-7b2d-4b08-afed-10fd01dcf737",
   "metadata": {},
   "outputs": [
    {
     "data": {
      "text/html": [
       "<div>\n",
       "<style scoped>\n",
       "    .dataframe tbody tr th:only-of-type {\n",
       "        vertical-align: middle;\n",
       "    }\n",
       "\n",
       "    .dataframe tbody tr th {\n",
       "        vertical-align: top;\n",
       "    }\n",
       "\n",
       "    .dataframe thead th {\n",
       "        text-align: right;\n",
       "    }\n",
       "</style>\n",
       "<table border=\"1\" class=\"dataframe\">\n",
       "  <thead>\n",
       "    <tr style=\"text-align: right;\">\n",
       "      <th></th>\n",
       "      <th>Population</th>\n",
       "      <th>Gross Domestic Product</th>\n",
       "      <th>Human Development Index</th>\n",
       "      <th>Continent</th>\n",
       "      <th>Surface Area</th>\n",
       "      <th>Language</th>\n",
       "    </tr>\n",
       "  </thead>\n",
       "  <tbody>\n",
       "    <tr>\n",
       "      <th>Canada</th>\n",
       "      <td>35.200</td>\n",
       "      <td>1785387.0</td>\n",
       "      <td>0.9123</td>\n",
       "      <td>America</td>\n",
       "      <td>9984670.0</td>\n",
       "      <td>NaN</td>\n",
       "    </tr>\n",
       "    <tr>\n",
       "      <th>France</th>\n",
       "      <td>63.951</td>\n",
       "      <td>2833687.0</td>\n",
       "      <td>0.8880</td>\n",
       "      <td>Europe</td>\n",
       "      <td>640479.0</td>\n",
       "      <td>French</td>\n",
       "    </tr>\n",
       "    <tr>\n",
       "      <th>Germany</th>\n",
       "      <td>80.940</td>\n",
       "      <td>3874437.0</td>\n",
       "      <td>0.9160</td>\n",
       "      <td>Europe</td>\n",
       "      <td>357114.0</td>\n",
       "      <td>German</td>\n",
       "    </tr>\n",
       "    <tr>\n",
       "      <th>Italy</th>\n",
       "      <td>60.665</td>\n",
       "      <td>2167744.0</td>\n",
       "      <td>0.8730</td>\n",
       "      <td>Europe</td>\n",
       "      <td>301336.0</td>\n",
       "      <td>Italian</td>\n",
       "    </tr>\n",
       "    <tr>\n",
       "      <th>Japan</th>\n",
       "      <td>127.061</td>\n",
       "      <td>4602367.0</td>\n",
       "      <td>0.8910</td>\n",
       "      <td>Asia</td>\n",
       "      <td>377930.0</td>\n",
       "      <td>NaN</td>\n",
       "    </tr>\n",
       "    <tr>\n",
       "      <th>UK</th>\n",
       "      <td>64.511</td>\n",
       "      <td>2950039.0</td>\n",
       "      <td>0.9070</td>\n",
       "      <td>Europe</td>\n",
       "      <td>242495.0</td>\n",
       "      <td>NaN</td>\n",
       "    </tr>\n",
       "    <tr>\n",
       "      <th>USA</th>\n",
       "      <td>318.523</td>\n",
       "      <td>17348075.0</td>\n",
       "      <td>0.9150</td>\n",
       "      <td>America</td>\n",
       "      <td>9525067.0</td>\n",
       "      <td>NaN</td>\n",
       "    </tr>\n",
       "    <tr>\n",
       "      <th>China</th>\n",
       "      <td>1400.000</td>\n",
       "      <td>NaN</td>\n",
       "      <td>NaN</td>\n",
       "      <td>Asia</td>\n",
       "      <td>NaN</td>\n",
       "      <td>Mandarin</td>\n",
       "    </tr>\n",
       "  </tbody>\n",
       "</table>\n",
       "</div>"
      ],
      "text/plain": [
       "         Population  Gross Domestic Product  Human Development Index  \\\n",
       "Canada       35.200               1785387.0                   0.9123   \n",
       "France       63.951               2833687.0                   0.8880   \n",
       "Germany      80.940               3874437.0                   0.9160   \n",
       "Italy        60.665               2167744.0                   0.8730   \n",
       "Japan       127.061               4602367.0                   0.8910   \n",
       "UK           64.511               2950039.0                   0.9070   \n",
       "USA         318.523              17348075.0                   0.9150   \n",
       "China      1400.000                     NaN                      NaN   \n",
       "\n",
       "        Continent  Surface Area  Language  \n",
       "Canada    America     9984670.0       NaN  \n",
       "France     Europe      640479.0    French  \n",
       "Germany    Europe      357114.0    German  \n",
       "Italy      Europe      301336.0   Italian  \n",
       "Japan        Asia      377930.0       NaN  \n",
       "UK         Europe      242495.0       NaN  \n",
       "USA       America     9525067.0       NaN  \n",
       "China        Asia           NaN  Mandarin  "
      ]
     },
     "execution_count": 82,
     "metadata": {},
     "output_type": "execute_result"
    }
   ],
   "source": [
    "df.loc[\"China\"] = pd.Series({\"Population\": 1400,\n",
    "                             \"Continent\": \"Asia\",\n",
    "                            \"Language\": \"Mandarin\"})\n",
    "df"
   ]
  },
  {
   "cell_type": "markdown",
   "id": "40f4b25c-7c69-4bde-ba4e-5ef248dc2710",
   "metadata": {},
   "source": [
    "# 2.6 Index changeing"
   ]
  },
  {
   "cell_type": "code",
   "execution_count": 83,
   "id": "1999488f-5551-4d52-8070-a8645a609ab7",
   "metadata": {},
   "outputs": [
    {
     "data": {
      "text/html": [
       "<div>\n",
       "<style scoped>\n",
       "    .dataframe tbody tr th:only-of-type {\n",
       "        vertical-align: middle;\n",
       "    }\n",
       "\n",
       "    .dataframe tbody tr th {\n",
       "        vertical-align: top;\n",
       "    }\n",
       "\n",
       "    .dataframe thead th {\n",
       "        text-align: right;\n",
       "    }\n",
       "</style>\n",
       "<table border=\"1\" class=\"dataframe\">\n",
       "  <thead>\n",
       "    <tr style=\"text-align: right;\">\n",
       "      <th></th>\n",
       "      <th>index</th>\n",
       "      <th>Population</th>\n",
       "      <th>Gross Domestic Product</th>\n",
       "      <th>Human Development Index</th>\n",
       "      <th>Continent</th>\n",
       "      <th>Surface Area</th>\n",
       "      <th>Language</th>\n",
       "    </tr>\n",
       "  </thead>\n",
       "  <tbody>\n",
       "    <tr>\n",
       "      <th>0</th>\n",
       "      <td>Canada</td>\n",
       "      <td>35.200</td>\n",
       "      <td>1785387.0</td>\n",
       "      <td>0.9123</td>\n",
       "      <td>America</td>\n",
       "      <td>9984670.0</td>\n",
       "      <td>NaN</td>\n",
       "    </tr>\n",
       "    <tr>\n",
       "      <th>1</th>\n",
       "      <td>France</td>\n",
       "      <td>63.951</td>\n",
       "      <td>2833687.0</td>\n",
       "      <td>0.8880</td>\n",
       "      <td>Europe</td>\n",
       "      <td>640479.0</td>\n",
       "      <td>French</td>\n",
       "    </tr>\n",
       "    <tr>\n",
       "      <th>2</th>\n",
       "      <td>Germany</td>\n",
       "      <td>80.940</td>\n",
       "      <td>3874437.0</td>\n",
       "      <td>0.9160</td>\n",
       "      <td>Europe</td>\n",
       "      <td>357114.0</td>\n",
       "      <td>German</td>\n",
       "    </tr>\n",
       "    <tr>\n",
       "      <th>3</th>\n",
       "      <td>Italy</td>\n",
       "      <td>60.665</td>\n",
       "      <td>2167744.0</td>\n",
       "      <td>0.8730</td>\n",
       "      <td>Europe</td>\n",
       "      <td>301336.0</td>\n",
       "      <td>Italian</td>\n",
       "    </tr>\n",
       "    <tr>\n",
       "      <th>4</th>\n",
       "      <td>Japan</td>\n",
       "      <td>127.061</td>\n",
       "      <td>4602367.0</td>\n",
       "      <td>0.8910</td>\n",
       "      <td>Asia</td>\n",
       "      <td>377930.0</td>\n",
       "      <td>NaN</td>\n",
       "    </tr>\n",
       "    <tr>\n",
       "      <th>5</th>\n",
       "      <td>UK</td>\n",
       "      <td>64.511</td>\n",
       "      <td>2950039.0</td>\n",
       "      <td>0.9070</td>\n",
       "      <td>Europe</td>\n",
       "      <td>242495.0</td>\n",
       "      <td>NaN</td>\n",
       "    </tr>\n",
       "    <tr>\n",
       "      <th>6</th>\n",
       "      <td>USA</td>\n",
       "      <td>318.523</td>\n",
       "      <td>17348075.0</td>\n",
       "      <td>0.9150</td>\n",
       "      <td>America</td>\n",
       "      <td>9525067.0</td>\n",
       "      <td>NaN</td>\n",
       "    </tr>\n",
       "    <tr>\n",
       "      <th>7</th>\n",
       "      <td>China</td>\n",
       "      <td>1400.000</td>\n",
       "      <td>NaN</td>\n",
       "      <td>NaN</td>\n",
       "      <td>Asia</td>\n",
       "      <td>NaN</td>\n",
       "      <td>Mandarin</td>\n",
       "    </tr>\n",
       "  </tbody>\n",
       "</table>\n",
       "</div>"
      ],
      "text/plain": [
       "     index  Population  Gross Domestic Product  Human Development Index  \\\n",
       "0   Canada      35.200               1785387.0                   0.9123   \n",
       "1   France      63.951               2833687.0                   0.8880   \n",
       "2  Germany      80.940               3874437.0                   0.9160   \n",
       "3    Italy      60.665               2167744.0                   0.8730   \n",
       "4    Japan     127.061               4602367.0                   0.8910   \n",
       "5       UK      64.511               2950039.0                   0.9070   \n",
       "6      USA     318.523              17348075.0                   0.9150   \n",
       "7    China    1400.000                     NaN                      NaN   \n",
       "\n",
       "  Continent  Surface Area  Language  \n",
       "0   America     9984670.0       NaN  \n",
       "1    Europe      640479.0    French  \n",
       "2    Europe      357114.0    German  \n",
       "3    Europe      301336.0   Italian  \n",
       "4      Asia      377930.0       NaN  \n",
       "5    Europe      242495.0       NaN  \n",
       "6   America     9525067.0       NaN  \n",
       "7      Asia           NaN  Mandarin  "
      ]
     },
     "execution_count": 83,
     "metadata": {},
     "output_type": "execute_result"
    }
   ],
   "source": [
    "df.reset_index()"
   ]
  },
  {
   "cell_type": "code",
   "execution_count": 109,
   "id": "414ae515-87a6-487e-a6c6-20f04b3a0732",
   "metadata": {},
   "outputs": [
    {
     "data": {
      "text/html": [
       "<div>\n",
       "<style scoped>\n",
       "    .dataframe tbody tr th:only-of-type {\n",
       "        vertical-align: middle;\n",
       "    }\n",
       "\n",
       "    .dataframe tbody tr th {\n",
       "        vertical-align: top;\n",
       "    }\n",
       "\n",
       "    .dataframe thead th {\n",
       "        text-align: right;\n",
       "    }\n",
       "</style>\n",
       "<table border=\"1\" class=\"dataframe\">\n",
       "  <thead>\n",
       "    <tr style=\"text-align: right;\">\n",
       "      <th></th>\n",
       "      <th>Gross Domestic Product</th>\n",
       "      <th>Human Development Index</th>\n",
       "      <th>Continent</th>\n",
       "      <th>Surface Area</th>\n",
       "      <th>Language</th>\n",
       "      <th>GDP per Capita</th>\n",
       "    </tr>\n",
       "    <tr>\n",
       "      <th>Population</th>\n",
       "      <th></th>\n",
       "      <th></th>\n",
       "      <th></th>\n",
       "      <th></th>\n",
       "      <th></th>\n",
       "      <th></th>\n",
       "    </tr>\n",
       "  </thead>\n",
       "  <tbody>\n",
       "    <tr>\n",
       "      <th>35.200</th>\n",
       "      <td>1785387.0</td>\n",
       "      <td>0.9123</td>\n",
       "      <td>America</td>\n",
       "      <td>9984670.0</td>\n",
       "      <td>NaN</td>\n",
       "      <td>50721.221591</td>\n",
       "    </tr>\n",
       "    <tr>\n",
       "      <th>63.951</th>\n",
       "      <td>2833687.0</td>\n",
       "      <td>0.8880</td>\n",
       "      <td>Europe</td>\n",
       "      <td>640479.0</td>\n",
       "      <td>French</td>\n",
       "      <td>44310.284437</td>\n",
       "    </tr>\n",
       "    <tr>\n",
       "      <th>80.940</th>\n",
       "      <td>3874437.0</td>\n",
       "      <td>0.9160</td>\n",
       "      <td>Europe</td>\n",
       "      <td>357114.0</td>\n",
       "      <td>German</td>\n",
       "      <td>47868.013343</td>\n",
       "    </tr>\n",
       "    <tr>\n",
       "      <th>60.665</th>\n",
       "      <td>2167744.0</td>\n",
       "      <td>0.8730</td>\n",
       "      <td>Europe</td>\n",
       "      <td>301336.0</td>\n",
       "      <td>Italian</td>\n",
       "      <td>35733.025633</td>\n",
       "    </tr>\n",
       "    <tr>\n",
       "      <th>127.061</th>\n",
       "      <td>4602367.0</td>\n",
       "      <td>0.8910</td>\n",
       "      <td>Asia</td>\n",
       "      <td>377930.0</td>\n",
       "      <td>NaN</td>\n",
       "      <td>36221.712406</td>\n",
       "    </tr>\n",
       "    <tr>\n",
       "      <th>64.511</th>\n",
       "      <td>2950039.0</td>\n",
       "      <td>0.9070</td>\n",
       "      <td>Europe</td>\n",
       "      <td>242495.0</td>\n",
       "      <td>NaN</td>\n",
       "      <td>45729.239975</td>\n",
       "    </tr>\n",
       "    <tr>\n",
       "      <th>318.523</th>\n",
       "      <td>17348075.0</td>\n",
       "      <td>0.9150</td>\n",
       "      <td>America</td>\n",
       "      <td>9525067.0</td>\n",
       "      <td>NaN</td>\n",
       "      <td>54464.120330</td>\n",
       "    </tr>\n",
       "    <tr>\n",
       "      <th>1400.000</th>\n",
       "      <td>NaN</td>\n",
       "      <td>NaN</td>\n",
       "      <td>Asia</td>\n",
       "      <td>NaN</td>\n",
       "      <td>Mandarin</td>\n",
       "      <td>NaN</td>\n",
       "    </tr>\n",
       "  </tbody>\n",
       "</table>\n",
       "</div>"
      ],
      "text/plain": [
       "            Gross Domestic Product  Human Development Index Continent  \\\n",
       "Population                                                              \n",
       "35.200                   1785387.0                   0.9123   America   \n",
       "63.951                   2833687.0                   0.8880    Europe   \n",
       "80.940                   3874437.0                   0.9160    Europe   \n",
       "60.665                   2167744.0                   0.8730    Europe   \n",
       "127.061                  4602367.0                   0.8910      Asia   \n",
       "64.511                   2950039.0                   0.9070    Europe   \n",
       "318.523                 17348075.0                   0.9150   America   \n",
       "1400.000                       NaN                      NaN      Asia   \n",
       "\n",
       "            Surface Area  Language  GDP per Capita  \n",
       "Population                                          \n",
       "35.200         9984670.0       NaN    50721.221591  \n",
       "63.951          640479.0    French    44310.284437  \n",
       "80.940          357114.0    German    47868.013343  \n",
       "60.665          301336.0   Italian    35733.025633  \n",
       "127.061         377930.0       NaN    36221.712406  \n",
       "64.511          242495.0       NaN    45729.239975  \n",
       "318.523        9525067.0       NaN    54464.120330  \n",
       "1400.000             NaN  Mandarin             NaN  "
      ]
     },
     "execution_count": 109,
     "metadata": {},
     "output_type": "execute_result"
    }
   ],
   "source": [
    "df.set_index(\"Population\")"
   ]
  },
  {
   "cell_type": "markdown",
   "id": "fa3832f8-6981-4dde-b1d7-8dfa8e4114d8",
   "metadata": {},
   "source": [
    "Create a new column"
   ]
  },
  {
   "cell_type": "code",
   "execution_count": 86,
   "id": "264f246b-8361-495d-a425-725c92dda287",
   "metadata": {},
   "outputs": [
    {
     "data": {
      "text/html": [
       "<div>\n",
       "<style scoped>\n",
       "    .dataframe tbody tr th:only-of-type {\n",
       "        vertical-align: middle;\n",
       "    }\n",
       "\n",
       "    .dataframe tbody tr th {\n",
       "        vertical-align: top;\n",
       "    }\n",
       "\n",
       "    .dataframe thead th {\n",
       "        text-align: right;\n",
       "    }\n",
       "</style>\n",
       "<table border=\"1\" class=\"dataframe\">\n",
       "  <thead>\n",
       "    <tr style=\"text-align: right;\">\n",
       "      <th></th>\n",
       "      <th>Population</th>\n",
       "      <th>Gross Domestic Product</th>\n",
       "      <th>Human Development Index</th>\n",
       "      <th>Continent</th>\n",
       "      <th>Surface Area</th>\n",
       "      <th>Language</th>\n",
       "      <th>GDP per Capita</th>\n",
       "    </tr>\n",
       "  </thead>\n",
       "  <tbody>\n",
       "    <tr>\n",
       "      <th>Canada</th>\n",
       "      <td>35.200</td>\n",
       "      <td>1785387.0</td>\n",
       "      <td>0.9123</td>\n",
       "      <td>America</td>\n",
       "      <td>9984670.0</td>\n",
       "      <td>NaN</td>\n",
       "      <td>50721.221591</td>\n",
       "    </tr>\n",
       "    <tr>\n",
       "      <th>France</th>\n",
       "      <td>63.951</td>\n",
       "      <td>2833687.0</td>\n",
       "      <td>0.8880</td>\n",
       "      <td>Europe</td>\n",
       "      <td>640479.0</td>\n",
       "      <td>French</td>\n",
       "      <td>44310.284437</td>\n",
       "    </tr>\n",
       "    <tr>\n",
       "      <th>Germany</th>\n",
       "      <td>80.940</td>\n",
       "      <td>3874437.0</td>\n",
       "      <td>0.9160</td>\n",
       "      <td>Europe</td>\n",
       "      <td>357114.0</td>\n",
       "      <td>German</td>\n",
       "      <td>47868.013343</td>\n",
       "    </tr>\n",
       "    <tr>\n",
       "      <th>Italy</th>\n",
       "      <td>60.665</td>\n",
       "      <td>2167744.0</td>\n",
       "      <td>0.8730</td>\n",
       "      <td>Europe</td>\n",
       "      <td>301336.0</td>\n",
       "      <td>Italian</td>\n",
       "      <td>35733.025633</td>\n",
       "    </tr>\n",
       "    <tr>\n",
       "      <th>Japan</th>\n",
       "      <td>127.061</td>\n",
       "      <td>4602367.0</td>\n",
       "      <td>0.8910</td>\n",
       "      <td>Asia</td>\n",
       "      <td>377930.0</td>\n",
       "      <td>NaN</td>\n",
       "      <td>36221.712406</td>\n",
       "    </tr>\n",
       "    <tr>\n",
       "      <th>UK</th>\n",
       "      <td>64.511</td>\n",
       "      <td>2950039.0</td>\n",
       "      <td>0.9070</td>\n",
       "      <td>Europe</td>\n",
       "      <td>242495.0</td>\n",
       "      <td>NaN</td>\n",
       "      <td>45729.239975</td>\n",
       "    </tr>\n",
       "    <tr>\n",
       "      <th>USA</th>\n",
       "      <td>318.523</td>\n",
       "      <td>17348075.0</td>\n",
       "      <td>0.9150</td>\n",
       "      <td>America</td>\n",
       "      <td>9525067.0</td>\n",
       "      <td>NaN</td>\n",
       "      <td>54464.120330</td>\n",
       "    </tr>\n",
       "    <tr>\n",
       "      <th>China</th>\n",
       "      <td>1400.000</td>\n",
       "      <td>NaN</td>\n",
       "      <td>NaN</td>\n",
       "      <td>Asia</td>\n",
       "      <td>NaN</td>\n",
       "      <td>Mandarin</td>\n",
       "      <td>NaN</td>\n",
       "    </tr>\n",
       "  </tbody>\n",
       "</table>\n",
       "</div>"
      ],
      "text/plain": [
       "         Population  Gross Domestic Product  Human Development Index  \\\n",
       "Canada       35.200               1785387.0                   0.9123   \n",
       "France       63.951               2833687.0                   0.8880   \n",
       "Germany      80.940               3874437.0                   0.9160   \n",
       "Italy        60.665               2167744.0                   0.8730   \n",
       "Japan       127.061               4602367.0                   0.8910   \n",
       "UK           64.511               2950039.0                   0.9070   \n",
       "USA         318.523              17348075.0                   0.9150   \n",
       "China      1400.000                     NaN                      NaN   \n",
       "\n",
       "        Continent  Surface Area  Language  GDP per Capita  \n",
       "Canada    America     9984670.0       NaN    50721.221591  \n",
       "France     Europe      640479.0    French    44310.284437  \n",
       "Germany    Europe      357114.0    German    47868.013343  \n",
       "Italy      Europe      301336.0   Italian    35733.025633  \n",
       "Japan        Asia      377930.0       NaN    36221.712406  \n",
       "UK         Europe      242495.0       NaN    45729.239975  \n",
       "USA       America     9525067.0       NaN    54464.120330  \n",
       "China        Asia           NaN  Mandarin             NaN  "
      ]
     },
     "execution_count": 86,
     "metadata": {},
     "output_type": "execute_result"
    }
   ],
   "source": [
    "df[\"GDP per Capita\"] = df[\"Gross Domestic Product\"] / df[\"Population\"]\n",
    "df"
   ]
  },
  {
   "cell_type": "markdown",
   "id": "5cebd00e-ce12-499a-9fc2-8dc99a8cda29",
   "metadata": {},
   "source": [
    "Insert column in a specific position"
   ]
  },
  {
   "cell_type": "code",
   "execution_count": null,
   "id": "0c048a8b-e644-4fee-96c1-950f9015fcfd",
   "metadata": {},
   "outputs": [],
   "source": [
    "df.insert(2, \"GDP per Capita\""
   ]
  },
  {
   "cell_type": "code",
   "execution_count": 88,
   "id": "9898ad11-2501-418e-b886-899a97cb1267",
   "metadata": {},
   "outputs": [
    {
     "data": {
      "text/html": [
       "<div>\n",
       "<style scoped>\n",
       "    .dataframe tbody tr th:only-of-type {\n",
       "        vertical-align: middle;\n",
       "    }\n",
       "\n",
       "    .dataframe tbody tr th {\n",
       "        vertical-align: top;\n",
       "    }\n",
       "\n",
       "    .dataframe thead th {\n",
       "        text-align: right;\n",
       "    }\n",
       "</style>\n",
       "<table border=\"1\" class=\"dataframe\">\n",
       "  <thead>\n",
       "    <tr style=\"text-align: right;\">\n",
       "      <th></th>\n",
       "      <th>Population</th>\n",
       "      <th>Gross Domestic Product</th>\n",
       "      <th>Human Development Index</th>\n",
       "      <th>Continent</th>\n",
       "      <th>Surface Area</th>\n",
       "      <th>Language</th>\n",
       "      <th>GDP per Capita</th>\n",
       "    </tr>\n",
       "  </thead>\n",
       "  <tbody>\n",
       "    <tr>\n",
       "      <th>Canada</th>\n",
       "      <td>35.200</td>\n",
       "      <td>1785387.0</td>\n",
       "      <td>0.9123</td>\n",
       "      <td>America</td>\n",
       "      <td>9984670.0</td>\n",
       "      <td>NaN</td>\n",
       "      <td>50721.221591</td>\n",
       "    </tr>\n",
       "    <tr>\n",
       "      <th>France</th>\n",
       "      <td>63.951</td>\n",
       "      <td>2833687.0</td>\n",
       "      <td>0.8880</td>\n",
       "      <td>Europe</td>\n",
       "      <td>640479.0</td>\n",
       "      <td>French</td>\n",
       "      <td>44310.284437</td>\n",
       "    </tr>\n",
       "    <tr>\n",
       "      <th>Germany</th>\n",
       "      <td>80.940</td>\n",
       "      <td>3874437.0</td>\n",
       "      <td>0.9160</td>\n",
       "      <td>Europe</td>\n",
       "      <td>357114.0</td>\n",
       "      <td>German</td>\n",
       "      <td>47868.013343</td>\n",
       "    </tr>\n",
       "    <tr>\n",
       "      <th>Italy</th>\n",
       "      <td>60.665</td>\n",
       "      <td>2167744.0</td>\n",
       "      <td>0.8730</td>\n",
       "      <td>Europe</td>\n",
       "      <td>301336.0</td>\n",
       "      <td>Italian</td>\n",
       "      <td>35733.025633</td>\n",
       "    </tr>\n",
       "    <tr>\n",
       "      <th>Japan</th>\n",
       "      <td>127.061</td>\n",
       "      <td>4602367.0</td>\n",
       "      <td>0.8910</td>\n",
       "      <td>Asia</td>\n",
       "      <td>377930.0</td>\n",
       "      <td>NaN</td>\n",
       "      <td>36221.712406</td>\n",
       "    </tr>\n",
       "    <tr>\n",
       "      <th>UK</th>\n",
       "      <td>64.511</td>\n",
       "      <td>2950039.0</td>\n",
       "      <td>0.9070</td>\n",
       "      <td>Europe</td>\n",
       "      <td>242495.0</td>\n",
       "      <td>NaN</td>\n",
       "      <td>45729.239975</td>\n",
       "    </tr>\n",
       "    <tr>\n",
       "      <th>USA</th>\n",
       "      <td>318.523</td>\n",
       "      <td>17348075.0</td>\n",
       "      <td>0.9150</td>\n",
       "      <td>America</td>\n",
       "      <td>9525067.0</td>\n",
       "      <td>NaN</td>\n",
       "      <td>54464.120330</td>\n",
       "    </tr>\n",
       "    <tr>\n",
       "      <th>China</th>\n",
       "      <td>1400.000</td>\n",
       "      <td>NaN</td>\n",
       "      <td>NaN</td>\n",
       "      <td>Asia</td>\n",
       "      <td>NaN</td>\n",
       "      <td>Mandarin</td>\n",
       "      <td>NaN</td>\n",
       "    </tr>\n",
       "  </tbody>\n",
       "</table>\n",
       "</div>"
      ],
      "text/plain": [
       "         Population  Gross Domestic Product  Human Development Index  \\\n",
       "Canada       35.200               1785387.0                   0.9123   \n",
       "France       63.951               2833687.0                   0.8880   \n",
       "Germany      80.940               3874437.0                   0.9160   \n",
       "Italy        60.665               2167744.0                   0.8730   \n",
       "Japan       127.061               4602367.0                   0.8910   \n",
       "UK           64.511               2950039.0                   0.9070   \n",
       "USA         318.523              17348075.0                   0.9150   \n",
       "China      1400.000                     NaN                      NaN   \n",
       "\n",
       "        Continent  Surface Area  Language  GDP per Capita  \n",
       "Canada    America     9984670.0       NaN    50721.221591  \n",
       "France     Europe      640479.0    French    44310.284437  \n",
       "Germany    Europe      357114.0    German    47868.013343  \n",
       "Italy      Europe      301336.0   Italian    35733.025633  \n",
       "Japan        Asia      377930.0       NaN    36221.712406  \n",
       "UK         Europe      242495.0       NaN    45729.239975  \n",
       "USA       America     9525067.0       NaN    54464.120330  \n",
       "China        Asia           NaN  Mandarin             NaN  "
      ]
     },
     "execution_count": 88,
     "metadata": {},
     "output_type": "execute_result"
    }
   ],
   "source": [
    "new_idx = df.columns.get_loc(\"Gross Domestic Product\") +1\n",
    "df"
   ]
  },
  {
   "cell_type": "markdown",
   "id": "e8c78364-2ca6-461a-b2a3-dfd440763fbf",
   "metadata": {},
   "source": [
    "# 2.7 Statistic methods"
   ]
  },
  {
   "cell_type": "code",
   "execution_count": 100,
   "id": "189a9f95-6a79-4455-9ed9-d83d40a96c6f",
   "metadata": {},
   "outputs": [
    {
     "data": {
      "text/plain": [
       "Population                      35.200\n",
       "Gross Domestic Product     1785387.000\n",
       "Human Development Index          0.873\n",
       "Surface Area                242495.000\n",
       "GDP per Capita               35733.026\n",
       "dtype: float64"
      ]
     },
     "execution_count": 100,
     "metadata": {},
     "output_type": "execute_result"
    }
   ],
   "source": [
    "round(df.min(numeric_only=True), 3)"
   ]
  },
  {
   "cell_type": "code",
   "execution_count": 98,
   "id": "d48dbe6d-f8a1-412f-8a51-198bc8808c30",
   "metadata": {},
   "outputs": [
    {
     "data": {
      "text/plain": [
       "Population                 1.400000e+03\n",
       "Gross Domestic Product     1.734808e+07\n",
       "Human Development Index    9.160000e-01\n",
       "Surface Area               9.984670e+06\n",
       "GDP per Capita             5.446412e+04\n",
       "dtype: float64"
      ]
     },
     "execution_count": 98,
     "metadata": {},
     "output_type": "execute_result"
    }
   ],
   "source": [
    "df.max(numeric_only=True)"
   ]
  },
  {
   "cell_type": "code",
   "execution_count": 91,
   "id": "8a7f66b4-87b0-4466-a0e9-aade7904add7",
   "metadata": {},
   "outputs": [
    {
     "data": {
      "text/plain": [
       "Population                 2.150851e+03\n",
       "Gross Domestic Product     3.556174e+07\n",
       "Human Development Index    6.302300e+00\n",
       "Surface Area               2.142909e+07\n",
       "GDP per Capita             3.150476e+05\n",
       "dtype: float64"
      ]
     },
     "execution_count": 91,
     "metadata": {},
     "output_type": "execute_result"
    }
   ],
   "source": [
    "df.sum(numeric_only=True)"
   ]
  },
  {
   "cell_type": "code",
   "execution_count": 92,
   "id": "8d916cea-21f5-49b1-8ee2-07495c144521",
   "metadata": {},
   "outputs": [
    {
     "data": {
      "text/plain": [
       "Population                 2.688564e+02\n",
       "Gross Domestic Product     5.080248e+06\n",
       "Human Development Index    9.003286e-01\n",
       "Surface Area               3.061299e+06\n",
       "GDP per Capita             4.500680e+04\n",
       "dtype: float64"
      ]
     },
     "execution_count": 92,
     "metadata": {},
     "output_type": "execute_result"
    }
   ],
   "source": [
    "df.mean(numeric_only=True)"
   ]
  },
  {
   "cell_type": "code",
   "execution_count": 93,
   "id": "6174c69d-c2c9-4122-8f20-0ef6f30a1ff5",
   "metadata": {},
   "outputs": [
    {
     "data": {
      "text/plain": [
       "Population                 7.272550e+01\n",
       "Gross Domestic Product     2.950039e+06\n",
       "Human Development Index    9.070000e-01\n",
       "Surface Area               3.779300e+05\n",
       "GDP per Capita             4.572924e+04\n",
       "dtype: float64"
      ]
     },
     "execution_count": 93,
     "metadata": {},
     "output_type": "execute_result"
    }
   ],
   "source": [
    "df.median(numeric_only=True)"
   ]
  },
  {
   "cell_type": "code",
   "execution_count": 94,
   "id": "47ba596d-a96e-4b42-9658-a7ae73a296e6",
   "metadata": {},
   "outputs": [
    {
     "data": {
      "text/plain": [
       "<bound method DataFrame.median of          Population  Gross Domestic Product  Human Development Index  \\\n",
       "Canada       35.200               1785387.0                   0.9123   \n",
       "France       63.951               2833687.0                   0.8880   \n",
       "Germany      80.940               3874437.0                   0.9160   \n",
       "Italy        60.665               2167744.0                   0.8730   \n",
       "Japan       127.061               4602367.0                   0.8910   \n",
       "UK           64.511               2950039.0                   0.9070   \n",
       "USA         318.523              17348075.0                   0.9150   \n",
       "China      1400.000                     NaN                      NaN   \n",
       "\n",
       "        Continent  Surface Area  Language  GDP per Capita  \n",
       "Canada    America     9984670.0       NaN    50721.221591  \n",
       "France     Europe      640479.0    French    44310.284437  \n",
       "Germany    Europe      357114.0    German    47868.013343  \n",
       "Italy      Europe      301336.0   Italian    35733.025633  \n",
       "Japan        Asia      377930.0       NaN    36221.712406  \n",
       "UK         Europe      242495.0       NaN    45729.239975  \n",
       "USA       America     9525067.0       NaN    54464.120330  \n",
       "China        Asia           NaN  Mandarin             NaN  >"
      ]
     },
     "execution_count": 94,
     "metadata": {},
     "output_type": "execute_result"
    }
   ],
   "source": [
    "df.median"
   ]
  },
  {
   "cell_type": "code",
   "execution_count": 107,
   "id": "833f42d0-c798-40ba-a92b-73141772e1d9",
   "metadata": {},
   "outputs": [
    {
     "data": {
      "text/plain": [
       "Population                     465.841\n",
       "Gross Domestic Product     5494020.158\n",
       "Human Development Index          0.017\n",
       "Surface Area               4576204.207\n",
       "GDP per Capita                7005.590\n",
       "dtype: float64"
      ]
     },
     "execution_count": 107,
     "metadata": {},
     "output_type": "execute_result"
    }
   ],
   "source": [
    "round(df.std(numeric_only=True), 3)"
   ]
  },
  {
   "cell_type": "code",
   "execution_count": 103,
   "id": "a8b37ceb-c406-43e7-bdf1-547baa87711b",
   "metadata": {},
   "outputs": [
    {
     "ename": "TypeError",
     "evalue": "unsupported operand type(s) for -: 'str' and 'str'",
     "output_type": "error",
     "traceback": [
      "\u001b[1;31m---------------------------------------------------------------------------\u001b[0m",
      "\u001b[1;31mTypeError\u001b[0m                                 Traceback (most recent call last)",
      "Cell \u001b[1;32mIn[103], line 1\u001b[0m\n\u001b[1;32m----> 1\u001b[0m \u001b[43mdf\u001b[49m\u001b[38;5;241;43m.\u001b[39;49m\u001b[43mquantile\u001b[49m\u001b[43m(\u001b[49m\u001b[38;5;241;43m.25\u001b[39;49m\u001b[43m)\u001b[49m\n",
      "File \u001b[1;32m~\\PycharmProjects\\Data_analysis\\.venv\\lib\\site-packages\\pandas\\core\\frame.py:12146\u001b[0m, in \u001b[0;36mDataFrame.quantile\u001b[1;34m(self, q, axis, numeric_only, interpolation, method)\u001b[0m\n\u001b[0;32m  12140\u001b[0m axis \u001b[38;5;241m=\u001b[39m \u001b[38;5;28mself\u001b[39m\u001b[38;5;241m.\u001b[39m_get_axis_number(axis)\n\u001b[0;32m  12142\u001b[0m \u001b[38;5;28;01mif\u001b[39;00m \u001b[38;5;129;01mnot\u001b[39;00m is_list_like(q):\n\u001b[0;32m  12143\u001b[0m     \u001b[38;5;66;03m# BlockManager.quantile expects listlike, so we wrap and unwrap here\u001b[39;00m\n\u001b[0;32m  12144\u001b[0m     \u001b[38;5;66;03m# error: List item 0 has incompatible type \"float | ExtensionArray |\u001b[39;00m\n\u001b[0;32m  12145\u001b[0m     \u001b[38;5;66;03m# ndarray[Any, Any] | Index | Series | Sequence[float]\"; expected \"float\"\u001b[39;00m\n\u001b[1;32m> 12146\u001b[0m     res_df \u001b[38;5;241m=\u001b[39m \u001b[38;5;28;43mself\u001b[39;49m\u001b[38;5;241;43m.\u001b[39;49m\u001b[43mquantile\u001b[49m\u001b[43m(\u001b[49m\n\u001b[0;32m  12147\u001b[0m \u001b[43m        \u001b[49m\u001b[43m[\u001b[49m\u001b[43mq\u001b[49m\u001b[43m]\u001b[49m\u001b[43m,\u001b[49m\u001b[43m  \u001b[49m\u001b[38;5;66;43;03m# type: ignore[list-item]\u001b[39;49;00m\n\u001b[0;32m  12148\u001b[0m \u001b[43m        \u001b[49m\u001b[43maxis\u001b[49m\u001b[38;5;241;43m=\u001b[39;49m\u001b[43maxis\u001b[49m\u001b[43m,\u001b[49m\n\u001b[0;32m  12149\u001b[0m \u001b[43m        \u001b[49m\u001b[43mnumeric_only\u001b[49m\u001b[38;5;241;43m=\u001b[39;49m\u001b[43mnumeric_only\u001b[49m\u001b[43m,\u001b[49m\n\u001b[0;32m  12150\u001b[0m \u001b[43m        \u001b[49m\u001b[43minterpolation\u001b[49m\u001b[38;5;241;43m=\u001b[39;49m\u001b[43minterpolation\u001b[49m\u001b[43m,\u001b[49m\n\u001b[0;32m  12151\u001b[0m \u001b[43m        \u001b[49m\u001b[43mmethod\u001b[49m\u001b[38;5;241;43m=\u001b[39;49m\u001b[43mmethod\u001b[49m\u001b[43m,\u001b[49m\n\u001b[0;32m  12152\u001b[0m \u001b[43m    \u001b[49m\u001b[43m)\u001b[49m\n\u001b[0;32m  12153\u001b[0m     \u001b[38;5;28;01mif\u001b[39;00m method \u001b[38;5;241m==\u001b[39m \u001b[38;5;124m\"\u001b[39m\u001b[38;5;124msingle\u001b[39m\u001b[38;5;124m\"\u001b[39m:\n\u001b[0;32m  12154\u001b[0m         res \u001b[38;5;241m=\u001b[39m res_df\u001b[38;5;241m.\u001b[39miloc[\u001b[38;5;241m0\u001b[39m]\n",
      "File \u001b[1;32m~\\PycharmProjects\\Data_analysis\\.venv\\lib\\site-packages\\pandas\\core\\frame.py:12191\u001b[0m, in \u001b[0;36mDataFrame.quantile\u001b[1;34m(self, q, axis, numeric_only, interpolation, method)\u001b[0m\n\u001b[0;32m  12187\u001b[0m     \u001b[38;5;28;01mraise\u001b[39;00m \u001b[38;5;167;01mValueError\u001b[39;00m(\n\u001b[0;32m  12188\u001b[0m         \u001b[38;5;124mf\u001b[39m\u001b[38;5;124m\"\u001b[39m\u001b[38;5;124mInvalid method: \u001b[39m\u001b[38;5;132;01m{\u001b[39;00mmethod\u001b[38;5;132;01m}\u001b[39;00m\u001b[38;5;124m. Method must be in \u001b[39m\u001b[38;5;132;01m{\u001b[39;00mvalid_method\u001b[38;5;132;01m}\u001b[39;00m\u001b[38;5;124m.\u001b[39m\u001b[38;5;124m\"\u001b[39m\n\u001b[0;32m  12189\u001b[0m     )\n\u001b[0;32m  12190\u001b[0m \u001b[38;5;28;01mif\u001b[39;00m method \u001b[38;5;241m==\u001b[39m \u001b[38;5;124m\"\u001b[39m\u001b[38;5;124msingle\u001b[39m\u001b[38;5;124m\"\u001b[39m:\n\u001b[1;32m> 12191\u001b[0m     res \u001b[38;5;241m=\u001b[39m \u001b[43mdata\u001b[49m\u001b[38;5;241;43m.\u001b[39;49m\u001b[43m_mgr\u001b[49m\u001b[38;5;241;43m.\u001b[39;49m\u001b[43mquantile\u001b[49m\u001b[43m(\u001b[49m\u001b[43mqs\u001b[49m\u001b[38;5;241;43m=\u001b[39;49m\u001b[43mq\u001b[49m\u001b[43m,\u001b[49m\u001b[43m \u001b[49m\u001b[43minterpolation\u001b[49m\u001b[38;5;241;43m=\u001b[39;49m\u001b[43minterpolation\u001b[49m\u001b[43m)\u001b[49m\n\u001b[0;32m  12192\u001b[0m \u001b[38;5;28;01melif\u001b[39;00m method \u001b[38;5;241m==\u001b[39m \u001b[38;5;124m\"\u001b[39m\u001b[38;5;124mtable\u001b[39m\u001b[38;5;124m\"\u001b[39m:\n\u001b[0;32m  12193\u001b[0m     valid_interpolation \u001b[38;5;241m=\u001b[39m {\u001b[38;5;124m\"\u001b[39m\u001b[38;5;124mnearest\u001b[39m\u001b[38;5;124m\"\u001b[39m, \u001b[38;5;124m\"\u001b[39m\u001b[38;5;124mlower\u001b[39m\u001b[38;5;124m\"\u001b[39m, \u001b[38;5;124m\"\u001b[39m\u001b[38;5;124mhigher\u001b[39m\u001b[38;5;124m\"\u001b[39m}\n",
      "File \u001b[1;32m~\\PycharmProjects\\Data_analysis\\.venv\\lib\\site-packages\\pandas\\core\\internals\\managers.py:1548\u001b[0m, in \u001b[0;36mBlockManager.quantile\u001b[1;34m(self, qs, interpolation)\u001b[0m\n\u001b[0;32m   1545\u001b[0m new_axes \u001b[38;5;241m=\u001b[39m \u001b[38;5;28mlist\u001b[39m(\u001b[38;5;28mself\u001b[39m\u001b[38;5;241m.\u001b[39maxes)\n\u001b[0;32m   1546\u001b[0m new_axes[\u001b[38;5;241m1\u001b[39m] \u001b[38;5;241m=\u001b[39m Index(qs, dtype\u001b[38;5;241m=\u001b[39mnp\u001b[38;5;241m.\u001b[39mfloat64)\n\u001b[1;32m-> 1548\u001b[0m blocks \u001b[38;5;241m=\u001b[39m [\n\u001b[0;32m   1549\u001b[0m     blk\u001b[38;5;241m.\u001b[39mquantile(qs\u001b[38;5;241m=\u001b[39mqs, interpolation\u001b[38;5;241m=\u001b[39minterpolation) \u001b[38;5;28;01mfor\u001b[39;00m blk \u001b[38;5;129;01min\u001b[39;00m \u001b[38;5;28mself\u001b[39m\u001b[38;5;241m.\u001b[39mblocks\n\u001b[0;32m   1550\u001b[0m ]\n\u001b[0;32m   1552\u001b[0m \u001b[38;5;28;01mreturn\u001b[39;00m \u001b[38;5;28mtype\u001b[39m(\u001b[38;5;28mself\u001b[39m)(blocks, new_axes)\n",
      "File \u001b[1;32m~\\PycharmProjects\\Data_analysis\\.venv\\lib\\site-packages\\pandas\\core\\internals\\managers.py:1549\u001b[0m, in \u001b[0;36m<listcomp>\u001b[1;34m(.0)\u001b[0m\n\u001b[0;32m   1545\u001b[0m new_axes \u001b[38;5;241m=\u001b[39m \u001b[38;5;28mlist\u001b[39m(\u001b[38;5;28mself\u001b[39m\u001b[38;5;241m.\u001b[39maxes)\n\u001b[0;32m   1546\u001b[0m new_axes[\u001b[38;5;241m1\u001b[39m] \u001b[38;5;241m=\u001b[39m Index(qs, dtype\u001b[38;5;241m=\u001b[39mnp\u001b[38;5;241m.\u001b[39mfloat64)\n\u001b[0;32m   1548\u001b[0m blocks \u001b[38;5;241m=\u001b[39m [\n\u001b[1;32m-> 1549\u001b[0m     \u001b[43mblk\u001b[49m\u001b[38;5;241;43m.\u001b[39;49m\u001b[43mquantile\u001b[49m\u001b[43m(\u001b[49m\u001b[43mqs\u001b[49m\u001b[38;5;241;43m=\u001b[39;49m\u001b[43mqs\u001b[49m\u001b[43m,\u001b[49m\u001b[43m \u001b[49m\u001b[43minterpolation\u001b[49m\u001b[38;5;241;43m=\u001b[39;49m\u001b[43minterpolation\u001b[49m\u001b[43m)\u001b[49m \u001b[38;5;28;01mfor\u001b[39;00m blk \u001b[38;5;129;01min\u001b[39;00m \u001b[38;5;28mself\u001b[39m\u001b[38;5;241m.\u001b[39mblocks\n\u001b[0;32m   1550\u001b[0m ]\n\u001b[0;32m   1552\u001b[0m \u001b[38;5;28;01mreturn\u001b[39;00m \u001b[38;5;28mtype\u001b[39m(\u001b[38;5;28mself\u001b[39m)(blocks, new_axes)\n",
      "File \u001b[1;32m~\\PycharmProjects\\Data_analysis\\.venv\\lib\\site-packages\\pandas\\core\\internals\\blocks.py:1891\u001b[0m, in \u001b[0;36mBlock.quantile\u001b[1;34m(self, qs, interpolation)\u001b[0m\n\u001b[0;32m   1888\u001b[0m \u001b[38;5;28;01massert\u001b[39;00m \u001b[38;5;28mself\u001b[39m\u001b[38;5;241m.\u001b[39mndim \u001b[38;5;241m==\u001b[39m \u001b[38;5;241m2\u001b[39m\n\u001b[0;32m   1889\u001b[0m \u001b[38;5;28;01massert\u001b[39;00m is_list_like(qs)  \u001b[38;5;66;03m# caller is responsible for this\u001b[39;00m\n\u001b[1;32m-> 1891\u001b[0m result \u001b[38;5;241m=\u001b[39m \u001b[43mquantile_compat\u001b[49m\u001b[43m(\u001b[49m\u001b[38;5;28;43mself\u001b[39;49m\u001b[38;5;241;43m.\u001b[39;49m\u001b[43mvalues\u001b[49m\u001b[43m,\u001b[49m\u001b[43m \u001b[49m\u001b[43mnp\u001b[49m\u001b[38;5;241;43m.\u001b[39;49m\u001b[43masarray\u001b[49m\u001b[43m(\u001b[49m\u001b[43mqs\u001b[49m\u001b[38;5;241;43m.\u001b[39;49m\u001b[43m_values\u001b[49m\u001b[43m)\u001b[49m\u001b[43m,\u001b[49m\u001b[43m \u001b[49m\u001b[43minterpolation\u001b[49m\u001b[43m)\u001b[49m\n\u001b[0;32m   1892\u001b[0m \u001b[38;5;66;03m# ensure_block_shape needed for cases where we start with EA and result\u001b[39;00m\n\u001b[0;32m   1893\u001b[0m \u001b[38;5;66;03m#  is ndarray, e.g. IntegerArray, SparseArray\u001b[39;00m\n\u001b[0;32m   1894\u001b[0m result \u001b[38;5;241m=\u001b[39m ensure_block_shape(result, ndim\u001b[38;5;241m=\u001b[39m\u001b[38;5;241m2\u001b[39m)\n",
      "File \u001b[1;32m~\\PycharmProjects\\Data_analysis\\.venv\\lib\\site-packages\\pandas\\core\\array_algos\\quantile.py:39\u001b[0m, in \u001b[0;36mquantile_compat\u001b[1;34m(values, qs, interpolation)\u001b[0m\n\u001b[0;32m     37\u001b[0m     fill_value \u001b[38;5;241m=\u001b[39m na_value_for_dtype(values\u001b[38;5;241m.\u001b[39mdtype, compat\u001b[38;5;241m=\u001b[39m\u001b[38;5;28;01mFalse\u001b[39;00m)\n\u001b[0;32m     38\u001b[0m     mask \u001b[38;5;241m=\u001b[39m isna(values)\n\u001b[1;32m---> 39\u001b[0m     \u001b[38;5;28;01mreturn\u001b[39;00m \u001b[43mquantile_with_mask\u001b[49m\u001b[43m(\u001b[49m\u001b[43mvalues\u001b[49m\u001b[43m,\u001b[49m\u001b[43m \u001b[49m\u001b[43mmask\u001b[49m\u001b[43m,\u001b[49m\u001b[43m \u001b[49m\u001b[43mfill_value\u001b[49m\u001b[43m,\u001b[49m\u001b[43m \u001b[49m\u001b[43mqs\u001b[49m\u001b[43m,\u001b[49m\u001b[43m \u001b[49m\u001b[43minterpolation\u001b[49m\u001b[43m)\u001b[49m\n\u001b[0;32m     40\u001b[0m \u001b[38;5;28;01melse\u001b[39;00m:\n\u001b[0;32m     41\u001b[0m     \u001b[38;5;28;01mreturn\u001b[39;00m values\u001b[38;5;241m.\u001b[39m_quantile(qs, interpolation)\n",
      "File \u001b[1;32m~\\PycharmProjects\\Data_analysis\\.venv\\lib\\site-packages\\pandas\\core\\array_algos\\quantile.py:97\u001b[0m, in \u001b[0;36mquantile_with_mask\u001b[1;34m(values, mask, fill_value, qs, interpolation)\u001b[0m\n\u001b[0;32m     95\u001b[0m     result \u001b[38;5;241m=\u001b[39m np\u001b[38;5;241m.\u001b[39mrepeat(flat, \u001b[38;5;28mlen\u001b[39m(values))\u001b[38;5;241m.\u001b[39mreshape(\u001b[38;5;28mlen\u001b[39m(values), \u001b[38;5;28mlen\u001b[39m(qs))\n\u001b[0;32m     96\u001b[0m \u001b[38;5;28;01melse\u001b[39;00m:\n\u001b[1;32m---> 97\u001b[0m     result \u001b[38;5;241m=\u001b[39m \u001b[43m_nanpercentile\u001b[49m\u001b[43m(\u001b[49m\n\u001b[0;32m     98\u001b[0m \u001b[43m        \u001b[49m\u001b[43mvalues\u001b[49m\u001b[43m,\u001b[49m\n\u001b[0;32m     99\u001b[0m \u001b[43m        \u001b[49m\u001b[43mqs\u001b[49m\u001b[43m \u001b[49m\u001b[38;5;241;43m*\u001b[39;49m\u001b[43m \u001b[49m\u001b[38;5;241;43m100.0\u001b[39;49m\u001b[43m,\u001b[49m\n\u001b[0;32m    100\u001b[0m \u001b[43m        \u001b[49m\u001b[43mna_value\u001b[49m\u001b[38;5;241;43m=\u001b[39;49m\u001b[43mfill_value\u001b[49m\u001b[43m,\u001b[49m\n\u001b[0;32m    101\u001b[0m \u001b[43m        \u001b[49m\u001b[43mmask\u001b[49m\u001b[38;5;241;43m=\u001b[39;49m\u001b[43mmask\u001b[49m\u001b[43m,\u001b[49m\n\u001b[0;32m    102\u001b[0m \u001b[43m        \u001b[49m\u001b[43minterpolation\u001b[49m\u001b[38;5;241;43m=\u001b[39;49m\u001b[43minterpolation\u001b[49m\u001b[43m,\u001b[49m\n\u001b[0;32m    103\u001b[0m \u001b[43m    \u001b[49m\u001b[43m)\u001b[49m\n\u001b[0;32m    105\u001b[0m     result \u001b[38;5;241m=\u001b[39m np\u001b[38;5;241m.\u001b[39masarray(result)\n\u001b[0;32m    106\u001b[0m     result \u001b[38;5;241m=\u001b[39m result\u001b[38;5;241m.\u001b[39mT\n",
      "File \u001b[1;32m~\\PycharmProjects\\Data_analysis\\.venv\\lib\\site-packages\\pandas\\core\\array_algos\\quantile.py:218\u001b[0m, in \u001b[0;36m_nanpercentile\u001b[1;34m(values, qs, na_value, mask, interpolation)\u001b[0m\n\u001b[0;32m    216\u001b[0m     \u001b[38;5;28;01mreturn\u001b[39;00m result\n\u001b[0;32m    217\u001b[0m \u001b[38;5;28;01melse\u001b[39;00m:\n\u001b[1;32m--> 218\u001b[0m     \u001b[38;5;28;01mreturn\u001b[39;00m \u001b[43mnp\u001b[49m\u001b[38;5;241;43m.\u001b[39;49m\u001b[43mpercentile\u001b[49m\u001b[43m(\u001b[49m\n\u001b[0;32m    219\u001b[0m \u001b[43m        \u001b[49m\u001b[43mvalues\u001b[49m\u001b[43m,\u001b[49m\n\u001b[0;32m    220\u001b[0m \u001b[43m        \u001b[49m\u001b[43mqs\u001b[49m\u001b[43m,\u001b[49m\n\u001b[0;32m    221\u001b[0m \u001b[43m        \u001b[49m\u001b[43maxis\u001b[49m\u001b[38;5;241;43m=\u001b[39;49m\u001b[38;5;241;43m1\u001b[39;49m\u001b[43m,\u001b[49m\n\u001b[0;32m    222\u001b[0m \u001b[43m        \u001b[49m\u001b[38;5;66;43;03m# error: No overload variant of \"percentile\" matches argument types\u001b[39;49;00m\n\u001b[0;32m    223\u001b[0m \u001b[43m        \u001b[49m\u001b[38;5;66;43;03m# \"ndarray[Any, Any]\", \"ndarray[Any, dtype[floating[_64Bit]]]\",\u001b[39;49;00m\n\u001b[0;32m    224\u001b[0m \u001b[43m        \u001b[49m\u001b[38;5;66;43;03m# \"int\", \"Dict[str, str]\"  [call-overload]\u001b[39;49;00m\n\u001b[0;32m    225\u001b[0m \u001b[43m        \u001b[49m\u001b[43mmethod\u001b[49m\u001b[38;5;241;43m=\u001b[39;49m\u001b[43minterpolation\u001b[49m\u001b[43m,\u001b[49m\u001b[43m  \u001b[49m\u001b[38;5;66;43;03m# type: ignore[call-overload]\u001b[39;49;00m\n\u001b[0;32m    226\u001b[0m \u001b[43m    \u001b[49m\u001b[43m)\u001b[49m\n",
      "File \u001b[1;32m~\\PycharmProjects\\Data_analysis\\.venv\\lib\\site-packages\\numpy\\lib\\_function_base_impl.py:4273\u001b[0m, in \u001b[0;36mpercentile\u001b[1;34m(a, q, axis, out, overwrite_input, method, keepdims, weights, interpolation)\u001b[0m\n\u001b[0;32m   4270\u001b[0m     \u001b[38;5;28;01mif\u001b[39;00m np\u001b[38;5;241m.\u001b[39many(weights \u001b[38;5;241m<\u001b[39m \u001b[38;5;241m0\u001b[39m):\n\u001b[0;32m   4271\u001b[0m         \u001b[38;5;28;01mraise\u001b[39;00m \u001b[38;5;167;01mValueError\u001b[39;00m(\u001b[38;5;124m\"\u001b[39m\u001b[38;5;124mWeights must be non-negative.\u001b[39m\u001b[38;5;124m\"\u001b[39m)\n\u001b[1;32m-> 4273\u001b[0m \u001b[38;5;28;01mreturn\u001b[39;00m \u001b[43m_quantile_unchecked\u001b[49m\u001b[43m(\u001b[49m\n\u001b[0;32m   4274\u001b[0m \u001b[43m    \u001b[49m\u001b[43ma\u001b[49m\u001b[43m,\u001b[49m\u001b[43m \u001b[49m\u001b[43mq\u001b[49m\u001b[43m,\u001b[49m\u001b[43m \u001b[49m\u001b[43maxis\u001b[49m\u001b[43m,\u001b[49m\u001b[43m \u001b[49m\u001b[43mout\u001b[49m\u001b[43m,\u001b[49m\u001b[43m \u001b[49m\u001b[43moverwrite_input\u001b[49m\u001b[43m,\u001b[49m\u001b[43m \u001b[49m\u001b[43mmethod\u001b[49m\u001b[43m,\u001b[49m\u001b[43m \u001b[49m\u001b[43mkeepdims\u001b[49m\u001b[43m,\u001b[49m\u001b[43m \u001b[49m\u001b[43mweights\u001b[49m\u001b[43m)\u001b[49m\n",
      "File \u001b[1;32m~\\PycharmProjects\\Data_analysis\\.venv\\lib\\site-packages\\numpy\\lib\\_function_base_impl.py:4550\u001b[0m, in \u001b[0;36m_quantile_unchecked\u001b[1;34m(a, q, axis, out, overwrite_input, method, keepdims, weights)\u001b[0m\n\u001b[0;32m   4541\u001b[0m \u001b[38;5;28;01mdef\u001b[39;00m\u001b[38;5;250m \u001b[39m\u001b[38;5;21m_quantile_unchecked\u001b[39m(a,\n\u001b[0;32m   4542\u001b[0m                         q,\n\u001b[0;32m   4543\u001b[0m                         axis\u001b[38;5;241m=\u001b[39m\u001b[38;5;28;01mNone\u001b[39;00m,\n\u001b[1;32m   (...)\u001b[0m\n\u001b[0;32m   4547\u001b[0m                         keepdims\u001b[38;5;241m=\u001b[39m\u001b[38;5;28;01mFalse\u001b[39;00m,\n\u001b[0;32m   4548\u001b[0m                         weights\u001b[38;5;241m=\u001b[39m\u001b[38;5;28;01mNone\u001b[39;00m):\n\u001b[0;32m   4549\u001b[0m \u001b[38;5;250m    \u001b[39m\u001b[38;5;124;03m\"\"\"Assumes that q is in [0, 1], and is an ndarray\"\"\"\u001b[39;00m\n\u001b[1;32m-> 4550\u001b[0m     \u001b[38;5;28;01mreturn\u001b[39;00m \u001b[43m_ureduce\u001b[49m\u001b[43m(\u001b[49m\u001b[43ma\u001b[49m\u001b[43m,\u001b[49m\n\u001b[0;32m   4551\u001b[0m \u001b[43m                    \u001b[49m\u001b[43mfunc\u001b[49m\u001b[38;5;241;43m=\u001b[39;49m\u001b[43m_quantile_ureduce_func\u001b[49m\u001b[43m,\u001b[49m\n\u001b[0;32m   4552\u001b[0m \u001b[43m                    \u001b[49m\u001b[43mq\u001b[49m\u001b[38;5;241;43m=\u001b[39;49m\u001b[43mq\u001b[49m\u001b[43m,\u001b[49m\n\u001b[0;32m   4553\u001b[0m \u001b[43m                    \u001b[49m\u001b[43mweights\u001b[49m\u001b[38;5;241;43m=\u001b[39;49m\u001b[43mweights\u001b[49m\u001b[43m,\u001b[49m\n\u001b[0;32m   4554\u001b[0m \u001b[43m                    \u001b[49m\u001b[43mkeepdims\u001b[49m\u001b[38;5;241;43m=\u001b[39;49m\u001b[43mkeepdims\u001b[49m\u001b[43m,\u001b[49m\n\u001b[0;32m   4555\u001b[0m \u001b[43m                    \u001b[49m\u001b[43maxis\u001b[49m\u001b[38;5;241;43m=\u001b[39;49m\u001b[43maxis\u001b[49m\u001b[43m,\u001b[49m\n\u001b[0;32m   4556\u001b[0m \u001b[43m                    \u001b[49m\u001b[43mout\u001b[49m\u001b[38;5;241;43m=\u001b[39;49m\u001b[43mout\u001b[49m\u001b[43m,\u001b[49m\n\u001b[0;32m   4557\u001b[0m \u001b[43m                    \u001b[49m\u001b[43moverwrite_input\u001b[49m\u001b[38;5;241;43m=\u001b[39;49m\u001b[43moverwrite_input\u001b[49m\u001b[43m,\u001b[49m\n\u001b[0;32m   4558\u001b[0m \u001b[43m                    \u001b[49m\u001b[43mmethod\u001b[49m\u001b[38;5;241;43m=\u001b[39;49m\u001b[43mmethod\u001b[49m\u001b[43m)\u001b[49m\n",
      "File \u001b[1;32m~\\PycharmProjects\\Data_analysis\\.venv\\lib\\site-packages\\numpy\\lib\\_function_base_impl.py:3894\u001b[0m, in \u001b[0;36m_ureduce\u001b[1;34m(a, func, keepdims, **kwargs)\u001b[0m\n\u001b[0;32m   3891\u001b[0m             index_out \u001b[38;5;241m=\u001b[39m (\u001b[38;5;241m0\u001b[39m, ) \u001b[38;5;241m*\u001b[39m nd\n\u001b[0;32m   3892\u001b[0m             kwargs[\u001b[38;5;124m'\u001b[39m\u001b[38;5;124mout\u001b[39m\u001b[38;5;124m'\u001b[39m] \u001b[38;5;241m=\u001b[39m out[(\u001b[38;5;28mEllipsis\u001b[39m, ) \u001b[38;5;241m+\u001b[39m index_out]\n\u001b[1;32m-> 3894\u001b[0m r \u001b[38;5;241m=\u001b[39m func(a, \u001b[38;5;241m*\u001b[39m\u001b[38;5;241m*\u001b[39mkwargs)\n\u001b[0;32m   3896\u001b[0m \u001b[38;5;28;01mif\u001b[39;00m out \u001b[38;5;129;01mis\u001b[39;00m \u001b[38;5;129;01mnot\u001b[39;00m \u001b[38;5;28;01mNone\u001b[39;00m:\n\u001b[0;32m   3897\u001b[0m     \u001b[38;5;28;01mreturn\u001b[39;00m out\n",
      "File \u001b[1;32m~\\PycharmProjects\\Data_analysis\\.venv\\lib\\site-packages\\numpy\\lib\\_function_base_impl.py:4727\u001b[0m, in \u001b[0;36m_quantile_ureduce_func\u001b[1;34m(a, q, weights, axis, out, overwrite_input, method)\u001b[0m\n\u001b[0;32m   4725\u001b[0m         arr \u001b[38;5;241m=\u001b[39m a\u001b[38;5;241m.\u001b[39mcopy()\n\u001b[0;32m   4726\u001b[0m         wgt \u001b[38;5;241m=\u001b[39m weights\n\u001b[1;32m-> 4727\u001b[0m result \u001b[38;5;241m=\u001b[39m \u001b[43m_quantile\u001b[49m\u001b[43m(\u001b[49m\u001b[43marr\u001b[49m\u001b[43m,\u001b[49m\n\u001b[0;32m   4728\u001b[0m \u001b[43m                   \u001b[49m\u001b[43mquantiles\u001b[49m\u001b[38;5;241;43m=\u001b[39;49m\u001b[43mq\u001b[49m\u001b[43m,\u001b[49m\n\u001b[0;32m   4729\u001b[0m \u001b[43m                   \u001b[49m\u001b[43maxis\u001b[49m\u001b[38;5;241;43m=\u001b[39;49m\u001b[43maxis\u001b[49m\u001b[43m,\u001b[49m\n\u001b[0;32m   4730\u001b[0m \u001b[43m                   \u001b[49m\u001b[43mmethod\u001b[49m\u001b[38;5;241;43m=\u001b[39;49m\u001b[43mmethod\u001b[49m\u001b[43m,\u001b[49m\n\u001b[0;32m   4731\u001b[0m \u001b[43m                   \u001b[49m\u001b[43mout\u001b[49m\u001b[38;5;241;43m=\u001b[39;49m\u001b[43mout\u001b[49m\u001b[43m,\u001b[49m\n\u001b[0;32m   4732\u001b[0m \u001b[43m                   \u001b[49m\u001b[43mweights\u001b[49m\u001b[38;5;241;43m=\u001b[39;49m\u001b[43mwgt\u001b[49m\u001b[43m)\u001b[49m\n\u001b[0;32m   4733\u001b[0m \u001b[38;5;28;01mreturn\u001b[39;00m result\n",
      "File \u001b[1;32m~\\PycharmProjects\\Data_analysis\\.venv\\lib\\site-packages\\numpy\\lib\\_function_base_impl.py:4859\u001b[0m, in \u001b[0;36m_quantile\u001b[1;34m(arr, quantiles, axis, method, out, weights)\u001b[0m\n\u001b[0;32m   4857\u001b[0m         result_shape \u001b[38;5;241m=\u001b[39m virtual_indexes\u001b[38;5;241m.\u001b[39mshape \u001b[38;5;241m+\u001b[39m (\u001b[38;5;241m1\u001b[39m,) \u001b[38;5;241m*\u001b[39m (arr\u001b[38;5;241m.\u001b[39mndim \u001b[38;5;241m-\u001b[39m \u001b[38;5;241m1\u001b[39m)\n\u001b[0;32m   4858\u001b[0m         gamma \u001b[38;5;241m=\u001b[39m gamma\u001b[38;5;241m.\u001b[39mreshape(result_shape)\n\u001b[1;32m-> 4859\u001b[0m         result \u001b[38;5;241m=\u001b[39m \u001b[43m_lerp\u001b[49m\u001b[43m(\u001b[49m\u001b[43mprevious\u001b[49m\u001b[43m,\u001b[49m\n\u001b[0;32m   4860\u001b[0m \u001b[43m                    \u001b[49m\u001b[38;5;28;43mnext\u001b[39;49m\u001b[43m,\u001b[49m\n\u001b[0;32m   4861\u001b[0m \u001b[43m                    \u001b[49m\u001b[43mgamma\u001b[49m\u001b[43m,\u001b[49m\n\u001b[0;32m   4862\u001b[0m \u001b[43m                    \u001b[49m\u001b[43mout\u001b[49m\u001b[38;5;241;43m=\u001b[39;49m\u001b[43mout\u001b[49m\u001b[43m)\u001b[49m\n\u001b[0;32m   4863\u001b[0m \u001b[38;5;28;01melse\u001b[39;00m:\n\u001b[0;32m   4864\u001b[0m     \u001b[38;5;66;03m# Weighted case\u001b[39;00m\n\u001b[0;32m   4865\u001b[0m     \u001b[38;5;66;03m# This implements method=\"inverted_cdf\", the only supported weighted\u001b[39;00m\n\u001b[0;32m   4866\u001b[0m     \u001b[38;5;66;03m# method, which needs to sort anyway.\u001b[39;00m\n\u001b[0;32m   4867\u001b[0m     weights \u001b[38;5;241m=\u001b[39m np\u001b[38;5;241m.\u001b[39masanyarray(weights)\n",
      "File \u001b[1;32m~\\PycharmProjects\\Data_analysis\\.venv\\lib\\site-packages\\numpy\\lib\\_function_base_impl.py:4653\u001b[0m, in \u001b[0;36m_lerp\u001b[1;34m(a, b, t, out)\u001b[0m\n\u001b[0;32m   4639\u001b[0m \u001b[38;5;28;01mdef\u001b[39;00m\u001b[38;5;250m \u001b[39m\u001b[38;5;21m_lerp\u001b[39m(a, b, t, out\u001b[38;5;241m=\u001b[39m\u001b[38;5;28;01mNone\u001b[39;00m):\n\u001b[0;32m   4640\u001b[0m \u001b[38;5;250m    \u001b[39m\u001b[38;5;124;03m\"\"\"\u001b[39;00m\n\u001b[0;32m   4641\u001b[0m \u001b[38;5;124;03m    Compute the linear interpolation weighted by gamma on each point of\u001b[39;00m\n\u001b[0;32m   4642\u001b[0m \u001b[38;5;124;03m    two same shape array.\u001b[39;00m\n\u001b[1;32m   (...)\u001b[0m\n\u001b[0;32m   4651\u001b[0m \u001b[38;5;124;03m        Output array.\u001b[39;00m\n\u001b[0;32m   4652\u001b[0m \u001b[38;5;124;03m    \"\"\"\u001b[39;00m\n\u001b[1;32m-> 4653\u001b[0m     diff_b_a \u001b[38;5;241m=\u001b[39m \u001b[43msubtract\u001b[49m\u001b[43m(\u001b[49m\u001b[43mb\u001b[49m\u001b[43m,\u001b[49m\u001b[43m \u001b[49m\u001b[43ma\u001b[49m\u001b[43m)\u001b[49m\n\u001b[0;32m   4654\u001b[0m     \u001b[38;5;66;03m# asanyarray is a stop-gap until gh-13105\u001b[39;00m\n\u001b[0;32m   4655\u001b[0m     lerp_interpolation \u001b[38;5;241m=\u001b[39m asanyarray(add(a, diff_b_a \u001b[38;5;241m*\u001b[39m t, out\u001b[38;5;241m=\u001b[39mout))\n",
      "\u001b[1;31mTypeError\u001b[0m: unsupported operand type(s) for -: 'str' and 'str'"
     ]
    }
   ],
   "source": [
    "df.quantile(.25)"
   ]
  },
  {
   "cell_type": "code",
   "execution_count": 104,
   "id": "c314a851-62d5-455e-9eaf-9c288c2baba3",
   "metadata": {},
   "outputs": [
    {
     "ename": "TypeError",
     "evalue": "unsupported operand type(s) for -: 'str' and 'str'",
     "output_type": "error",
     "traceback": [
      "\u001b[1;31m---------------------------------------------------------------------------\u001b[0m",
      "\u001b[1;31mTypeError\u001b[0m                                 Traceback (most recent call last)",
      "Cell \u001b[1;32mIn[104], line 1\u001b[0m\n\u001b[1;32m----> 1\u001b[0m \u001b[43mdf\u001b[49m\u001b[38;5;241;43m.\u001b[39;49m\u001b[43mquantile\u001b[49m\u001b[43m(\u001b[49m\u001b[43m[\u001b[49m\u001b[38;5;241;43m.2\u001b[39;49m\u001b[43m,\u001b[49m\u001b[43m \u001b[49m\u001b[38;5;241;43m.4\u001b[39;49m\u001b[43m,\u001b[49m\u001b[43m \u001b[49m\u001b[38;5;241;43m.6\u001b[39;49m\u001b[43m,\u001b[49m\u001b[43m \u001b[49m\u001b[38;5;241;43m.8\u001b[39;49m\u001b[43m]\u001b[49m\u001b[43m)\u001b[49m\n",
      "File \u001b[1;32m~\\PycharmProjects\\Data_analysis\\.venv\\lib\\site-packages\\pandas\\core\\frame.py:12191\u001b[0m, in \u001b[0;36mDataFrame.quantile\u001b[1;34m(self, q, axis, numeric_only, interpolation, method)\u001b[0m\n\u001b[0;32m  12187\u001b[0m     \u001b[38;5;28;01mraise\u001b[39;00m \u001b[38;5;167;01mValueError\u001b[39;00m(\n\u001b[0;32m  12188\u001b[0m         \u001b[38;5;124mf\u001b[39m\u001b[38;5;124m\"\u001b[39m\u001b[38;5;124mInvalid method: \u001b[39m\u001b[38;5;132;01m{\u001b[39;00mmethod\u001b[38;5;132;01m}\u001b[39;00m\u001b[38;5;124m. Method must be in \u001b[39m\u001b[38;5;132;01m{\u001b[39;00mvalid_method\u001b[38;5;132;01m}\u001b[39;00m\u001b[38;5;124m.\u001b[39m\u001b[38;5;124m\"\u001b[39m\n\u001b[0;32m  12189\u001b[0m     )\n\u001b[0;32m  12190\u001b[0m \u001b[38;5;28;01mif\u001b[39;00m method \u001b[38;5;241m==\u001b[39m \u001b[38;5;124m\"\u001b[39m\u001b[38;5;124msingle\u001b[39m\u001b[38;5;124m\"\u001b[39m:\n\u001b[1;32m> 12191\u001b[0m     res \u001b[38;5;241m=\u001b[39m \u001b[43mdata\u001b[49m\u001b[38;5;241;43m.\u001b[39;49m\u001b[43m_mgr\u001b[49m\u001b[38;5;241;43m.\u001b[39;49m\u001b[43mquantile\u001b[49m\u001b[43m(\u001b[49m\u001b[43mqs\u001b[49m\u001b[38;5;241;43m=\u001b[39;49m\u001b[43mq\u001b[49m\u001b[43m,\u001b[49m\u001b[43m \u001b[49m\u001b[43minterpolation\u001b[49m\u001b[38;5;241;43m=\u001b[39;49m\u001b[43minterpolation\u001b[49m\u001b[43m)\u001b[49m\n\u001b[0;32m  12192\u001b[0m \u001b[38;5;28;01melif\u001b[39;00m method \u001b[38;5;241m==\u001b[39m \u001b[38;5;124m\"\u001b[39m\u001b[38;5;124mtable\u001b[39m\u001b[38;5;124m\"\u001b[39m:\n\u001b[0;32m  12193\u001b[0m     valid_interpolation \u001b[38;5;241m=\u001b[39m {\u001b[38;5;124m\"\u001b[39m\u001b[38;5;124mnearest\u001b[39m\u001b[38;5;124m\"\u001b[39m, \u001b[38;5;124m\"\u001b[39m\u001b[38;5;124mlower\u001b[39m\u001b[38;5;124m\"\u001b[39m, \u001b[38;5;124m\"\u001b[39m\u001b[38;5;124mhigher\u001b[39m\u001b[38;5;124m\"\u001b[39m}\n",
      "File \u001b[1;32m~\\PycharmProjects\\Data_analysis\\.venv\\lib\\site-packages\\pandas\\core\\internals\\managers.py:1548\u001b[0m, in \u001b[0;36mBlockManager.quantile\u001b[1;34m(self, qs, interpolation)\u001b[0m\n\u001b[0;32m   1545\u001b[0m new_axes \u001b[38;5;241m=\u001b[39m \u001b[38;5;28mlist\u001b[39m(\u001b[38;5;28mself\u001b[39m\u001b[38;5;241m.\u001b[39maxes)\n\u001b[0;32m   1546\u001b[0m new_axes[\u001b[38;5;241m1\u001b[39m] \u001b[38;5;241m=\u001b[39m Index(qs, dtype\u001b[38;5;241m=\u001b[39mnp\u001b[38;5;241m.\u001b[39mfloat64)\n\u001b[1;32m-> 1548\u001b[0m blocks \u001b[38;5;241m=\u001b[39m [\n\u001b[0;32m   1549\u001b[0m     blk\u001b[38;5;241m.\u001b[39mquantile(qs\u001b[38;5;241m=\u001b[39mqs, interpolation\u001b[38;5;241m=\u001b[39minterpolation) \u001b[38;5;28;01mfor\u001b[39;00m blk \u001b[38;5;129;01min\u001b[39;00m \u001b[38;5;28mself\u001b[39m\u001b[38;5;241m.\u001b[39mblocks\n\u001b[0;32m   1550\u001b[0m ]\n\u001b[0;32m   1552\u001b[0m \u001b[38;5;28;01mreturn\u001b[39;00m \u001b[38;5;28mtype\u001b[39m(\u001b[38;5;28mself\u001b[39m)(blocks, new_axes)\n",
      "File \u001b[1;32m~\\PycharmProjects\\Data_analysis\\.venv\\lib\\site-packages\\pandas\\core\\internals\\managers.py:1549\u001b[0m, in \u001b[0;36m<listcomp>\u001b[1;34m(.0)\u001b[0m\n\u001b[0;32m   1545\u001b[0m new_axes \u001b[38;5;241m=\u001b[39m \u001b[38;5;28mlist\u001b[39m(\u001b[38;5;28mself\u001b[39m\u001b[38;5;241m.\u001b[39maxes)\n\u001b[0;32m   1546\u001b[0m new_axes[\u001b[38;5;241m1\u001b[39m] \u001b[38;5;241m=\u001b[39m Index(qs, dtype\u001b[38;5;241m=\u001b[39mnp\u001b[38;5;241m.\u001b[39mfloat64)\n\u001b[0;32m   1548\u001b[0m blocks \u001b[38;5;241m=\u001b[39m [\n\u001b[1;32m-> 1549\u001b[0m     \u001b[43mblk\u001b[49m\u001b[38;5;241;43m.\u001b[39;49m\u001b[43mquantile\u001b[49m\u001b[43m(\u001b[49m\u001b[43mqs\u001b[49m\u001b[38;5;241;43m=\u001b[39;49m\u001b[43mqs\u001b[49m\u001b[43m,\u001b[49m\u001b[43m \u001b[49m\u001b[43minterpolation\u001b[49m\u001b[38;5;241;43m=\u001b[39;49m\u001b[43minterpolation\u001b[49m\u001b[43m)\u001b[49m \u001b[38;5;28;01mfor\u001b[39;00m blk \u001b[38;5;129;01min\u001b[39;00m \u001b[38;5;28mself\u001b[39m\u001b[38;5;241m.\u001b[39mblocks\n\u001b[0;32m   1550\u001b[0m ]\n\u001b[0;32m   1552\u001b[0m \u001b[38;5;28;01mreturn\u001b[39;00m \u001b[38;5;28mtype\u001b[39m(\u001b[38;5;28mself\u001b[39m)(blocks, new_axes)\n",
      "File \u001b[1;32m~\\PycharmProjects\\Data_analysis\\.venv\\lib\\site-packages\\pandas\\core\\internals\\blocks.py:1891\u001b[0m, in \u001b[0;36mBlock.quantile\u001b[1;34m(self, qs, interpolation)\u001b[0m\n\u001b[0;32m   1888\u001b[0m \u001b[38;5;28;01massert\u001b[39;00m \u001b[38;5;28mself\u001b[39m\u001b[38;5;241m.\u001b[39mndim \u001b[38;5;241m==\u001b[39m \u001b[38;5;241m2\u001b[39m\n\u001b[0;32m   1889\u001b[0m \u001b[38;5;28;01massert\u001b[39;00m is_list_like(qs)  \u001b[38;5;66;03m# caller is responsible for this\u001b[39;00m\n\u001b[1;32m-> 1891\u001b[0m result \u001b[38;5;241m=\u001b[39m \u001b[43mquantile_compat\u001b[49m\u001b[43m(\u001b[49m\u001b[38;5;28;43mself\u001b[39;49m\u001b[38;5;241;43m.\u001b[39;49m\u001b[43mvalues\u001b[49m\u001b[43m,\u001b[49m\u001b[43m \u001b[49m\u001b[43mnp\u001b[49m\u001b[38;5;241;43m.\u001b[39;49m\u001b[43masarray\u001b[49m\u001b[43m(\u001b[49m\u001b[43mqs\u001b[49m\u001b[38;5;241;43m.\u001b[39;49m\u001b[43m_values\u001b[49m\u001b[43m)\u001b[49m\u001b[43m,\u001b[49m\u001b[43m \u001b[49m\u001b[43minterpolation\u001b[49m\u001b[43m)\u001b[49m\n\u001b[0;32m   1892\u001b[0m \u001b[38;5;66;03m# ensure_block_shape needed for cases where we start with EA and result\u001b[39;00m\n\u001b[0;32m   1893\u001b[0m \u001b[38;5;66;03m#  is ndarray, e.g. IntegerArray, SparseArray\u001b[39;00m\n\u001b[0;32m   1894\u001b[0m result \u001b[38;5;241m=\u001b[39m ensure_block_shape(result, ndim\u001b[38;5;241m=\u001b[39m\u001b[38;5;241m2\u001b[39m)\n",
      "File \u001b[1;32m~\\PycharmProjects\\Data_analysis\\.venv\\lib\\site-packages\\pandas\\core\\array_algos\\quantile.py:39\u001b[0m, in \u001b[0;36mquantile_compat\u001b[1;34m(values, qs, interpolation)\u001b[0m\n\u001b[0;32m     37\u001b[0m     fill_value \u001b[38;5;241m=\u001b[39m na_value_for_dtype(values\u001b[38;5;241m.\u001b[39mdtype, compat\u001b[38;5;241m=\u001b[39m\u001b[38;5;28;01mFalse\u001b[39;00m)\n\u001b[0;32m     38\u001b[0m     mask \u001b[38;5;241m=\u001b[39m isna(values)\n\u001b[1;32m---> 39\u001b[0m     \u001b[38;5;28;01mreturn\u001b[39;00m \u001b[43mquantile_with_mask\u001b[49m\u001b[43m(\u001b[49m\u001b[43mvalues\u001b[49m\u001b[43m,\u001b[49m\u001b[43m \u001b[49m\u001b[43mmask\u001b[49m\u001b[43m,\u001b[49m\u001b[43m \u001b[49m\u001b[43mfill_value\u001b[49m\u001b[43m,\u001b[49m\u001b[43m \u001b[49m\u001b[43mqs\u001b[49m\u001b[43m,\u001b[49m\u001b[43m \u001b[49m\u001b[43minterpolation\u001b[49m\u001b[43m)\u001b[49m\n\u001b[0;32m     40\u001b[0m \u001b[38;5;28;01melse\u001b[39;00m:\n\u001b[0;32m     41\u001b[0m     \u001b[38;5;28;01mreturn\u001b[39;00m values\u001b[38;5;241m.\u001b[39m_quantile(qs, interpolation)\n",
      "File \u001b[1;32m~\\PycharmProjects\\Data_analysis\\.venv\\lib\\site-packages\\pandas\\core\\array_algos\\quantile.py:97\u001b[0m, in \u001b[0;36mquantile_with_mask\u001b[1;34m(values, mask, fill_value, qs, interpolation)\u001b[0m\n\u001b[0;32m     95\u001b[0m     result \u001b[38;5;241m=\u001b[39m np\u001b[38;5;241m.\u001b[39mrepeat(flat, \u001b[38;5;28mlen\u001b[39m(values))\u001b[38;5;241m.\u001b[39mreshape(\u001b[38;5;28mlen\u001b[39m(values), \u001b[38;5;28mlen\u001b[39m(qs))\n\u001b[0;32m     96\u001b[0m \u001b[38;5;28;01melse\u001b[39;00m:\n\u001b[1;32m---> 97\u001b[0m     result \u001b[38;5;241m=\u001b[39m \u001b[43m_nanpercentile\u001b[49m\u001b[43m(\u001b[49m\n\u001b[0;32m     98\u001b[0m \u001b[43m        \u001b[49m\u001b[43mvalues\u001b[49m\u001b[43m,\u001b[49m\n\u001b[0;32m     99\u001b[0m \u001b[43m        \u001b[49m\u001b[43mqs\u001b[49m\u001b[43m \u001b[49m\u001b[38;5;241;43m*\u001b[39;49m\u001b[43m \u001b[49m\u001b[38;5;241;43m100.0\u001b[39;49m\u001b[43m,\u001b[49m\n\u001b[0;32m    100\u001b[0m \u001b[43m        \u001b[49m\u001b[43mna_value\u001b[49m\u001b[38;5;241;43m=\u001b[39;49m\u001b[43mfill_value\u001b[49m\u001b[43m,\u001b[49m\n\u001b[0;32m    101\u001b[0m \u001b[43m        \u001b[49m\u001b[43mmask\u001b[49m\u001b[38;5;241;43m=\u001b[39;49m\u001b[43mmask\u001b[49m\u001b[43m,\u001b[49m\n\u001b[0;32m    102\u001b[0m \u001b[43m        \u001b[49m\u001b[43minterpolation\u001b[49m\u001b[38;5;241;43m=\u001b[39;49m\u001b[43minterpolation\u001b[49m\u001b[43m,\u001b[49m\n\u001b[0;32m    103\u001b[0m \u001b[43m    \u001b[49m\u001b[43m)\u001b[49m\n\u001b[0;32m    105\u001b[0m     result \u001b[38;5;241m=\u001b[39m np\u001b[38;5;241m.\u001b[39masarray(result)\n\u001b[0;32m    106\u001b[0m     result \u001b[38;5;241m=\u001b[39m result\u001b[38;5;241m.\u001b[39mT\n",
      "File \u001b[1;32m~\\PycharmProjects\\Data_analysis\\.venv\\lib\\site-packages\\pandas\\core\\array_algos\\quantile.py:218\u001b[0m, in \u001b[0;36m_nanpercentile\u001b[1;34m(values, qs, na_value, mask, interpolation)\u001b[0m\n\u001b[0;32m    216\u001b[0m     \u001b[38;5;28;01mreturn\u001b[39;00m result\n\u001b[0;32m    217\u001b[0m \u001b[38;5;28;01melse\u001b[39;00m:\n\u001b[1;32m--> 218\u001b[0m     \u001b[38;5;28;01mreturn\u001b[39;00m \u001b[43mnp\u001b[49m\u001b[38;5;241;43m.\u001b[39;49m\u001b[43mpercentile\u001b[49m\u001b[43m(\u001b[49m\n\u001b[0;32m    219\u001b[0m \u001b[43m        \u001b[49m\u001b[43mvalues\u001b[49m\u001b[43m,\u001b[49m\n\u001b[0;32m    220\u001b[0m \u001b[43m        \u001b[49m\u001b[43mqs\u001b[49m\u001b[43m,\u001b[49m\n\u001b[0;32m    221\u001b[0m \u001b[43m        \u001b[49m\u001b[43maxis\u001b[49m\u001b[38;5;241;43m=\u001b[39;49m\u001b[38;5;241;43m1\u001b[39;49m\u001b[43m,\u001b[49m\n\u001b[0;32m    222\u001b[0m \u001b[43m        \u001b[49m\u001b[38;5;66;43;03m# error: No overload variant of \"percentile\" matches argument types\u001b[39;49;00m\n\u001b[0;32m    223\u001b[0m \u001b[43m        \u001b[49m\u001b[38;5;66;43;03m# \"ndarray[Any, Any]\", \"ndarray[Any, dtype[floating[_64Bit]]]\",\u001b[39;49;00m\n\u001b[0;32m    224\u001b[0m \u001b[43m        \u001b[49m\u001b[38;5;66;43;03m# \"int\", \"Dict[str, str]\"  [call-overload]\u001b[39;49;00m\n\u001b[0;32m    225\u001b[0m \u001b[43m        \u001b[49m\u001b[43mmethod\u001b[49m\u001b[38;5;241;43m=\u001b[39;49m\u001b[43minterpolation\u001b[49m\u001b[43m,\u001b[49m\u001b[43m  \u001b[49m\u001b[38;5;66;43;03m# type: ignore[call-overload]\u001b[39;49;00m\n\u001b[0;32m    226\u001b[0m \u001b[43m    \u001b[49m\u001b[43m)\u001b[49m\n",
      "File \u001b[1;32m~\\PycharmProjects\\Data_analysis\\.venv\\lib\\site-packages\\numpy\\lib\\_function_base_impl.py:4273\u001b[0m, in \u001b[0;36mpercentile\u001b[1;34m(a, q, axis, out, overwrite_input, method, keepdims, weights, interpolation)\u001b[0m\n\u001b[0;32m   4270\u001b[0m     \u001b[38;5;28;01mif\u001b[39;00m np\u001b[38;5;241m.\u001b[39many(weights \u001b[38;5;241m<\u001b[39m \u001b[38;5;241m0\u001b[39m):\n\u001b[0;32m   4271\u001b[0m         \u001b[38;5;28;01mraise\u001b[39;00m \u001b[38;5;167;01mValueError\u001b[39;00m(\u001b[38;5;124m\"\u001b[39m\u001b[38;5;124mWeights must be non-negative.\u001b[39m\u001b[38;5;124m\"\u001b[39m)\n\u001b[1;32m-> 4273\u001b[0m \u001b[38;5;28;01mreturn\u001b[39;00m \u001b[43m_quantile_unchecked\u001b[49m\u001b[43m(\u001b[49m\n\u001b[0;32m   4274\u001b[0m \u001b[43m    \u001b[49m\u001b[43ma\u001b[49m\u001b[43m,\u001b[49m\u001b[43m \u001b[49m\u001b[43mq\u001b[49m\u001b[43m,\u001b[49m\u001b[43m \u001b[49m\u001b[43maxis\u001b[49m\u001b[43m,\u001b[49m\u001b[43m \u001b[49m\u001b[43mout\u001b[49m\u001b[43m,\u001b[49m\u001b[43m \u001b[49m\u001b[43moverwrite_input\u001b[49m\u001b[43m,\u001b[49m\u001b[43m \u001b[49m\u001b[43mmethod\u001b[49m\u001b[43m,\u001b[49m\u001b[43m \u001b[49m\u001b[43mkeepdims\u001b[49m\u001b[43m,\u001b[49m\u001b[43m \u001b[49m\u001b[43mweights\u001b[49m\u001b[43m)\u001b[49m\n",
      "File \u001b[1;32m~\\PycharmProjects\\Data_analysis\\.venv\\lib\\site-packages\\numpy\\lib\\_function_base_impl.py:4550\u001b[0m, in \u001b[0;36m_quantile_unchecked\u001b[1;34m(a, q, axis, out, overwrite_input, method, keepdims, weights)\u001b[0m\n\u001b[0;32m   4541\u001b[0m \u001b[38;5;28;01mdef\u001b[39;00m\u001b[38;5;250m \u001b[39m\u001b[38;5;21m_quantile_unchecked\u001b[39m(a,\n\u001b[0;32m   4542\u001b[0m                         q,\n\u001b[0;32m   4543\u001b[0m                         axis\u001b[38;5;241m=\u001b[39m\u001b[38;5;28;01mNone\u001b[39;00m,\n\u001b[1;32m   (...)\u001b[0m\n\u001b[0;32m   4547\u001b[0m                         keepdims\u001b[38;5;241m=\u001b[39m\u001b[38;5;28;01mFalse\u001b[39;00m,\n\u001b[0;32m   4548\u001b[0m                         weights\u001b[38;5;241m=\u001b[39m\u001b[38;5;28;01mNone\u001b[39;00m):\n\u001b[0;32m   4549\u001b[0m \u001b[38;5;250m    \u001b[39m\u001b[38;5;124;03m\"\"\"Assumes that q is in [0, 1], and is an ndarray\"\"\"\u001b[39;00m\n\u001b[1;32m-> 4550\u001b[0m     \u001b[38;5;28;01mreturn\u001b[39;00m \u001b[43m_ureduce\u001b[49m\u001b[43m(\u001b[49m\u001b[43ma\u001b[49m\u001b[43m,\u001b[49m\n\u001b[0;32m   4551\u001b[0m \u001b[43m                    \u001b[49m\u001b[43mfunc\u001b[49m\u001b[38;5;241;43m=\u001b[39;49m\u001b[43m_quantile_ureduce_func\u001b[49m\u001b[43m,\u001b[49m\n\u001b[0;32m   4552\u001b[0m \u001b[43m                    \u001b[49m\u001b[43mq\u001b[49m\u001b[38;5;241;43m=\u001b[39;49m\u001b[43mq\u001b[49m\u001b[43m,\u001b[49m\n\u001b[0;32m   4553\u001b[0m \u001b[43m                    \u001b[49m\u001b[43mweights\u001b[49m\u001b[38;5;241;43m=\u001b[39;49m\u001b[43mweights\u001b[49m\u001b[43m,\u001b[49m\n\u001b[0;32m   4554\u001b[0m \u001b[43m                    \u001b[49m\u001b[43mkeepdims\u001b[49m\u001b[38;5;241;43m=\u001b[39;49m\u001b[43mkeepdims\u001b[49m\u001b[43m,\u001b[49m\n\u001b[0;32m   4555\u001b[0m \u001b[43m                    \u001b[49m\u001b[43maxis\u001b[49m\u001b[38;5;241;43m=\u001b[39;49m\u001b[43maxis\u001b[49m\u001b[43m,\u001b[49m\n\u001b[0;32m   4556\u001b[0m \u001b[43m                    \u001b[49m\u001b[43mout\u001b[49m\u001b[38;5;241;43m=\u001b[39;49m\u001b[43mout\u001b[49m\u001b[43m,\u001b[49m\n\u001b[0;32m   4557\u001b[0m \u001b[43m                    \u001b[49m\u001b[43moverwrite_input\u001b[49m\u001b[38;5;241;43m=\u001b[39;49m\u001b[43moverwrite_input\u001b[49m\u001b[43m,\u001b[49m\n\u001b[0;32m   4558\u001b[0m \u001b[43m                    \u001b[49m\u001b[43mmethod\u001b[49m\u001b[38;5;241;43m=\u001b[39;49m\u001b[43mmethod\u001b[49m\u001b[43m)\u001b[49m\n",
      "File \u001b[1;32m~\\PycharmProjects\\Data_analysis\\.venv\\lib\\site-packages\\numpy\\lib\\_function_base_impl.py:3894\u001b[0m, in \u001b[0;36m_ureduce\u001b[1;34m(a, func, keepdims, **kwargs)\u001b[0m\n\u001b[0;32m   3891\u001b[0m             index_out \u001b[38;5;241m=\u001b[39m (\u001b[38;5;241m0\u001b[39m, ) \u001b[38;5;241m*\u001b[39m nd\n\u001b[0;32m   3892\u001b[0m             kwargs[\u001b[38;5;124m'\u001b[39m\u001b[38;5;124mout\u001b[39m\u001b[38;5;124m'\u001b[39m] \u001b[38;5;241m=\u001b[39m out[(\u001b[38;5;28mEllipsis\u001b[39m, ) \u001b[38;5;241m+\u001b[39m index_out]\n\u001b[1;32m-> 3894\u001b[0m r \u001b[38;5;241m=\u001b[39m func(a, \u001b[38;5;241m*\u001b[39m\u001b[38;5;241m*\u001b[39mkwargs)\n\u001b[0;32m   3896\u001b[0m \u001b[38;5;28;01mif\u001b[39;00m out \u001b[38;5;129;01mis\u001b[39;00m \u001b[38;5;129;01mnot\u001b[39;00m \u001b[38;5;28;01mNone\u001b[39;00m:\n\u001b[0;32m   3897\u001b[0m     \u001b[38;5;28;01mreturn\u001b[39;00m out\n",
      "File \u001b[1;32m~\\PycharmProjects\\Data_analysis\\.venv\\lib\\site-packages\\numpy\\lib\\_function_base_impl.py:4727\u001b[0m, in \u001b[0;36m_quantile_ureduce_func\u001b[1;34m(a, q, weights, axis, out, overwrite_input, method)\u001b[0m\n\u001b[0;32m   4725\u001b[0m         arr \u001b[38;5;241m=\u001b[39m a\u001b[38;5;241m.\u001b[39mcopy()\n\u001b[0;32m   4726\u001b[0m         wgt \u001b[38;5;241m=\u001b[39m weights\n\u001b[1;32m-> 4727\u001b[0m result \u001b[38;5;241m=\u001b[39m \u001b[43m_quantile\u001b[49m\u001b[43m(\u001b[49m\u001b[43marr\u001b[49m\u001b[43m,\u001b[49m\n\u001b[0;32m   4728\u001b[0m \u001b[43m                   \u001b[49m\u001b[43mquantiles\u001b[49m\u001b[38;5;241;43m=\u001b[39;49m\u001b[43mq\u001b[49m\u001b[43m,\u001b[49m\n\u001b[0;32m   4729\u001b[0m \u001b[43m                   \u001b[49m\u001b[43maxis\u001b[49m\u001b[38;5;241;43m=\u001b[39;49m\u001b[43maxis\u001b[49m\u001b[43m,\u001b[49m\n\u001b[0;32m   4730\u001b[0m \u001b[43m                   \u001b[49m\u001b[43mmethod\u001b[49m\u001b[38;5;241;43m=\u001b[39;49m\u001b[43mmethod\u001b[49m\u001b[43m,\u001b[49m\n\u001b[0;32m   4731\u001b[0m \u001b[43m                   \u001b[49m\u001b[43mout\u001b[49m\u001b[38;5;241;43m=\u001b[39;49m\u001b[43mout\u001b[49m\u001b[43m,\u001b[49m\n\u001b[0;32m   4732\u001b[0m \u001b[43m                   \u001b[49m\u001b[43mweights\u001b[49m\u001b[38;5;241;43m=\u001b[39;49m\u001b[43mwgt\u001b[49m\u001b[43m)\u001b[49m\n\u001b[0;32m   4733\u001b[0m \u001b[38;5;28;01mreturn\u001b[39;00m result\n",
      "File \u001b[1;32m~\\PycharmProjects\\Data_analysis\\.venv\\lib\\site-packages\\numpy\\lib\\_function_base_impl.py:4859\u001b[0m, in \u001b[0;36m_quantile\u001b[1;34m(arr, quantiles, axis, method, out, weights)\u001b[0m\n\u001b[0;32m   4857\u001b[0m         result_shape \u001b[38;5;241m=\u001b[39m virtual_indexes\u001b[38;5;241m.\u001b[39mshape \u001b[38;5;241m+\u001b[39m (\u001b[38;5;241m1\u001b[39m,) \u001b[38;5;241m*\u001b[39m (arr\u001b[38;5;241m.\u001b[39mndim \u001b[38;5;241m-\u001b[39m \u001b[38;5;241m1\u001b[39m)\n\u001b[0;32m   4858\u001b[0m         gamma \u001b[38;5;241m=\u001b[39m gamma\u001b[38;5;241m.\u001b[39mreshape(result_shape)\n\u001b[1;32m-> 4859\u001b[0m         result \u001b[38;5;241m=\u001b[39m \u001b[43m_lerp\u001b[49m\u001b[43m(\u001b[49m\u001b[43mprevious\u001b[49m\u001b[43m,\u001b[49m\n\u001b[0;32m   4860\u001b[0m \u001b[43m                    \u001b[49m\u001b[38;5;28;43mnext\u001b[39;49m\u001b[43m,\u001b[49m\n\u001b[0;32m   4861\u001b[0m \u001b[43m                    \u001b[49m\u001b[43mgamma\u001b[49m\u001b[43m,\u001b[49m\n\u001b[0;32m   4862\u001b[0m \u001b[43m                    \u001b[49m\u001b[43mout\u001b[49m\u001b[38;5;241;43m=\u001b[39;49m\u001b[43mout\u001b[49m\u001b[43m)\u001b[49m\n\u001b[0;32m   4863\u001b[0m \u001b[38;5;28;01melse\u001b[39;00m:\n\u001b[0;32m   4864\u001b[0m     \u001b[38;5;66;03m# Weighted case\u001b[39;00m\n\u001b[0;32m   4865\u001b[0m     \u001b[38;5;66;03m# This implements method=\"inverted_cdf\", the only supported weighted\u001b[39;00m\n\u001b[0;32m   4866\u001b[0m     \u001b[38;5;66;03m# method, which needs to sort anyway.\u001b[39;00m\n\u001b[0;32m   4867\u001b[0m     weights \u001b[38;5;241m=\u001b[39m np\u001b[38;5;241m.\u001b[39masanyarray(weights)\n",
      "File \u001b[1;32m~\\PycharmProjects\\Data_analysis\\.venv\\lib\\site-packages\\numpy\\lib\\_function_base_impl.py:4653\u001b[0m, in \u001b[0;36m_lerp\u001b[1;34m(a, b, t, out)\u001b[0m\n\u001b[0;32m   4639\u001b[0m \u001b[38;5;28;01mdef\u001b[39;00m\u001b[38;5;250m \u001b[39m\u001b[38;5;21m_lerp\u001b[39m(a, b, t, out\u001b[38;5;241m=\u001b[39m\u001b[38;5;28;01mNone\u001b[39;00m):\n\u001b[0;32m   4640\u001b[0m \u001b[38;5;250m    \u001b[39m\u001b[38;5;124;03m\"\"\"\u001b[39;00m\n\u001b[0;32m   4641\u001b[0m \u001b[38;5;124;03m    Compute the linear interpolation weighted by gamma on each point of\u001b[39;00m\n\u001b[0;32m   4642\u001b[0m \u001b[38;5;124;03m    two same shape array.\u001b[39;00m\n\u001b[1;32m   (...)\u001b[0m\n\u001b[0;32m   4651\u001b[0m \u001b[38;5;124;03m        Output array.\u001b[39;00m\n\u001b[0;32m   4652\u001b[0m \u001b[38;5;124;03m    \"\"\"\u001b[39;00m\n\u001b[1;32m-> 4653\u001b[0m     diff_b_a \u001b[38;5;241m=\u001b[39m \u001b[43msubtract\u001b[49m\u001b[43m(\u001b[49m\u001b[43mb\u001b[49m\u001b[43m,\u001b[49m\u001b[43m \u001b[49m\u001b[43ma\u001b[49m\u001b[43m)\u001b[49m\n\u001b[0;32m   4654\u001b[0m     \u001b[38;5;66;03m# asanyarray is a stop-gap until gh-13105\u001b[39;00m\n\u001b[0;32m   4655\u001b[0m     lerp_interpolation \u001b[38;5;241m=\u001b[39m asanyarray(add(a, diff_b_a \u001b[38;5;241m*\u001b[39m t, out\u001b[38;5;241m=\u001b[39mout))\n",
      "\u001b[1;31mTypeError\u001b[0m: unsupported operand type(s) for -: 'str' and 'str'"
     ]
    }
   ],
   "source": [
    "df.quantile([.2, .4, .6, .8])"
   ]
  },
  {
   "cell_type": "code",
   "execution_count": 105,
   "id": "fa9db7b4-aee0-4d81-9931-86dc3827815d",
   "metadata": {},
   "outputs": [
    {
     "data": {
      "text/plain": [
       "<bound method DataFrame.mode of          Population  Gross Domestic Product  Human Development Index  \\\n",
       "Canada       35.200               1785387.0                   0.9123   \n",
       "France       63.951               2833687.0                   0.8880   \n",
       "Germany      80.940               3874437.0                   0.9160   \n",
       "Italy        60.665               2167744.0                   0.8730   \n",
       "Japan       127.061               4602367.0                   0.8910   \n",
       "UK           64.511               2950039.0                   0.9070   \n",
       "USA         318.523              17348075.0                   0.9150   \n",
       "China      1400.000                     NaN                      NaN   \n",
       "\n",
       "        Continent  Surface Area  Language  GDP per Capita  \n",
       "Canada    America     9984670.0       NaN    50721.221591  \n",
       "France     Europe      640479.0    French    44310.284437  \n",
       "Germany    Europe      357114.0    German    47868.013343  \n",
       "Italy      Europe      301336.0   Italian    35733.025633  \n",
       "Japan        Asia      377930.0       NaN    36221.712406  \n",
       "UK         Europe      242495.0       NaN    45729.239975  \n",
       "USA       America     9525067.0       NaN    54464.120330  \n",
       "China        Asia           NaN  Mandarin             NaN  >"
      ]
     },
     "execution_count": 105,
     "metadata": {},
     "output_type": "execute_result"
    }
   ],
   "source": [
    "df.mode"
   ]
  },
  {
   "cell_type": "markdown",
   "id": "019c9b45-5d80-488c-812f-49a3bb697717",
   "metadata": {},
   "source": [
    "## 2.8 Corr (Corrolation = dependancy)"
   ]
  },
  {
   "cell_type": "code",
   "execution_count": 110,
   "id": "19f8d0f6-dc05-4471-9bba-bf0d38c313a7",
   "metadata": {
    "scrolled": true
   },
   "outputs": [
    {
     "ename": "ValueError",
     "evalue": "could not convert string to float: 'America'",
     "output_type": "error",
     "traceback": [
      "\u001b[1;31m---------------------------------------------------------------------------\u001b[0m",
      "\u001b[1;31mValueError\u001b[0m                                Traceback (most recent call last)",
      "Cell \u001b[1;32mIn[110], line 1\u001b[0m\n\u001b[1;32m----> 1\u001b[0m \u001b[43mdf\u001b[49m\u001b[38;5;241;43m.\u001b[39;49m\u001b[43mcorr\u001b[49m\u001b[43m(\u001b[49m\u001b[43m)\u001b[49m \n",
      "File \u001b[1;32m~\\PycharmProjects\\Data_analysis\\.venv\\lib\\site-packages\\pandas\\core\\frame.py:11049\u001b[0m, in \u001b[0;36mDataFrame.corr\u001b[1;34m(self, method, min_periods, numeric_only)\u001b[0m\n\u001b[0;32m  11047\u001b[0m cols \u001b[38;5;241m=\u001b[39m data\u001b[38;5;241m.\u001b[39mcolumns\n\u001b[0;32m  11048\u001b[0m idx \u001b[38;5;241m=\u001b[39m cols\u001b[38;5;241m.\u001b[39mcopy()\n\u001b[1;32m> 11049\u001b[0m mat \u001b[38;5;241m=\u001b[39m \u001b[43mdata\u001b[49m\u001b[38;5;241;43m.\u001b[39;49m\u001b[43mto_numpy\u001b[49m\u001b[43m(\u001b[49m\u001b[43mdtype\u001b[49m\u001b[38;5;241;43m=\u001b[39;49m\u001b[38;5;28;43mfloat\u001b[39;49m\u001b[43m,\u001b[49m\u001b[43m \u001b[49m\u001b[43mna_value\u001b[49m\u001b[38;5;241;43m=\u001b[39;49m\u001b[43mnp\u001b[49m\u001b[38;5;241;43m.\u001b[39;49m\u001b[43mnan\u001b[49m\u001b[43m,\u001b[49m\u001b[43m \u001b[49m\u001b[43mcopy\u001b[49m\u001b[38;5;241;43m=\u001b[39;49m\u001b[38;5;28;43;01mFalse\u001b[39;49;00m\u001b[43m)\u001b[49m\n\u001b[0;32m  11051\u001b[0m \u001b[38;5;28;01mif\u001b[39;00m method \u001b[38;5;241m==\u001b[39m \u001b[38;5;124m\"\u001b[39m\u001b[38;5;124mpearson\u001b[39m\u001b[38;5;124m\"\u001b[39m:\n\u001b[0;32m  11052\u001b[0m     correl \u001b[38;5;241m=\u001b[39m libalgos\u001b[38;5;241m.\u001b[39mnancorr(mat, minp\u001b[38;5;241m=\u001b[39mmin_periods)\n",
      "File \u001b[1;32m~\\PycharmProjects\\Data_analysis\\.venv\\lib\\site-packages\\pandas\\core\\frame.py:1993\u001b[0m, in \u001b[0;36mDataFrame.to_numpy\u001b[1;34m(self, dtype, copy, na_value)\u001b[0m\n\u001b[0;32m   1991\u001b[0m \u001b[38;5;28;01mif\u001b[39;00m dtype \u001b[38;5;129;01mis\u001b[39;00m \u001b[38;5;129;01mnot\u001b[39;00m \u001b[38;5;28;01mNone\u001b[39;00m:\n\u001b[0;32m   1992\u001b[0m     dtype \u001b[38;5;241m=\u001b[39m np\u001b[38;5;241m.\u001b[39mdtype(dtype)\n\u001b[1;32m-> 1993\u001b[0m result \u001b[38;5;241m=\u001b[39m \u001b[38;5;28;43mself\u001b[39;49m\u001b[38;5;241;43m.\u001b[39;49m\u001b[43m_mgr\u001b[49m\u001b[38;5;241;43m.\u001b[39;49m\u001b[43mas_array\u001b[49m\u001b[43m(\u001b[49m\u001b[43mdtype\u001b[49m\u001b[38;5;241;43m=\u001b[39;49m\u001b[43mdtype\u001b[49m\u001b[43m,\u001b[49m\u001b[43m \u001b[49m\u001b[43mcopy\u001b[49m\u001b[38;5;241;43m=\u001b[39;49m\u001b[43mcopy\u001b[49m\u001b[43m,\u001b[49m\u001b[43m \u001b[49m\u001b[43mna_value\u001b[49m\u001b[38;5;241;43m=\u001b[39;49m\u001b[43mna_value\u001b[49m\u001b[43m)\u001b[49m\n\u001b[0;32m   1994\u001b[0m \u001b[38;5;28;01mif\u001b[39;00m result\u001b[38;5;241m.\u001b[39mdtype \u001b[38;5;129;01mis\u001b[39;00m \u001b[38;5;129;01mnot\u001b[39;00m dtype:\n\u001b[0;32m   1995\u001b[0m     result \u001b[38;5;241m=\u001b[39m np\u001b[38;5;241m.\u001b[39masarray(result, dtype\u001b[38;5;241m=\u001b[39mdtype)\n",
      "File \u001b[1;32m~\\PycharmProjects\\Data_analysis\\.venv\\lib\\site-packages\\pandas\\core\\internals\\managers.py:1694\u001b[0m, in \u001b[0;36mBlockManager.as_array\u001b[1;34m(self, dtype, copy, na_value)\u001b[0m\n\u001b[0;32m   1692\u001b[0m         arr\u001b[38;5;241m.\u001b[39mflags\u001b[38;5;241m.\u001b[39mwriteable \u001b[38;5;241m=\u001b[39m \u001b[38;5;28;01mFalse\u001b[39;00m\n\u001b[0;32m   1693\u001b[0m \u001b[38;5;28;01melse\u001b[39;00m:\n\u001b[1;32m-> 1694\u001b[0m     arr \u001b[38;5;241m=\u001b[39m \u001b[38;5;28;43mself\u001b[39;49m\u001b[38;5;241;43m.\u001b[39;49m\u001b[43m_interleave\u001b[49m\u001b[43m(\u001b[49m\u001b[43mdtype\u001b[49m\u001b[38;5;241;43m=\u001b[39;49m\u001b[43mdtype\u001b[49m\u001b[43m,\u001b[49m\u001b[43m \u001b[49m\u001b[43mna_value\u001b[49m\u001b[38;5;241;43m=\u001b[39;49m\u001b[43mna_value\u001b[49m\u001b[43m)\u001b[49m\n\u001b[0;32m   1695\u001b[0m     \u001b[38;5;66;03m# The underlying data was copied within _interleave, so no need\u001b[39;00m\n\u001b[0;32m   1696\u001b[0m     \u001b[38;5;66;03m# to further copy if copy=True or setting na_value\u001b[39;00m\n\u001b[0;32m   1698\u001b[0m \u001b[38;5;28;01mif\u001b[39;00m na_value \u001b[38;5;129;01mis\u001b[39;00m lib\u001b[38;5;241m.\u001b[39mno_default:\n",
      "File \u001b[1;32m~\\PycharmProjects\\Data_analysis\\.venv\\lib\\site-packages\\pandas\\core\\internals\\managers.py:1753\u001b[0m, in \u001b[0;36mBlockManager._interleave\u001b[1;34m(self, dtype, na_value)\u001b[0m\n\u001b[0;32m   1751\u001b[0m     \u001b[38;5;28;01melse\u001b[39;00m:\n\u001b[0;32m   1752\u001b[0m         arr \u001b[38;5;241m=\u001b[39m blk\u001b[38;5;241m.\u001b[39mget_values(dtype)\n\u001b[1;32m-> 1753\u001b[0m     \u001b[43mresult\u001b[49m\u001b[43m[\u001b[49m\u001b[43mrl\u001b[49m\u001b[38;5;241;43m.\u001b[39;49m\u001b[43mindexer\u001b[49m\u001b[43m]\u001b[49m \u001b[38;5;241m=\u001b[39m arr\n\u001b[0;32m   1754\u001b[0m     itemmask[rl\u001b[38;5;241m.\u001b[39mindexer] \u001b[38;5;241m=\u001b[39m \u001b[38;5;241m1\u001b[39m\n\u001b[0;32m   1756\u001b[0m \u001b[38;5;28;01mif\u001b[39;00m \u001b[38;5;129;01mnot\u001b[39;00m itemmask\u001b[38;5;241m.\u001b[39mall():\n",
      "\u001b[1;31mValueError\u001b[0m: could not convert string to float: 'America'"
     ]
    }
   ],
   "source": [
    "df.corr() "
   ]
  },
  {
   "cell_type": "code",
   "execution_count": null,
   "id": "8550b2c2-18f8-4ee5-a657-bf5e0d0b1a27",
   "metadata": {},
   "outputs": [],
   "source": []
  }
 ],
 "metadata": {
  "kernelspec": {
   "display_name": "Python 3 (ipykernel)",
   "language": "python",
   "name": "python3"
  },
  "language_info": {
   "codemirror_mode": {
    "name": "ipython",
    "version": 3
   },
   "file_extension": ".py",
   "mimetype": "text/x-python",
   "name": "python",
   "nbconvert_exporter": "python",
   "pygments_lexer": "ipython3",
   "version": "3.10.4"
  }
 },
 "nbformat": 4,
 "nbformat_minor": 5
}
